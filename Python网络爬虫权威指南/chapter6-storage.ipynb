{
 "cells": [
  {
   "cell_type": "markdown",
   "metadata": {},
   "source": [
    "用来获取网页内容的 urllib 库还包含有用来获取文件内容的方法。下面的程序使用 urllib.request.urlretrieve 从远程 URL 下载图片:"
   ]
  },
  {
   "cell_type": "code",
   "execution_count": 2,
   "metadata": {},
   "outputs": [],
   "source": [
    "from urllib.request import urlretrieve\n",
    "from urllib.request import urlopen\n",
    "from bs4 import BeautifulSoup\n",
    "\n",
    "html = urlopen(\"http://www.pythonscraping.com\")"
   ]
  },
  {
   "cell_type": "code",
   "execution_count": 3,
   "metadata": {},
   "outputs": [],
   "source": [
    "bs = BeautifulSoup(html, 'html.parser')\n"
   ]
  },
  {
   "cell_type": "code",
   "execution_count": 5,
   "metadata": {},
   "outputs": [],
   "source": [
    "imageLocation = bs.find('div', {'class': 'pagelayer-image-holder pagelayer-anim-par'}).find('img')['src']"
   ]
  },
  {
   "cell_type": "code",
   "execution_count": 7,
   "metadata": {},
   "outputs": [
    {
     "data": {
      "text/plain": [
       "('data_output/logo.jpg', <http.client.HTTPMessage at 0x7fa2ff56fee0>)"
      ]
     },
     "execution_count": 7,
     "metadata": {},
     "output_type": "execute_result"
    }
   ],
   "source": [
    "urlretrieve (imageLocation, 'data_output/logo.jpg')"
   ]
  },
  {
   "cell_type": "markdown",
   "metadata": {},
   "source": [
    "如果你只需要下载一个文件，而且知道如何获取它，以及它的文件类型，这么做就可以 了。但是大多数爬虫都不可能一天只下载一个文件。下面的程序会把 http://pythonscraping. com 主页上所有 src 属性的内部文件都下载下来"
   ]
  },
  {
   "cell_type": "code",
   "execution_count": 8,
   "metadata": {},
   "outputs": [],
   "source": [
    "import os \n",
    "from urllib.request import urlretrieve\n",
    "from urllib.request import urlopen\n",
    "from bs4 import BeautifulSoup"
   ]
  },
  {
   "cell_type": "code",
   "execution_count": 9,
   "metadata": {},
   "outputs": [],
   "source": [
    "downloadDirectory = 'downloaded'\n",
    "baseUrl = \"http://www.pythonscraping.com\""
   ]
  },
  {
   "cell_type": "code",
   "execution_count": 10,
   "metadata": {},
   "outputs": [],
   "source": [
    "'''得到绝对路径'''\n",
    "def getAbsoluteUrl(baseUrl,source):\n",
    "    if source.startswith(\"http://www.\"):\n",
    "        url = 'http://{}'.format(source[11:])\n",
    "    elif source.startswith(\"http://\"):\n",
    "        url = source\n",
    "    elif source.startswith('www.'):\n",
    "        url = source[4:]\n",
    "        url = 'http://{}'.format(source)\n",
    "    else:\n",
    "        url = '{}/{}'.format(baseUrl, source)\n",
    "\n",
    "    if baseUrl not in url:\n",
    "        return None\n",
    "    return url"
   ]
  },
  {
   "cell_type": "code",
   "execution_count": 16,
   "metadata": {},
   "outputs": [],
   "source": [
    "'''下载路径'''\n",
    "from http.client import HTTPException\n",
    "\n",
    "\n",
    "def getDownloadPath(baseUrl,absoluteUrl,downloadDirectory):\n",
    "    try:\n",
    "        path = absoluteUrl.replace(\"www\",\"\")\n",
    "        path = path.replace(baseUrl, '')\n",
    "        path = downloadDirectory+path\n",
    "        directory = os.path.dirname(path)\n",
    "\n",
    "        if not os.path.exists(directory):\n",
    "            os.makedirs(directory)\n",
    "    except HTTPException as e:\n",
    "        print(e)\n",
    "        pass \n",
    "    \n",
    "    return path \n"
   ]
  },
  {
   "cell_type": "code",
   "execution_count": 17,
   "metadata": {},
   "outputs": [],
   "source": [
    "html = urlopen('http://www.pythonscraping.com')\n",
    "bs = BeautifulSoup(html, 'html.parser')\n",
    "downloadList = bs.findAll(src=True)"
   ]
  },
  {
   "cell_type": "code",
   "execution_count": 18,
   "metadata": {},
   "outputs": [
    {
     "name": "stdout",
     "output_type": "stream",
     "text": [
      "http://www.pythonscraping.com/https://pythonscraping.com/wp-includes/js/jquery/jquery.min.js?ver=3.6.0\n"
     ]
    },
    {
     "ename": "HTTPError",
     "evalue": "HTTP Error 404: Not Found",
     "output_type": "error",
     "traceback": [
      "\u001b[0;31m---------------------------------------------------------------------------\u001b[0m",
      "\u001b[0;31mHTTPError\u001b[0m                                 Traceback (most recent call last)",
      "\u001b[1;32m/Users/danyow/Desktop/extra-learning/spyier/chapter6-storage.ipynb Cell 12\u001b[0m in \u001b[0;36m<cell line: 1>\u001b[0;34m()\u001b[0m\n\u001b[1;32m      <a href='vscode-notebook-cell:/Users/danyow/Desktop/extra-learning/spyier/chapter6-storage.ipynb#X14sZmlsZQ%3D%3D?line=2'>3</a>\u001b[0m \u001b[39mif\u001b[39;00m fileurl \u001b[39mis\u001b[39;00m \u001b[39mnot\u001b[39;00m \u001b[39mNone\u001b[39;00m:\n\u001b[1;32m      <a href='vscode-notebook-cell:/Users/danyow/Desktop/extra-learning/spyier/chapter6-storage.ipynb#X14sZmlsZQ%3D%3D?line=3'>4</a>\u001b[0m     \u001b[39mprint\u001b[39m(fileurl)\n\u001b[0;32m----> <a href='vscode-notebook-cell:/Users/danyow/Desktop/extra-learning/spyier/chapter6-storage.ipynb#X14sZmlsZQ%3D%3D?line=4'>5</a>\u001b[0m     urlretrieve(fileurl,getDownloadPath(baseUrl,fileurl,downloadDirectory))\n",
      "File \u001b[0;32m/Library/Frameworks/Python.framework/Versions/3.9/lib/python3.9/urllib/request.py:239\u001b[0m, in \u001b[0;36murlretrieve\u001b[0;34m(url, filename, reporthook, data)\u001b[0m\n\u001b[1;32m    222\u001b[0m \u001b[39m\"\"\"\u001b[39;00m\n\u001b[1;32m    223\u001b[0m \u001b[39mRetrieve a URL into a temporary location on disk.\u001b[39;00m\n\u001b[1;32m    224\u001b[0m \n\u001b[0;32m   (...)\u001b[0m\n\u001b[1;32m    235\u001b[0m \u001b[39mdata file as well as the resulting HTTPMessage object.\u001b[39;00m\n\u001b[1;32m    236\u001b[0m \u001b[39m\"\"\"\u001b[39;00m\n\u001b[1;32m    237\u001b[0m url_type, path \u001b[39m=\u001b[39m _splittype(url)\n\u001b[0;32m--> 239\u001b[0m \u001b[39mwith\u001b[39;00m contextlib\u001b[39m.\u001b[39mclosing(urlopen(url, data)) \u001b[39mas\u001b[39;00m fp:\n\u001b[1;32m    240\u001b[0m     headers \u001b[39m=\u001b[39m fp\u001b[39m.\u001b[39minfo()\n\u001b[1;32m    242\u001b[0m     \u001b[39m# Just return the local path and the \"headers\" for file://\u001b[39;00m\n\u001b[1;32m    243\u001b[0m     \u001b[39m# URLs. No sense in performing a copy unless requested.\u001b[39;00m\n",
      "File \u001b[0;32m/Library/Frameworks/Python.framework/Versions/3.9/lib/python3.9/urllib/request.py:214\u001b[0m, in \u001b[0;36murlopen\u001b[0;34m(url, data, timeout, cafile, capath, cadefault, context)\u001b[0m\n\u001b[1;32m    212\u001b[0m \u001b[39melse\u001b[39;00m:\n\u001b[1;32m    213\u001b[0m     opener \u001b[39m=\u001b[39m _opener\n\u001b[0;32m--> 214\u001b[0m \u001b[39mreturn\u001b[39;00m opener\u001b[39m.\u001b[39;49mopen(url, data, timeout)\n",
      "File \u001b[0;32m/Library/Frameworks/Python.framework/Versions/3.9/lib/python3.9/urllib/request.py:523\u001b[0m, in \u001b[0;36mOpenerDirector.open\u001b[0;34m(self, fullurl, data, timeout)\u001b[0m\n\u001b[1;32m    521\u001b[0m \u001b[39mfor\u001b[39;00m processor \u001b[39min\u001b[39;00m \u001b[39mself\u001b[39m\u001b[39m.\u001b[39mprocess_response\u001b[39m.\u001b[39mget(protocol, []):\n\u001b[1;32m    522\u001b[0m     meth \u001b[39m=\u001b[39m \u001b[39mgetattr\u001b[39m(processor, meth_name)\n\u001b[0;32m--> 523\u001b[0m     response \u001b[39m=\u001b[39m meth(req, response)\n\u001b[1;32m    525\u001b[0m \u001b[39mreturn\u001b[39;00m response\n",
      "File \u001b[0;32m/Library/Frameworks/Python.framework/Versions/3.9/lib/python3.9/urllib/request.py:632\u001b[0m, in \u001b[0;36mHTTPErrorProcessor.http_response\u001b[0;34m(self, request, response)\u001b[0m\n\u001b[1;32m    629\u001b[0m \u001b[39m# According to RFC 2616, \"2xx\" code indicates that the client's\u001b[39;00m\n\u001b[1;32m    630\u001b[0m \u001b[39m# request was successfully received, understood, and accepted.\u001b[39;00m\n\u001b[1;32m    631\u001b[0m \u001b[39mif\u001b[39;00m \u001b[39mnot\u001b[39;00m (\u001b[39m200\u001b[39m \u001b[39m<\u001b[39m\u001b[39m=\u001b[39m code \u001b[39m<\u001b[39m \u001b[39m300\u001b[39m):\n\u001b[0;32m--> 632\u001b[0m     response \u001b[39m=\u001b[39m \u001b[39mself\u001b[39;49m\u001b[39m.\u001b[39;49mparent\u001b[39m.\u001b[39;49merror(\n\u001b[1;32m    633\u001b[0m         \u001b[39m'\u001b[39;49m\u001b[39mhttp\u001b[39;49m\u001b[39m'\u001b[39;49m, request, response, code, msg, hdrs)\n\u001b[1;32m    635\u001b[0m \u001b[39mreturn\u001b[39;00m response\n",
      "File \u001b[0;32m/Library/Frameworks/Python.framework/Versions/3.9/lib/python3.9/urllib/request.py:555\u001b[0m, in \u001b[0;36mOpenerDirector.error\u001b[0;34m(self, proto, *args)\u001b[0m\n\u001b[1;32m    553\u001b[0m     http_err \u001b[39m=\u001b[39m \u001b[39m0\u001b[39m\n\u001b[1;32m    554\u001b[0m args \u001b[39m=\u001b[39m (\u001b[39mdict\u001b[39m, proto, meth_name) \u001b[39m+\u001b[39m args\n\u001b[0;32m--> 555\u001b[0m result \u001b[39m=\u001b[39m \u001b[39mself\u001b[39;49m\u001b[39m.\u001b[39;49m_call_chain(\u001b[39m*\u001b[39;49margs)\n\u001b[1;32m    556\u001b[0m \u001b[39mif\u001b[39;00m result:\n\u001b[1;32m    557\u001b[0m     \u001b[39mreturn\u001b[39;00m result\n",
      "File \u001b[0;32m/Library/Frameworks/Python.framework/Versions/3.9/lib/python3.9/urllib/request.py:494\u001b[0m, in \u001b[0;36mOpenerDirector._call_chain\u001b[0;34m(self, chain, kind, meth_name, *args)\u001b[0m\n\u001b[1;32m    492\u001b[0m \u001b[39mfor\u001b[39;00m handler \u001b[39min\u001b[39;00m handlers:\n\u001b[1;32m    493\u001b[0m     func \u001b[39m=\u001b[39m \u001b[39mgetattr\u001b[39m(handler, meth_name)\n\u001b[0;32m--> 494\u001b[0m     result \u001b[39m=\u001b[39m func(\u001b[39m*\u001b[39;49margs)\n\u001b[1;32m    495\u001b[0m     \u001b[39mif\u001b[39;00m result \u001b[39mis\u001b[39;00m \u001b[39mnot\u001b[39;00m \u001b[39mNone\u001b[39;00m:\n\u001b[1;32m    496\u001b[0m         \u001b[39mreturn\u001b[39;00m result\n",
      "File \u001b[0;32m/Library/Frameworks/Python.framework/Versions/3.9/lib/python3.9/urllib/request.py:747\u001b[0m, in \u001b[0;36mHTTPRedirectHandler.http_error_302\u001b[0;34m(self, req, fp, code, msg, headers)\u001b[0m\n\u001b[1;32m    744\u001b[0m fp\u001b[39m.\u001b[39mread()\n\u001b[1;32m    745\u001b[0m fp\u001b[39m.\u001b[39mclose()\n\u001b[0;32m--> 747\u001b[0m \u001b[39mreturn\u001b[39;00m \u001b[39mself\u001b[39;49m\u001b[39m.\u001b[39;49mparent\u001b[39m.\u001b[39;49mopen(new, timeout\u001b[39m=\u001b[39;49mreq\u001b[39m.\u001b[39;49mtimeout)\n",
      "File \u001b[0;32m/Library/Frameworks/Python.framework/Versions/3.9/lib/python3.9/urllib/request.py:523\u001b[0m, in \u001b[0;36mOpenerDirector.open\u001b[0;34m(self, fullurl, data, timeout)\u001b[0m\n\u001b[1;32m    521\u001b[0m \u001b[39mfor\u001b[39;00m processor \u001b[39min\u001b[39;00m \u001b[39mself\u001b[39m\u001b[39m.\u001b[39mprocess_response\u001b[39m.\u001b[39mget(protocol, []):\n\u001b[1;32m    522\u001b[0m     meth \u001b[39m=\u001b[39m \u001b[39mgetattr\u001b[39m(processor, meth_name)\n\u001b[0;32m--> 523\u001b[0m     response \u001b[39m=\u001b[39m meth(req, response)\n\u001b[1;32m    525\u001b[0m \u001b[39mreturn\u001b[39;00m response\n",
      "File \u001b[0;32m/Library/Frameworks/Python.framework/Versions/3.9/lib/python3.9/urllib/request.py:632\u001b[0m, in \u001b[0;36mHTTPErrorProcessor.http_response\u001b[0;34m(self, request, response)\u001b[0m\n\u001b[1;32m    629\u001b[0m \u001b[39m# According to RFC 2616, \"2xx\" code indicates that the client's\u001b[39;00m\n\u001b[1;32m    630\u001b[0m \u001b[39m# request was successfully received, understood, and accepted.\u001b[39;00m\n\u001b[1;32m    631\u001b[0m \u001b[39mif\u001b[39;00m \u001b[39mnot\u001b[39;00m (\u001b[39m200\u001b[39m \u001b[39m<\u001b[39m\u001b[39m=\u001b[39m code \u001b[39m<\u001b[39m \u001b[39m300\u001b[39m):\n\u001b[0;32m--> 632\u001b[0m     response \u001b[39m=\u001b[39m \u001b[39mself\u001b[39;49m\u001b[39m.\u001b[39;49mparent\u001b[39m.\u001b[39;49merror(\n\u001b[1;32m    633\u001b[0m         \u001b[39m'\u001b[39;49m\u001b[39mhttp\u001b[39;49m\u001b[39m'\u001b[39;49m, request, response, code, msg, hdrs)\n\u001b[1;32m    635\u001b[0m \u001b[39mreturn\u001b[39;00m response\n",
      "File \u001b[0;32m/Library/Frameworks/Python.framework/Versions/3.9/lib/python3.9/urllib/request.py:555\u001b[0m, in \u001b[0;36mOpenerDirector.error\u001b[0;34m(self, proto, *args)\u001b[0m\n\u001b[1;32m    553\u001b[0m     http_err \u001b[39m=\u001b[39m \u001b[39m0\u001b[39m\n\u001b[1;32m    554\u001b[0m args \u001b[39m=\u001b[39m (\u001b[39mdict\u001b[39m, proto, meth_name) \u001b[39m+\u001b[39m args\n\u001b[0;32m--> 555\u001b[0m result \u001b[39m=\u001b[39m \u001b[39mself\u001b[39;49m\u001b[39m.\u001b[39;49m_call_chain(\u001b[39m*\u001b[39;49margs)\n\u001b[1;32m    556\u001b[0m \u001b[39mif\u001b[39;00m result:\n\u001b[1;32m    557\u001b[0m     \u001b[39mreturn\u001b[39;00m result\n",
      "File \u001b[0;32m/Library/Frameworks/Python.framework/Versions/3.9/lib/python3.9/urllib/request.py:494\u001b[0m, in \u001b[0;36mOpenerDirector._call_chain\u001b[0;34m(self, chain, kind, meth_name, *args)\u001b[0m\n\u001b[1;32m    492\u001b[0m \u001b[39mfor\u001b[39;00m handler \u001b[39min\u001b[39;00m handlers:\n\u001b[1;32m    493\u001b[0m     func \u001b[39m=\u001b[39m \u001b[39mgetattr\u001b[39m(handler, meth_name)\n\u001b[0;32m--> 494\u001b[0m     result \u001b[39m=\u001b[39m func(\u001b[39m*\u001b[39;49margs)\n\u001b[1;32m    495\u001b[0m     \u001b[39mif\u001b[39;00m result \u001b[39mis\u001b[39;00m \u001b[39mnot\u001b[39;00m \u001b[39mNone\u001b[39;00m:\n\u001b[1;32m    496\u001b[0m         \u001b[39mreturn\u001b[39;00m result\n",
      "File \u001b[0;32m/Library/Frameworks/Python.framework/Versions/3.9/lib/python3.9/urllib/request.py:747\u001b[0m, in \u001b[0;36mHTTPRedirectHandler.http_error_302\u001b[0;34m(self, req, fp, code, msg, headers)\u001b[0m\n\u001b[1;32m    744\u001b[0m fp\u001b[39m.\u001b[39mread()\n\u001b[1;32m    745\u001b[0m fp\u001b[39m.\u001b[39mclose()\n\u001b[0;32m--> 747\u001b[0m \u001b[39mreturn\u001b[39;00m \u001b[39mself\u001b[39;49m\u001b[39m.\u001b[39;49mparent\u001b[39m.\u001b[39;49mopen(new, timeout\u001b[39m=\u001b[39;49mreq\u001b[39m.\u001b[39;49mtimeout)\n",
      "File \u001b[0;32m/Library/Frameworks/Python.framework/Versions/3.9/lib/python3.9/urllib/request.py:523\u001b[0m, in \u001b[0;36mOpenerDirector.open\u001b[0;34m(self, fullurl, data, timeout)\u001b[0m\n\u001b[1;32m    521\u001b[0m \u001b[39mfor\u001b[39;00m processor \u001b[39min\u001b[39;00m \u001b[39mself\u001b[39m\u001b[39m.\u001b[39mprocess_response\u001b[39m.\u001b[39mget(protocol, []):\n\u001b[1;32m    522\u001b[0m     meth \u001b[39m=\u001b[39m \u001b[39mgetattr\u001b[39m(processor, meth_name)\n\u001b[0;32m--> 523\u001b[0m     response \u001b[39m=\u001b[39m meth(req, response)\n\u001b[1;32m    525\u001b[0m \u001b[39mreturn\u001b[39;00m response\n",
      "File \u001b[0;32m/Library/Frameworks/Python.framework/Versions/3.9/lib/python3.9/urllib/request.py:632\u001b[0m, in \u001b[0;36mHTTPErrorProcessor.http_response\u001b[0;34m(self, request, response)\u001b[0m\n\u001b[1;32m    629\u001b[0m \u001b[39m# According to RFC 2616, \"2xx\" code indicates that the client's\u001b[39;00m\n\u001b[1;32m    630\u001b[0m \u001b[39m# request was successfully received, understood, and accepted.\u001b[39;00m\n\u001b[1;32m    631\u001b[0m \u001b[39mif\u001b[39;00m \u001b[39mnot\u001b[39;00m (\u001b[39m200\u001b[39m \u001b[39m<\u001b[39m\u001b[39m=\u001b[39m code \u001b[39m<\u001b[39m \u001b[39m300\u001b[39m):\n\u001b[0;32m--> 632\u001b[0m     response \u001b[39m=\u001b[39m \u001b[39mself\u001b[39;49m\u001b[39m.\u001b[39;49mparent\u001b[39m.\u001b[39;49merror(\n\u001b[1;32m    633\u001b[0m         \u001b[39m'\u001b[39;49m\u001b[39mhttp\u001b[39;49m\u001b[39m'\u001b[39;49m, request, response, code, msg, hdrs)\n\u001b[1;32m    635\u001b[0m \u001b[39mreturn\u001b[39;00m response\n",
      "File \u001b[0;32m/Library/Frameworks/Python.framework/Versions/3.9/lib/python3.9/urllib/request.py:561\u001b[0m, in \u001b[0;36mOpenerDirector.error\u001b[0;34m(self, proto, *args)\u001b[0m\n\u001b[1;32m    559\u001b[0m \u001b[39mif\u001b[39;00m http_err:\n\u001b[1;32m    560\u001b[0m     args \u001b[39m=\u001b[39m (\u001b[39mdict\u001b[39m, \u001b[39m'\u001b[39m\u001b[39mdefault\u001b[39m\u001b[39m'\u001b[39m, \u001b[39m'\u001b[39m\u001b[39mhttp_error_default\u001b[39m\u001b[39m'\u001b[39m) \u001b[39m+\u001b[39m orig_args\n\u001b[0;32m--> 561\u001b[0m     \u001b[39mreturn\u001b[39;00m \u001b[39mself\u001b[39;49m\u001b[39m.\u001b[39;49m_call_chain(\u001b[39m*\u001b[39;49margs)\n",
      "File \u001b[0;32m/Library/Frameworks/Python.framework/Versions/3.9/lib/python3.9/urllib/request.py:494\u001b[0m, in \u001b[0;36mOpenerDirector._call_chain\u001b[0;34m(self, chain, kind, meth_name, *args)\u001b[0m\n\u001b[1;32m    492\u001b[0m \u001b[39mfor\u001b[39;00m handler \u001b[39min\u001b[39;00m handlers:\n\u001b[1;32m    493\u001b[0m     func \u001b[39m=\u001b[39m \u001b[39mgetattr\u001b[39m(handler, meth_name)\n\u001b[0;32m--> 494\u001b[0m     result \u001b[39m=\u001b[39m func(\u001b[39m*\u001b[39;49margs)\n\u001b[1;32m    495\u001b[0m     \u001b[39mif\u001b[39;00m result \u001b[39mis\u001b[39;00m \u001b[39mnot\u001b[39;00m \u001b[39mNone\u001b[39;00m:\n\u001b[1;32m    496\u001b[0m         \u001b[39mreturn\u001b[39;00m result\n",
      "File \u001b[0;32m/Library/Frameworks/Python.framework/Versions/3.9/lib/python3.9/urllib/request.py:641\u001b[0m, in \u001b[0;36mHTTPDefaultErrorHandler.http_error_default\u001b[0;34m(self, req, fp, code, msg, hdrs)\u001b[0m\n\u001b[1;32m    640\u001b[0m \u001b[39mdef\u001b[39;00m \u001b[39mhttp_error_default\u001b[39m(\u001b[39mself\u001b[39m, req, fp, code, msg, hdrs):\n\u001b[0;32m--> 641\u001b[0m     \u001b[39mraise\u001b[39;00m HTTPError(req\u001b[39m.\u001b[39mfull_url, code, msg, hdrs, fp)\n",
      "\u001b[0;31mHTTPError\u001b[0m: HTTP Error 404: Not Found"
     ]
    }
   ],
   "source": [
    "for download in downloadList:\n",
    "    fileurl = getAbsoluteUrl(baseUrl,download['src'])\n",
    "    if fileurl is not None:\n",
    "        print(fileurl)\n",
    "        urlretrieve(fileurl,getDownloadPath(baseUrl,fileurl,downloadDirectory))"
   ]
  },
  {
   "cell_type": "markdown",
   "metadata": {},
   "source": [
    "<b>慎用，易下载到病毒</b>\n"
   ]
  },
  {
   "cell_type": "markdown",
   "metadata": {},
   "source": [
    "------------------------------------------"
   ]
  },
  {
   "cell_type": "markdown",
   "metadata": {},
   "source": [
    "CSV(comma-separated values，逗号分隔值)是存储表格数据的常用文件格式。Microsoft\n",
    "Excel 和很多应用都支持 CSV 格式，因为它很简洁。下面就是一个 CSV 文件的例子:"
   ]
  },
  {
   "cell_type": "code",
   "execution_count": 20,
   "metadata": {},
   "outputs": [],
   "source": [
    "import csv \n",
    "file = open(\"data_output/test.csv\",\"w+\")\n",
    "try:\n",
    "    writer = csv.writer(file)\n",
    "    writer.writerow(('number', 'number plus 2', 'number times 2'))\n",
    "    for i in range(10):\n",
    "        writer.writerow( (i, i+2, i*2))\n",
    "finally:\n",
    "    file.close()"
   ]
  },
  {
   "cell_type": "markdown",
   "metadata": {},
   "source": [
    "表格形式数据爬取以及存储为csv格式"
   ]
  },
  {
   "cell_type": "code",
   "execution_count": 22,
   "metadata": {},
   "outputs": [],
   "source": [
    "import csv\n",
    "from urllib.request import urlopen\n",
    "from bs4 import BeautifulSoup\n",
    "html = urlopen('http://en.wikipedia.org/wiki/'\n",
    "         'Comparison_of_text_editors')\n",
    "bs = BeautifulSoup(html, 'html.parser')\n",
    "# 主对比表格是当前页面上的第一个表格\n",
    "table = bs.findAll('table',{'class':'wikitable'})[0] \n",
    "rows = table.findAll('tr')\n",
    "\n",
    "csvFile = open('data_output/editors.csv', 'wt+')\n",
    "writer = csv.writer(csvFile)\n",
    "try:\n",
    "    for row in rows:\n",
    "        csvRow = []\n",
    "        for cell in row.findAll(['td', 'th']):\n",
    "            csvRow.append(cell.get_text())\n",
    "        writer.writerow(csvRow)\n",
    "finally:\n",
    "    csvFile.close()"
   ]
  },
  {
   "cell_type": "markdown",
   "metadata": {},
   "source": [
    "---------------------------"
   ]
  },
  {
   "cell_type": "markdown",
   "metadata": {},
   "source": [
    "python与mysql的整合"
   ]
  },
  {
   "cell_type": "code",
   "execution_count": 1,
   "metadata": {},
   "outputs": [],
   "source": [
    "# pip install pymsql"
   ]
  },
  {
   "cell_type": "code",
   "execution_count": 3,
   "metadata": {},
   "outputs": [
    {
     "name": "stdout",
     "output_type": "stream",
     "text": [
      "((1, 'test title', 'test content', datetime.datetime(2022, 8, 23, 20, 46, 33)), (2, 'Test page title', 'This is some test page content. It can be up to 10,000 characters\\n      long.', datetime.datetime(2014, 9, 21, 10, 25, 32)))\n"
     ]
    }
   ],
   "source": [
    "import pymysql\n",
    "conn = pymysql.connect(host='127.0.0.1', unix_socket='/tmp/mysql.sock',\n",
    "                            user='root', passwd=\"2022mysql\", db='mysql')\n",
    "cur = conn.cursor()\n",
    "cur.execute('USE scraping')\n",
    "cur.execute('select * from pages')\n",
    "print(cur.fetchall())\n",
    "cur.close()\n",
    "conn.close()\n"
   ]
  },
  {
   "cell_type": "markdown",
   "metadata": {},
   "source": [
    "<u>将数据库的字符更改为中文</u>:\n",
    "ALTER DATABASE scraping CHARACTER SET = utf8mb4 COLLATE = utf8mb4_unicode_ci;\n",
    "ALTER TABLE pages CONVERT TO CHARACTER SET utf8mb4 COLLATE utf8mb4_unicode_ci;\n",
    "ALTER TABLE pages CHANGE title title VARCHAR(200) CHARACTER SET utf8mb4 COLLATE\n",
    "utf8mb4_unicode_ci;\n",
    "ALTER TABLE pages CHANGE content content VARCHAR(10000) CHARACTER SET utf8mb4 CO\n",
    "LLATE utf8mb4_unicode_ci;"
   ]
  },
  {
   "cell_type": "code",
   "execution_count": 4,
   "metadata": {},
   "outputs": [],
   "source": [
    "from urllib.request import urlopen\n",
    "from bs4 import BeautifulSoup\n",
    "import datetime\n",
    "import random\n",
    "import pymysql\n",
    "import re "
   ]
  },
  {
   "cell_type": "code",
   "execution_count": 7,
   "metadata": {},
   "outputs": [],
   "source": [
    "conn = pymysql.connect(host='127.0.0.1', unix_socket='/tmp/mysql.sock',\n",
    "                            user='root', passwd=\"2022mysql\", db='mysql',charset=\"utf8\")\n",
    "cur = conn.cursor()"
   ]
  },
  {
   "cell_type": "code",
   "execution_count": 8,
   "metadata": {},
   "outputs": [
    {
     "data": {
      "text/plain": [
       "0"
      ]
     },
     "execution_count": 8,
     "metadata": {},
     "output_type": "execute_result"
    }
   ],
   "source": [
    "cur.execute(\"USE scraping\")"
   ]
  },
  {
   "cell_type": "code",
   "execution_count": 10,
   "metadata": {},
   "outputs": [
    {
     "name": "stderr",
     "output_type": "stream",
     "text": [
      "/var/folders/95/0b9jlx8d4dgdp4pw27fwrd440000gn/T/ipykernel_8902/4138338170.py:1: DeprecationWarning: Seeding based on hashing is deprecated\n",
      "since Python 3.9 and will be removed in a subsequent version. The only \n",
      "supported seed types are: None, int, float, str, bytes, and bytearray.\n",
      "  random.seed(datetime.datetime.now())\n"
     ]
    }
   ],
   "source": [
    "random.seed(datetime.datetime.now())\n",
    "def store(title,content):\n",
    "    cur.execute(\"INSERT INTO pages(title,content)VALUES(%s,%s)\",(title,content))\n",
    "    cur.connection.commit()\n",
    "\n",
    "def get_links(articleUrl):\n",
    "    html = urlopen('http://en.wikipedia.org'+articleUrl)\n",
    "    bs = BeautifulSoup(html, 'html.parser')\n",
    "    title = bs.find(\"h1\").get_text()\n",
    "    content= bs.find(\"div\",{\"id\":\"mw-content-text\"}).find(\"p\").get_text()\n",
    "\n",
    "    store(title,content)\n",
    "    return bs.find(\"div\",{\"id\":\"bodyContent\"}).findAll(\"a\",href=re.compile('^(/wiki/)((?!:).)*$'))"
   ]
  },
  {
   "cell_type": "code",
   "execution_count": 11,
   "metadata": {},
   "outputs": [
    {
     "name": "stdout",
     "output_type": "stream",
     "text": [
      "/wiki/Raul_Julia\n",
      "/wiki/Richard_Foreman\n",
      "/wiki/ISNI_(identifier)\n",
      "/wiki/ISO_3166-3\n",
      "/wiki/Serbia_and_Montenegro\n",
      "/wiki/Montenegro\n",
      "/wiki/Montenegrins_(ethnic_group)\n",
      "/wiki/Herzegovina_uprising_(1875%E2%80%931877)\n",
      "/wiki/Kulen_Vakuf\n",
      "/wiki/Donja_Gata\n",
      "/wiki/Doljani,_Biha%C4%87\n",
      "/wiki/Municipalities_of_Bosnia_and_Herzegovina\n",
      "/wiki/City_council_(Israel)\n",
      "/wiki/Municipalities_of_Bosnia_and_Herzegovina\n",
      "/wiki/Municipalities_of_Republika_Srpska\n",
      "/wiki/Trnovo,_Republika_Srpska\n",
      "/wiki/Domaljevac-%C5%A0amac\n",
      "/wiki/Bosanski_%C5%A0amac\n",
      "/wiki/Herzegovina-Neretva_Canton\n",
      "/wiki/Zavidovi%C4%87i\n",
      "/wiki/Petrovo,_Bosnia_and_Herzegovina\n",
      "/wiki/%C5%A0ekovi%C4%87i\n",
      "/wiki/%C5%A0iroki_Brijeg\n",
      "/wiki/Tur%C4%8Dinovi%C4%87i\n",
      "/wiki/Donji_Crna%C4%8D\n"
     ]
    },
    {
     "ename": "KeyboardInterrupt",
     "evalue": "",
     "output_type": "error",
     "traceback": [
      "\u001b[0;31m---------------------------------------------------------------------------\u001b[0m",
      "\u001b[0;31mKeyboardInterrupt\u001b[0m                         Traceback (most recent call last)",
      "\u001b[1;32m/Users/danyow/Desktop/extra-learning/spyier/chapter6-storage.ipynb Cell 28\u001b[0m in \u001b[0;36m<cell line: 2>\u001b[0;34m()\u001b[0m\n\u001b[1;32m      <a href='vscode-notebook-cell:/Users/danyow/Desktop/extra-learning/spyier/chapter6-storage.ipynb#X41sZmlsZQ%3D%3D?line=3'>4</a>\u001b[0m             newArticle \u001b[39m=\u001b[39m links[random\u001b[39m.\u001b[39mrandint(\u001b[39m0\u001b[39m, \u001b[39mlen\u001b[39m(links)\u001b[39m-\u001b[39m\u001b[39m1\u001b[39m)]\u001b[39m.\u001b[39mattrs[\u001b[39m'\u001b[39m\u001b[39mhref\u001b[39m\u001b[39m'\u001b[39m]\n\u001b[1;32m      <a href='vscode-notebook-cell:/Users/danyow/Desktop/extra-learning/spyier/chapter6-storage.ipynb#X41sZmlsZQ%3D%3D?line=4'>5</a>\u001b[0m             \u001b[39mprint\u001b[39m(newArticle)\n\u001b[0;32m----> <a href='vscode-notebook-cell:/Users/danyow/Desktop/extra-learning/spyier/chapter6-storage.ipynb#X41sZmlsZQ%3D%3D?line=5'>6</a>\u001b[0m             links \u001b[39m=\u001b[39m get_links(newArticle)\n\u001b[1;32m      <a href='vscode-notebook-cell:/Users/danyow/Desktop/extra-learning/spyier/chapter6-storage.ipynb#X41sZmlsZQ%3D%3D?line=6'>7</a>\u001b[0m \u001b[39mfinally\u001b[39;00m:\n\u001b[1;32m      <a href='vscode-notebook-cell:/Users/danyow/Desktop/extra-learning/spyier/chapter6-storage.ipynb#X41sZmlsZQ%3D%3D?line=7'>8</a>\u001b[0m     cur\u001b[39m.\u001b[39mclose()\n",
      "\u001b[1;32m/Users/danyow/Desktop/extra-learning/spyier/chapter6-storage.ipynb Cell 28\u001b[0m in \u001b[0;36mget_links\u001b[0;34m(articleUrl)\u001b[0m\n\u001b[1;32m      <a href='vscode-notebook-cell:/Users/danyow/Desktop/extra-learning/spyier/chapter6-storage.ipynb#X41sZmlsZQ%3D%3D?line=5'>6</a>\u001b[0m \u001b[39mdef\u001b[39;00m \u001b[39mget_links\u001b[39m(articleUrl):\n\u001b[0;32m----> <a href='vscode-notebook-cell:/Users/danyow/Desktop/extra-learning/spyier/chapter6-storage.ipynb#X41sZmlsZQ%3D%3D?line=6'>7</a>\u001b[0m     html \u001b[39m=\u001b[39m urlopen(\u001b[39m'\u001b[39;49m\u001b[39mhttp://en.wikipedia.org\u001b[39;49m\u001b[39m'\u001b[39;49m\u001b[39m+\u001b[39;49marticleUrl)\n\u001b[1;32m      <a href='vscode-notebook-cell:/Users/danyow/Desktop/extra-learning/spyier/chapter6-storage.ipynb#X41sZmlsZQ%3D%3D?line=7'>8</a>\u001b[0m     bs \u001b[39m=\u001b[39m BeautifulSoup(html, \u001b[39m'\u001b[39m\u001b[39mhtml.parser\u001b[39m\u001b[39m'\u001b[39m)\n\u001b[1;32m      <a href='vscode-notebook-cell:/Users/danyow/Desktop/extra-learning/spyier/chapter6-storage.ipynb#X41sZmlsZQ%3D%3D?line=8'>9</a>\u001b[0m     title \u001b[39m=\u001b[39m bs\u001b[39m.\u001b[39mfind(\u001b[39m\"\u001b[39m\u001b[39mh1\u001b[39m\u001b[39m\"\u001b[39m)\u001b[39m.\u001b[39mget_text()\n",
      "File \u001b[0;32m/Library/Frameworks/Python.framework/Versions/3.9/lib/python3.9/urllib/request.py:214\u001b[0m, in \u001b[0;36murlopen\u001b[0;34m(url, data, timeout, cafile, capath, cadefault, context)\u001b[0m\n\u001b[1;32m    212\u001b[0m \u001b[39melse\u001b[39;00m:\n\u001b[1;32m    213\u001b[0m     opener \u001b[39m=\u001b[39m _opener\n\u001b[0;32m--> 214\u001b[0m \u001b[39mreturn\u001b[39;00m opener\u001b[39m.\u001b[39;49mopen(url, data, timeout)\n",
      "File \u001b[0;32m/Library/Frameworks/Python.framework/Versions/3.9/lib/python3.9/urllib/request.py:523\u001b[0m, in \u001b[0;36mOpenerDirector.open\u001b[0;34m(self, fullurl, data, timeout)\u001b[0m\n\u001b[1;32m    521\u001b[0m \u001b[39mfor\u001b[39;00m processor \u001b[39min\u001b[39;00m \u001b[39mself\u001b[39m\u001b[39m.\u001b[39mprocess_response\u001b[39m.\u001b[39mget(protocol, []):\n\u001b[1;32m    522\u001b[0m     meth \u001b[39m=\u001b[39m \u001b[39mgetattr\u001b[39m(processor, meth_name)\n\u001b[0;32m--> 523\u001b[0m     response \u001b[39m=\u001b[39m meth(req, response)\n\u001b[1;32m    525\u001b[0m \u001b[39mreturn\u001b[39;00m response\n",
      "File \u001b[0;32m/Library/Frameworks/Python.framework/Versions/3.9/lib/python3.9/urllib/request.py:632\u001b[0m, in \u001b[0;36mHTTPErrorProcessor.http_response\u001b[0;34m(self, request, response)\u001b[0m\n\u001b[1;32m    629\u001b[0m \u001b[39m# According to RFC 2616, \"2xx\" code indicates that the client's\u001b[39;00m\n\u001b[1;32m    630\u001b[0m \u001b[39m# request was successfully received, understood, and accepted.\u001b[39;00m\n\u001b[1;32m    631\u001b[0m \u001b[39mif\u001b[39;00m \u001b[39mnot\u001b[39;00m (\u001b[39m200\u001b[39m \u001b[39m<\u001b[39m\u001b[39m=\u001b[39m code \u001b[39m<\u001b[39m \u001b[39m300\u001b[39m):\n\u001b[0;32m--> 632\u001b[0m     response \u001b[39m=\u001b[39m \u001b[39mself\u001b[39;49m\u001b[39m.\u001b[39;49mparent\u001b[39m.\u001b[39;49merror(\n\u001b[1;32m    633\u001b[0m         \u001b[39m'\u001b[39;49m\u001b[39mhttp\u001b[39;49m\u001b[39m'\u001b[39;49m, request, response, code, msg, hdrs)\n\u001b[1;32m    635\u001b[0m \u001b[39mreturn\u001b[39;00m response\n",
      "File \u001b[0;32m/Library/Frameworks/Python.framework/Versions/3.9/lib/python3.9/urllib/request.py:555\u001b[0m, in \u001b[0;36mOpenerDirector.error\u001b[0;34m(self, proto, *args)\u001b[0m\n\u001b[1;32m    553\u001b[0m     http_err \u001b[39m=\u001b[39m \u001b[39m0\u001b[39m\n\u001b[1;32m    554\u001b[0m args \u001b[39m=\u001b[39m (\u001b[39mdict\u001b[39m, proto, meth_name) \u001b[39m+\u001b[39m args\n\u001b[0;32m--> 555\u001b[0m result \u001b[39m=\u001b[39m \u001b[39mself\u001b[39;49m\u001b[39m.\u001b[39;49m_call_chain(\u001b[39m*\u001b[39;49margs)\n\u001b[1;32m    556\u001b[0m \u001b[39mif\u001b[39;00m result:\n\u001b[1;32m    557\u001b[0m     \u001b[39mreturn\u001b[39;00m result\n",
      "File \u001b[0;32m/Library/Frameworks/Python.framework/Versions/3.9/lib/python3.9/urllib/request.py:494\u001b[0m, in \u001b[0;36mOpenerDirector._call_chain\u001b[0;34m(self, chain, kind, meth_name, *args)\u001b[0m\n\u001b[1;32m    492\u001b[0m \u001b[39mfor\u001b[39;00m handler \u001b[39min\u001b[39;00m handlers:\n\u001b[1;32m    493\u001b[0m     func \u001b[39m=\u001b[39m \u001b[39mgetattr\u001b[39m(handler, meth_name)\n\u001b[0;32m--> 494\u001b[0m     result \u001b[39m=\u001b[39m func(\u001b[39m*\u001b[39;49margs)\n\u001b[1;32m    495\u001b[0m     \u001b[39mif\u001b[39;00m result \u001b[39mis\u001b[39;00m \u001b[39mnot\u001b[39;00m \u001b[39mNone\u001b[39;00m:\n\u001b[1;32m    496\u001b[0m         \u001b[39mreturn\u001b[39;00m result\n",
      "File \u001b[0;32m/Library/Frameworks/Python.framework/Versions/3.9/lib/python3.9/urllib/request.py:747\u001b[0m, in \u001b[0;36mHTTPRedirectHandler.http_error_302\u001b[0;34m(self, req, fp, code, msg, headers)\u001b[0m\n\u001b[1;32m    744\u001b[0m fp\u001b[39m.\u001b[39mread()\n\u001b[1;32m    745\u001b[0m fp\u001b[39m.\u001b[39mclose()\n\u001b[0;32m--> 747\u001b[0m \u001b[39mreturn\u001b[39;00m \u001b[39mself\u001b[39;49m\u001b[39m.\u001b[39;49mparent\u001b[39m.\u001b[39;49mopen(new, timeout\u001b[39m=\u001b[39;49mreq\u001b[39m.\u001b[39;49mtimeout)\n",
      "File \u001b[0;32m/Library/Frameworks/Python.framework/Versions/3.9/lib/python3.9/urllib/request.py:517\u001b[0m, in \u001b[0;36mOpenerDirector.open\u001b[0;34m(self, fullurl, data, timeout)\u001b[0m\n\u001b[1;32m    514\u001b[0m     req \u001b[39m=\u001b[39m meth(req)\n\u001b[1;32m    516\u001b[0m sys\u001b[39m.\u001b[39maudit(\u001b[39m'\u001b[39m\u001b[39murllib.Request\u001b[39m\u001b[39m'\u001b[39m, req\u001b[39m.\u001b[39mfull_url, req\u001b[39m.\u001b[39mdata, req\u001b[39m.\u001b[39mheaders, req\u001b[39m.\u001b[39mget_method())\n\u001b[0;32m--> 517\u001b[0m response \u001b[39m=\u001b[39m \u001b[39mself\u001b[39;49m\u001b[39m.\u001b[39;49m_open(req, data)\n\u001b[1;32m    519\u001b[0m \u001b[39m# post-process response\u001b[39;00m\n\u001b[1;32m    520\u001b[0m meth_name \u001b[39m=\u001b[39m protocol\u001b[39m+\u001b[39m\u001b[39m\"\u001b[39m\u001b[39m_response\u001b[39m\u001b[39m\"\u001b[39m\n",
      "File \u001b[0;32m/Library/Frameworks/Python.framework/Versions/3.9/lib/python3.9/urllib/request.py:534\u001b[0m, in \u001b[0;36mOpenerDirector._open\u001b[0;34m(self, req, data)\u001b[0m\n\u001b[1;32m    531\u001b[0m     \u001b[39mreturn\u001b[39;00m result\n\u001b[1;32m    533\u001b[0m protocol \u001b[39m=\u001b[39m req\u001b[39m.\u001b[39mtype\n\u001b[0;32m--> 534\u001b[0m result \u001b[39m=\u001b[39m \u001b[39mself\u001b[39;49m\u001b[39m.\u001b[39;49m_call_chain(\u001b[39mself\u001b[39;49m\u001b[39m.\u001b[39;49mhandle_open, protocol, protocol \u001b[39m+\u001b[39;49m\n\u001b[1;32m    535\u001b[0m                           \u001b[39m'\u001b[39;49m\u001b[39m_open\u001b[39;49m\u001b[39m'\u001b[39;49m, req)\n\u001b[1;32m    536\u001b[0m \u001b[39mif\u001b[39;00m result:\n\u001b[1;32m    537\u001b[0m     \u001b[39mreturn\u001b[39;00m result\n",
      "File \u001b[0;32m/Library/Frameworks/Python.framework/Versions/3.9/lib/python3.9/urllib/request.py:494\u001b[0m, in \u001b[0;36mOpenerDirector._call_chain\u001b[0;34m(self, chain, kind, meth_name, *args)\u001b[0m\n\u001b[1;32m    492\u001b[0m \u001b[39mfor\u001b[39;00m handler \u001b[39min\u001b[39;00m handlers:\n\u001b[1;32m    493\u001b[0m     func \u001b[39m=\u001b[39m \u001b[39mgetattr\u001b[39m(handler, meth_name)\n\u001b[0;32m--> 494\u001b[0m     result \u001b[39m=\u001b[39m func(\u001b[39m*\u001b[39;49margs)\n\u001b[1;32m    495\u001b[0m     \u001b[39mif\u001b[39;00m result \u001b[39mis\u001b[39;00m \u001b[39mnot\u001b[39;00m \u001b[39mNone\u001b[39;00m:\n\u001b[1;32m    496\u001b[0m         \u001b[39mreturn\u001b[39;00m result\n",
      "File \u001b[0;32m/Library/Frameworks/Python.framework/Versions/3.9/lib/python3.9/urllib/request.py:1389\u001b[0m, in \u001b[0;36mHTTPSHandler.https_open\u001b[0;34m(self, req)\u001b[0m\n\u001b[1;32m   1388\u001b[0m \u001b[39mdef\u001b[39;00m \u001b[39mhttps_open\u001b[39m(\u001b[39mself\u001b[39m, req):\n\u001b[0;32m-> 1389\u001b[0m     \u001b[39mreturn\u001b[39;00m \u001b[39mself\u001b[39;49m\u001b[39m.\u001b[39;49mdo_open(http\u001b[39m.\u001b[39;49mclient\u001b[39m.\u001b[39;49mHTTPSConnection, req,\n\u001b[1;32m   1390\u001b[0m         context\u001b[39m=\u001b[39;49m\u001b[39mself\u001b[39;49m\u001b[39m.\u001b[39;49m_context, check_hostname\u001b[39m=\u001b[39;49m\u001b[39mself\u001b[39;49m\u001b[39m.\u001b[39;49m_check_hostname)\n",
      "File \u001b[0;32m/Library/Frameworks/Python.framework/Versions/3.9/lib/python3.9/urllib/request.py:1346\u001b[0m, in \u001b[0;36mAbstractHTTPHandler.do_open\u001b[0;34m(self, http_class, req, **http_conn_args)\u001b[0m\n\u001b[1;32m   1344\u001b[0m \u001b[39mtry\u001b[39;00m:\n\u001b[1;32m   1345\u001b[0m     \u001b[39mtry\u001b[39;00m:\n\u001b[0;32m-> 1346\u001b[0m         h\u001b[39m.\u001b[39;49mrequest(req\u001b[39m.\u001b[39;49mget_method(), req\u001b[39m.\u001b[39;49mselector, req\u001b[39m.\u001b[39;49mdata, headers,\n\u001b[1;32m   1347\u001b[0m                   encode_chunked\u001b[39m=\u001b[39;49mreq\u001b[39m.\u001b[39;49mhas_header(\u001b[39m'\u001b[39;49m\u001b[39mTransfer-encoding\u001b[39;49m\u001b[39m'\u001b[39;49m))\n\u001b[1;32m   1348\u001b[0m     \u001b[39mexcept\u001b[39;00m \u001b[39mOSError\u001b[39;00m \u001b[39mas\u001b[39;00m err: \u001b[39m# timeout error\u001b[39;00m\n\u001b[1;32m   1349\u001b[0m         \u001b[39mraise\u001b[39;00m URLError(err)\n",
      "File \u001b[0;32m/Library/Frameworks/Python.framework/Versions/3.9/lib/python3.9/http/client.py:1255\u001b[0m, in \u001b[0;36mHTTPConnection.request\u001b[0;34m(self, method, url, body, headers, encode_chunked)\u001b[0m\n\u001b[1;32m   1252\u001b[0m \u001b[39mdef\u001b[39;00m \u001b[39mrequest\u001b[39m(\u001b[39mself\u001b[39m, method, url, body\u001b[39m=\u001b[39m\u001b[39mNone\u001b[39;00m, headers\u001b[39m=\u001b[39m{}, \u001b[39m*\u001b[39m,\n\u001b[1;32m   1253\u001b[0m             encode_chunked\u001b[39m=\u001b[39m\u001b[39mFalse\u001b[39;00m):\n\u001b[1;32m   1254\u001b[0m     \u001b[39m\"\"\"Send a complete request to the server.\"\"\"\u001b[39;00m\n\u001b[0;32m-> 1255\u001b[0m     \u001b[39mself\u001b[39;49m\u001b[39m.\u001b[39;49m_send_request(method, url, body, headers, encode_chunked)\n",
      "File \u001b[0;32m/Library/Frameworks/Python.framework/Versions/3.9/lib/python3.9/http/client.py:1301\u001b[0m, in \u001b[0;36mHTTPConnection._send_request\u001b[0;34m(self, method, url, body, headers, encode_chunked)\u001b[0m\n\u001b[1;32m   1297\u001b[0m \u001b[39mif\u001b[39;00m \u001b[39misinstance\u001b[39m(body, \u001b[39mstr\u001b[39m):\n\u001b[1;32m   1298\u001b[0m     \u001b[39m# RFC 2616 Section 3.7.1 says that text default has a\u001b[39;00m\n\u001b[1;32m   1299\u001b[0m     \u001b[39m# default charset of iso-8859-1.\u001b[39;00m\n\u001b[1;32m   1300\u001b[0m     body \u001b[39m=\u001b[39m _encode(body, \u001b[39m'\u001b[39m\u001b[39mbody\u001b[39m\u001b[39m'\u001b[39m)\n\u001b[0;32m-> 1301\u001b[0m \u001b[39mself\u001b[39;49m\u001b[39m.\u001b[39;49mendheaders(body, encode_chunked\u001b[39m=\u001b[39;49mencode_chunked)\n",
      "File \u001b[0;32m/Library/Frameworks/Python.framework/Versions/3.9/lib/python3.9/http/client.py:1250\u001b[0m, in \u001b[0;36mHTTPConnection.endheaders\u001b[0;34m(self, message_body, encode_chunked)\u001b[0m\n\u001b[1;32m   1248\u001b[0m \u001b[39melse\u001b[39;00m:\n\u001b[1;32m   1249\u001b[0m     \u001b[39mraise\u001b[39;00m CannotSendHeader()\n\u001b[0;32m-> 1250\u001b[0m \u001b[39mself\u001b[39;49m\u001b[39m.\u001b[39;49m_send_output(message_body, encode_chunked\u001b[39m=\u001b[39;49mencode_chunked)\n",
      "File \u001b[0;32m/Library/Frameworks/Python.framework/Versions/3.9/lib/python3.9/http/client.py:1010\u001b[0m, in \u001b[0;36mHTTPConnection._send_output\u001b[0;34m(self, message_body, encode_chunked)\u001b[0m\n\u001b[1;32m   1008\u001b[0m msg \u001b[39m=\u001b[39m \u001b[39mb\u001b[39m\u001b[39m\"\u001b[39m\u001b[39m\\r\u001b[39;00m\u001b[39m\\n\u001b[39;00m\u001b[39m\"\u001b[39m\u001b[39m.\u001b[39mjoin(\u001b[39mself\u001b[39m\u001b[39m.\u001b[39m_buffer)\n\u001b[1;32m   1009\u001b[0m \u001b[39mdel\u001b[39;00m \u001b[39mself\u001b[39m\u001b[39m.\u001b[39m_buffer[:]\n\u001b[0;32m-> 1010\u001b[0m \u001b[39mself\u001b[39;49m\u001b[39m.\u001b[39;49msend(msg)\n\u001b[1;32m   1012\u001b[0m \u001b[39mif\u001b[39;00m message_body \u001b[39mis\u001b[39;00m \u001b[39mnot\u001b[39;00m \u001b[39mNone\u001b[39;00m:\n\u001b[1;32m   1013\u001b[0m \n\u001b[1;32m   1014\u001b[0m     \u001b[39m# create a consistent interface to message_body\u001b[39;00m\n\u001b[1;32m   1015\u001b[0m     \u001b[39mif\u001b[39;00m \u001b[39mhasattr\u001b[39m(message_body, \u001b[39m'\u001b[39m\u001b[39mread\u001b[39m\u001b[39m'\u001b[39m):\n\u001b[1;32m   1016\u001b[0m         \u001b[39m# Let file-like take precedence over byte-like.  This\u001b[39;00m\n\u001b[1;32m   1017\u001b[0m         \u001b[39m# is needed to allow the current position of mmap'ed\u001b[39;00m\n\u001b[1;32m   1018\u001b[0m         \u001b[39m# files to be taken into account.\u001b[39;00m\n",
      "File \u001b[0;32m/Library/Frameworks/Python.framework/Versions/3.9/lib/python3.9/http/client.py:950\u001b[0m, in \u001b[0;36mHTTPConnection.send\u001b[0;34m(self, data)\u001b[0m\n\u001b[1;32m    948\u001b[0m \u001b[39mif\u001b[39;00m \u001b[39mself\u001b[39m\u001b[39m.\u001b[39msock \u001b[39mis\u001b[39;00m \u001b[39mNone\u001b[39;00m:\n\u001b[1;32m    949\u001b[0m     \u001b[39mif\u001b[39;00m \u001b[39mself\u001b[39m\u001b[39m.\u001b[39mauto_open:\n\u001b[0;32m--> 950\u001b[0m         \u001b[39mself\u001b[39;49m\u001b[39m.\u001b[39;49mconnect()\n\u001b[1;32m    951\u001b[0m     \u001b[39melse\u001b[39;00m:\n\u001b[1;32m    952\u001b[0m         \u001b[39mraise\u001b[39;00m NotConnected()\n",
      "File \u001b[0;32m/Library/Frameworks/Python.framework/Versions/3.9/lib/python3.9/http/client.py:1424\u001b[0m, in \u001b[0;36mHTTPSConnection.connect\u001b[0;34m(self)\u001b[0m\n\u001b[1;32m   1421\u001b[0m \u001b[39melse\u001b[39;00m:\n\u001b[1;32m   1422\u001b[0m     server_hostname \u001b[39m=\u001b[39m \u001b[39mself\u001b[39m\u001b[39m.\u001b[39mhost\n\u001b[0;32m-> 1424\u001b[0m \u001b[39mself\u001b[39m\u001b[39m.\u001b[39msock \u001b[39m=\u001b[39m \u001b[39mself\u001b[39;49m\u001b[39m.\u001b[39;49m_context\u001b[39m.\u001b[39;49mwrap_socket(\u001b[39mself\u001b[39;49m\u001b[39m.\u001b[39;49msock,\n\u001b[1;32m   1425\u001b[0m                                       server_hostname\u001b[39m=\u001b[39;49mserver_hostname)\n",
      "File \u001b[0;32m/Library/Frameworks/Python.framework/Versions/3.9/lib/python3.9/ssl.py:500\u001b[0m, in \u001b[0;36mSSLContext.wrap_socket\u001b[0;34m(self, sock, server_side, do_handshake_on_connect, suppress_ragged_eofs, server_hostname, session)\u001b[0m\n\u001b[1;32m    494\u001b[0m \u001b[39mdef\u001b[39;00m \u001b[39mwrap_socket\u001b[39m(\u001b[39mself\u001b[39m, sock, server_side\u001b[39m=\u001b[39m\u001b[39mFalse\u001b[39;00m,\n\u001b[1;32m    495\u001b[0m                 do_handshake_on_connect\u001b[39m=\u001b[39m\u001b[39mTrue\u001b[39;00m,\n\u001b[1;32m    496\u001b[0m                 suppress_ragged_eofs\u001b[39m=\u001b[39m\u001b[39mTrue\u001b[39;00m,\n\u001b[1;32m    497\u001b[0m                 server_hostname\u001b[39m=\u001b[39m\u001b[39mNone\u001b[39;00m, session\u001b[39m=\u001b[39m\u001b[39mNone\u001b[39;00m):\n\u001b[1;32m    498\u001b[0m     \u001b[39m# SSLSocket class handles server_hostname encoding before it calls\u001b[39;00m\n\u001b[1;32m    499\u001b[0m     \u001b[39m# ctx._wrap_socket()\u001b[39;00m\n\u001b[0;32m--> 500\u001b[0m     \u001b[39mreturn\u001b[39;00m \u001b[39mself\u001b[39;49m\u001b[39m.\u001b[39;49msslsocket_class\u001b[39m.\u001b[39;49m_create(\n\u001b[1;32m    501\u001b[0m         sock\u001b[39m=\u001b[39;49msock,\n\u001b[1;32m    502\u001b[0m         server_side\u001b[39m=\u001b[39;49mserver_side,\n\u001b[1;32m    503\u001b[0m         do_handshake_on_connect\u001b[39m=\u001b[39;49mdo_handshake_on_connect,\n\u001b[1;32m    504\u001b[0m         suppress_ragged_eofs\u001b[39m=\u001b[39;49msuppress_ragged_eofs,\n\u001b[1;32m    505\u001b[0m         server_hostname\u001b[39m=\u001b[39;49mserver_hostname,\n\u001b[1;32m    506\u001b[0m         context\u001b[39m=\u001b[39;49m\u001b[39mself\u001b[39;49m,\n\u001b[1;32m    507\u001b[0m         session\u001b[39m=\u001b[39;49msession\n\u001b[1;32m    508\u001b[0m     )\n",
      "File \u001b[0;32m/Library/Frameworks/Python.framework/Versions/3.9/lib/python3.9/ssl.py:1040\u001b[0m, in \u001b[0;36mSSLSocket._create\u001b[0;34m(cls, sock, server_side, do_handshake_on_connect, suppress_ragged_eofs, server_hostname, context, session)\u001b[0m\n\u001b[1;32m   1037\u001b[0m         \u001b[39mif\u001b[39;00m timeout \u001b[39m==\u001b[39m \u001b[39m0.0\u001b[39m:\n\u001b[1;32m   1038\u001b[0m             \u001b[39m# non-blocking\u001b[39;00m\n\u001b[1;32m   1039\u001b[0m             \u001b[39mraise\u001b[39;00m \u001b[39mValueError\u001b[39;00m(\u001b[39m\"\u001b[39m\u001b[39mdo_handshake_on_connect should not be specified for non-blocking sockets\u001b[39m\u001b[39m\"\u001b[39m)\n\u001b[0;32m-> 1040\u001b[0m         \u001b[39mself\u001b[39;49m\u001b[39m.\u001b[39;49mdo_handshake()\n\u001b[1;32m   1041\u001b[0m \u001b[39mexcept\u001b[39;00m (\u001b[39mOSError\u001b[39;00m, \u001b[39mValueError\u001b[39;00m):\n\u001b[1;32m   1042\u001b[0m     \u001b[39mself\u001b[39m\u001b[39m.\u001b[39mclose()\n",
      "File \u001b[0;32m/Library/Frameworks/Python.framework/Versions/3.9/lib/python3.9/ssl.py:1309\u001b[0m, in \u001b[0;36mSSLSocket.do_handshake\u001b[0;34m(self, block)\u001b[0m\n\u001b[1;32m   1307\u001b[0m     \u001b[39mif\u001b[39;00m timeout \u001b[39m==\u001b[39m \u001b[39m0.0\u001b[39m \u001b[39mand\u001b[39;00m block:\n\u001b[1;32m   1308\u001b[0m         \u001b[39mself\u001b[39m\u001b[39m.\u001b[39msettimeout(\u001b[39mNone\u001b[39;00m)\n\u001b[0;32m-> 1309\u001b[0m     \u001b[39mself\u001b[39;49m\u001b[39m.\u001b[39;49m_sslobj\u001b[39m.\u001b[39;49mdo_handshake()\n\u001b[1;32m   1310\u001b[0m \u001b[39mfinally\u001b[39;00m:\n\u001b[1;32m   1311\u001b[0m     \u001b[39mself\u001b[39m\u001b[39m.\u001b[39msettimeout(timeout)\n",
      "\u001b[0;31mKeyboardInterrupt\u001b[0m: "
     ]
    }
   ],
   "source": [
    "links = get_links('/wiki/Kevin_Bacon')\n",
    "try:\n",
    "    while len(links) > 0:\n",
    "            newArticle = links[random.randint(0, len(links)-1)].attrs['href']\n",
    "            print(newArticle)\n",
    "            links = get_links(newArticle)\n",
    "finally:\n",
    "    cur.close()\n",
    "    conn.close()"
   ]
  },
  {
   "cell_type": "markdown",
   "metadata": {},
   "source": [
    "6.3.5 -MySQL里的“六度空间游戏”"
   ]
  },
  {
   "cell_type": "code",
   "execution_count": 12,
   "metadata": {},
   "outputs": [],
   "source": [
    "from urllib.request import urlopen\n",
    "from bs4 import BeautifulSoup\n",
    "import re\n",
    "import pymysql\n",
    "from random import shuffle"
   ]
  },
  {
   "cell_type": "code",
   "execution_count": 13,
   "metadata": {},
   "outputs": [
    {
     "data": {
      "text/plain": [
       "0"
      ]
     },
     "execution_count": 13,
     "metadata": {},
     "output_type": "execute_result"
    }
   ],
   "source": [
    "conn = pymysql.connect(host='127.0.0.1', unix_socket='/tmp/mysql.sock',\n",
    "                            user='root', passwd=\"2022mysql\", db='mysql',charset=\"utf8\")\n",
    "cur = conn.cursor()\n",
    "cur.execute('USE scraping')"
   ]
  },
  {
   "cell_type": "code",
   "execution_count": 14,
   "metadata": {},
   "outputs": [],
   "source": [
    "def insertPageIfNotExists(url):\n",
    "    '''正如其名称所示，当页面不存在时，该函数会插入一个新的页面记录。\n",
    "    该页面以及其他 已经抓取的页面作为列表存储在 pages 变量中，\n",
    "    以确保页面记录不会重复。它也提供了 一个供查询的 pageId 数，以创建新的链接。'''\n",
    "    cur.execute(\"select * from wikipedia_pages where url = %s \",(url))\n",
    "    if cur.rowcount == 0:\n",
    "        cur.execute(\"insert into wikipedia_pages (url) values (%s)\",(url))\n",
    "        conn.commit()\n",
    "    else:\n",
    "        return cur.fetchone()[0]"
   ]
  },
  {
   "cell_type": "code",
   "execution_count": 19,
   "metadata": {},
   "outputs": [],
   "source": [
    "def loadPages():\n",
    "    '''该函数将当前所有页面从数据库加载到一个列表中，这样可以确定新的页面是否被访 问过。\n",
    "    在程序运行时也会收集页面，因此如果从一个空的数据库开始，\n",
    "    爬虫仅仅运行 一遍，那么理论上说 loadPages 是不需要的。\n",
    "    实际上，这会导致问题。原因是网络可 能会中断，\n",
    "    或者你希望在不同的时间段抓取各链接，因此让爬虫可以重新自我加载非常 重要。'''\n",
    "    cur.execute(\"select * from wikipedia_pages\")\n",
    "    pages = [row[1] for row in cur.fetchall()]\n",
    "    return pages"
   ]
  },
  {
   "cell_type": "code",
   "execution_count": 20,
   "metadata": {},
   "outputs": [],
   "source": [
    "def insertLink(fromPageId,toPageId):\n",
    "    '''该函数在数据库中创建一个新的链接。如果该链接已经存在，则不会创建。\n",
    "    如果同一个 页面中存在两个或者多个相同的链接，我们会将其当作同一个链接，表示同样的关系， \n",
    "    并且应该被当作一条记录。这样，如果程序对同一页面运行多遍，也有助于维护数据库 的一致性。'''\n",
    "    # 判读处理\n",
    "    if fromPageId is None or toPageId is None:\n",
    "        return \n",
    "    else:    \n",
    "        cur.execute(\"select * from wikipedia_links where fromPageId=%s and toPageId = %s\",(int(fromPageId),int(toPageId)))\n",
    "    if cur.rowcount==0:\n",
    "        cur.execute(\"insert into wikipedia_links(fromPageId,toPageId) values (%s,%s)\",(int(fromPageId),int(toPageId)))\n",
    "        conn.commit()\n",
    "        "
   ]
  },
  {
   "cell_type": "code",
   "execution_count": 21,
   "metadata": {},
   "outputs": [],
   "source": [
    "def getLinks(pageUrl,recursionLevel,pages):\n",
    "    if recursionLevel > 4:\n",
    "        return \n",
    "    pageId = insertPageIfNotExists(pageUrl)\n",
    "    html = urlopen('http://en.wikipedia.org{}'.format(pageUrl))\n",
    "    bs = BeautifulSoup(html, 'html.parser')\n",
    "    links = bs.findAll('a', href=re.compile('^(/wiki/)((?!:).)*$'))\n",
    "    links = [link.attrs['href'] for link in links]\n",
    "     \n",
    "\n",
    "    for link in links:\n",
    "        insertLink(pageId,insertPageIfNotExists(link))\n",
    "        if link not in pages:\n",
    "            # 遇到新页面，加入集合并搜索里面的词条链接\n",
    "            pages.append(link)\n",
    "            getLinks(link,recursionLevel+1,pages)\n"
   ]
  },
  {
   "cell_type": "code",
   "execution_count": 22,
   "metadata": {},
   "outputs": [
    {
     "ename": "KeyboardInterrupt",
     "evalue": "",
     "output_type": "error",
     "traceback": [
      "\u001b[0;31m---------------------------------------------------------------------------\u001b[0m",
      "\u001b[0;31mKeyboardInterrupt\u001b[0m                         Traceback (most recent call last)",
      "\u001b[1;32m/Users/danyow/Desktop/extra-learning/spyier/chapter6-storage.ipynb Cell 36\u001b[0m in \u001b[0;36m<cell line: 1>\u001b[0;34m()\u001b[0m\n\u001b[0;32m----> <a href='vscode-notebook-cell:/Users/danyow/Desktop/extra-learning/spyier/chapter6-storage.ipynb#X52sZmlsZQ%3D%3D?line=0'>1</a>\u001b[0m getLinks(\u001b[39m'\u001b[39;49m\u001b[39m/wiki/Kevin_Bacon\u001b[39;49m\u001b[39m'\u001b[39;49m, \u001b[39m0\u001b[39;49m, loadPages())\n\u001b[1;32m      <a href='vscode-notebook-cell:/Users/danyow/Desktop/extra-learning/spyier/chapter6-storage.ipynb#X52sZmlsZQ%3D%3D?line=1'>2</a>\u001b[0m cur\u001b[39m.\u001b[39mclose()\n\u001b[1;32m      <a href='vscode-notebook-cell:/Users/danyow/Desktop/extra-learning/spyier/chapter6-storage.ipynb#X52sZmlsZQ%3D%3D?line=2'>3</a>\u001b[0m conn\u001b[39m.\u001b[39mclose()\n",
      "\u001b[1;32m/Users/danyow/Desktop/extra-learning/spyier/chapter6-storage.ipynb Cell 36\u001b[0m in \u001b[0;36mgetLinks\u001b[0;34m(pageUrl, recursionLevel, pages)\u001b[0m\n\u001b[1;32m     <a href='vscode-notebook-cell:/Users/danyow/Desktop/extra-learning/spyier/chapter6-storage.ipynb#X52sZmlsZQ%3D%3D?line=12'>13</a>\u001b[0m \u001b[39mif\u001b[39;00m link \u001b[39mnot\u001b[39;00m \u001b[39min\u001b[39;00m pages:\n\u001b[1;32m     <a href='vscode-notebook-cell:/Users/danyow/Desktop/extra-learning/spyier/chapter6-storage.ipynb#X52sZmlsZQ%3D%3D?line=13'>14</a>\u001b[0m     \u001b[39m# 遇到新页面，加入集合并搜索里面的词条链接\u001b[39;00m\n\u001b[1;32m     <a href='vscode-notebook-cell:/Users/danyow/Desktop/extra-learning/spyier/chapter6-storage.ipynb#X52sZmlsZQ%3D%3D?line=14'>15</a>\u001b[0m     pages\u001b[39m.\u001b[39mappend(link)\n\u001b[0;32m---> <a href='vscode-notebook-cell:/Users/danyow/Desktop/extra-learning/spyier/chapter6-storage.ipynb#X52sZmlsZQ%3D%3D?line=15'>16</a>\u001b[0m     getLinks(link,recursionLevel\u001b[39m+\u001b[39;49m\u001b[39m1\u001b[39;49m,pages)\n",
      "\u001b[1;32m/Users/danyow/Desktop/extra-learning/spyier/chapter6-storage.ipynb Cell 36\u001b[0m in \u001b[0;36mgetLinks\u001b[0;34m(pageUrl, recursionLevel, pages)\u001b[0m\n\u001b[1;32m     <a href='vscode-notebook-cell:/Users/danyow/Desktop/extra-learning/spyier/chapter6-storage.ipynb#X52sZmlsZQ%3D%3D?line=12'>13</a>\u001b[0m \u001b[39mif\u001b[39;00m link \u001b[39mnot\u001b[39;00m \u001b[39min\u001b[39;00m pages:\n\u001b[1;32m     <a href='vscode-notebook-cell:/Users/danyow/Desktop/extra-learning/spyier/chapter6-storage.ipynb#X52sZmlsZQ%3D%3D?line=13'>14</a>\u001b[0m     \u001b[39m# 遇到新页面，加入集合并搜索里面的词条链接\u001b[39;00m\n\u001b[1;32m     <a href='vscode-notebook-cell:/Users/danyow/Desktop/extra-learning/spyier/chapter6-storage.ipynb#X52sZmlsZQ%3D%3D?line=14'>15</a>\u001b[0m     pages\u001b[39m.\u001b[39mappend(link)\n\u001b[0;32m---> <a href='vscode-notebook-cell:/Users/danyow/Desktop/extra-learning/spyier/chapter6-storage.ipynb#X52sZmlsZQ%3D%3D?line=15'>16</a>\u001b[0m     getLinks(link,recursionLevel\u001b[39m+\u001b[39;49m\u001b[39m1\u001b[39;49m,pages)\n",
      "    \u001b[0;31m[... skipping similar frames: getLinks at line 16 (1 times)]\u001b[0m\n",
      "\u001b[1;32m/Users/danyow/Desktop/extra-learning/spyier/chapter6-storage.ipynb Cell 36\u001b[0m in \u001b[0;36mgetLinks\u001b[0;34m(pageUrl, recursionLevel, pages)\u001b[0m\n\u001b[1;32m     <a href='vscode-notebook-cell:/Users/danyow/Desktop/extra-learning/spyier/chapter6-storage.ipynb#X52sZmlsZQ%3D%3D?line=12'>13</a>\u001b[0m \u001b[39mif\u001b[39;00m link \u001b[39mnot\u001b[39;00m \u001b[39min\u001b[39;00m pages:\n\u001b[1;32m     <a href='vscode-notebook-cell:/Users/danyow/Desktop/extra-learning/spyier/chapter6-storage.ipynb#X52sZmlsZQ%3D%3D?line=13'>14</a>\u001b[0m     \u001b[39m# 遇到新页面，加入集合并搜索里面的词条链接\u001b[39;00m\n\u001b[1;32m     <a href='vscode-notebook-cell:/Users/danyow/Desktop/extra-learning/spyier/chapter6-storage.ipynb#X52sZmlsZQ%3D%3D?line=14'>15</a>\u001b[0m     pages\u001b[39m.\u001b[39mappend(link)\n\u001b[0;32m---> <a href='vscode-notebook-cell:/Users/danyow/Desktop/extra-learning/spyier/chapter6-storage.ipynb#X52sZmlsZQ%3D%3D?line=15'>16</a>\u001b[0m     getLinks(link,recursionLevel\u001b[39m+\u001b[39;49m\u001b[39m1\u001b[39;49m,pages)\n",
      "\u001b[1;32m/Users/danyow/Desktop/extra-learning/spyier/chapter6-storage.ipynb Cell 36\u001b[0m in \u001b[0;36mgetLinks\u001b[0;34m(pageUrl, recursionLevel, pages)\u001b[0m\n\u001b[1;32m      <a href='vscode-notebook-cell:/Users/danyow/Desktop/extra-learning/spyier/chapter6-storage.ipynb#X52sZmlsZQ%3D%3D?line=7'>8</a>\u001b[0m links \u001b[39m=\u001b[39m [link\u001b[39m.\u001b[39mattrs[\u001b[39m'\u001b[39m\u001b[39mhref\u001b[39m\u001b[39m'\u001b[39m] \u001b[39mfor\u001b[39;00m link \u001b[39min\u001b[39;00m links]\n\u001b[1;32m     <a href='vscode-notebook-cell:/Users/danyow/Desktop/extra-learning/spyier/chapter6-storage.ipynb#X52sZmlsZQ%3D%3D?line=10'>11</a>\u001b[0m \u001b[39mfor\u001b[39;00m link \u001b[39min\u001b[39;00m links:\n\u001b[0;32m---> <a href='vscode-notebook-cell:/Users/danyow/Desktop/extra-learning/spyier/chapter6-storage.ipynb#X52sZmlsZQ%3D%3D?line=11'>12</a>\u001b[0m     insertLink(pageId,insertPageIfNotExists(link))\n\u001b[1;32m     <a href='vscode-notebook-cell:/Users/danyow/Desktop/extra-learning/spyier/chapter6-storage.ipynb#X52sZmlsZQ%3D%3D?line=12'>13</a>\u001b[0m     \u001b[39mif\u001b[39;00m link \u001b[39mnot\u001b[39;00m \u001b[39min\u001b[39;00m pages:\n\u001b[1;32m     <a href='vscode-notebook-cell:/Users/danyow/Desktop/extra-learning/spyier/chapter6-storage.ipynb#X52sZmlsZQ%3D%3D?line=13'>14</a>\u001b[0m         \u001b[39m# 遇到新页面，加入集合并搜索里面的词条链接\u001b[39;00m\n\u001b[1;32m     <a href='vscode-notebook-cell:/Users/danyow/Desktop/extra-learning/spyier/chapter6-storage.ipynb#X52sZmlsZQ%3D%3D?line=14'>15</a>\u001b[0m         pages\u001b[39m.\u001b[39mappend(link)\n",
      "\u001b[1;32m/Users/danyow/Desktop/extra-learning/spyier/chapter6-storage.ipynb Cell 36\u001b[0m in \u001b[0;36minsertLink\u001b[0;34m(fromPageId, toPageId)\u001b[0m\n\u001b[1;32m      <a href='vscode-notebook-cell:/Users/danyow/Desktop/extra-learning/spyier/chapter6-storage.ipynb#X52sZmlsZQ%3D%3D?line=6'>7</a>\u001b[0m \u001b[39mif\u001b[39;00m cur\u001b[39m.\u001b[39mrowcount\u001b[39m==\u001b[39m\u001b[39m0\u001b[39m:\n\u001b[1;32m      <a href='vscode-notebook-cell:/Users/danyow/Desktop/extra-learning/spyier/chapter6-storage.ipynb#X52sZmlsZQ%3D%3D?line=7'>8</a>\u001b[0m     cur\u001b[39m.\u001b[39mexecute(\u001b[39m\"\u001b[39m\u001b[39minsert into wikipedia_links(fromPageId,toPageId) values (\u001b[39m\u001b[39m%s\u001b[39;00m\u001b[39m,\u001b[39m\u001b[39m%s\u001b[39;00m\u001b[39m)\u001b[39m\u001b[39m\"\u001b[39m,(\u001b[39mint\u001b[39m(fromPageId),\u001b[39mint\u001b[39m(toPageId)))\n\u001b[0;32m----> <a href='vscode-notebook-cell:/Users/danyow/Desktop/extra-learning/spyier/chapter6-storage.ipynb#X52sZmlsZQ%3D%3D?line=8'>9</a>\u001b[0m     conn\u001b[39m.\u001b[39;49mcommit()\n",
      "File \u001b[0;32m~/envs/myenvs/lib/python3.9/site-packages/pymysql/connections.py:470\u001b[0m, in \u001b[0;36mConnection.commit\u001b[0;34m(self)\u001b[0m\n\u001b[1;32m    463\u001b[0m \u001b[39m\"\"\"\u001b[39;00m\n\u001b[1;32m    464\u001b[0m \u001b[39mCommit changes to stable storage.\u001b[39;00m\n\u001b[1;32m    465\u001b[0m \n\u001b[1;32m    466\u001b[0m \u001b[39mSee `Connection.commit() <https://www.python.org/dev/peps/pep-0249/#commit>`_\u001b[39;00m\n\u001b[1;32m    467\u001b[0m \u001b[39min the specification.\u001b[39;00m\n\u001b[1;32m    468\u001b[0m \u001b[39m\"\"\"\u001b[39;00m\n\u001b[1;32m    469\u001b[0m \u001b[39mself\u001b[39m\u001b[39m.\u001b[39m_execute_command(COMMAND\u001b[39m.\u001b[39mCOM_QUERY, \u001b[39m\"\u001b[39m\u001b[39mCOMMIT\u001b[39m\u001b[39m\"\u001b[39m)\n\u001b[0;32m--> 470\u001b[0m \u001b[39mself\u001b[39;49m\u001b[39m.\u001b[39;49m_read_ok_packet()\n",
      "File \u001b[0;32m~/envs/myenvs/lib/python3.9/site-packages/pymysql/connections.py:443\u001b[0m, in \u001b[0;36mConnection._read_ok_packet\u001b[0;34m(self)\u001b[0m\n\u001b[1;32m    442\u001b[0m \u001b[39mdef\u001b[39;00m \u001b[39m_read_ok_packet\u001b[39m(\u001b[39mself\u001b[39m):\n\u001b[0;32m--> 443\u001b[0m     pkt \u001b[39m=\u001b[39m \u001b[39mself\u001b[39;49m\u001b[39m.\u001b[39;49m_read_packet()\n\u001b[1;32m    444\u001b[0m     \u001b[39mif\u001b[39;00m \u001b[39mnot\u001b[39;00m pkt\u001b[39m.\u001b[39mis_ok_packet():\n\u001b[1;32m    445\u001b[0m         \u001b[39mraise\u001b[39;00m err\u001b[39m.\u001b[39mOperationalError(\u001b[39m2014\u001b[39m, \u001b[39m\"\u001b[39m\u001b[39mCommand Out of Sync\u001b[39m\u001b[39m\"\u001b[39m)\n",
      "File \u001b[0;32m~/envs/myenvs/lib/python3.9/site-packages/pymysql/connections.py:692\u001b[0m, in \u001b[0;36mConnection._read_packet\u001b[0;34m(self, packet_type)\u001b[0m\n\u001b[1;32m    690\u001b[0m buff \u001b[39m=\u001b[39m \u001b[39mbytearray\u001b[39m()\n\u001b[1;32m    691\u001b[0m \u001b[39mwhile\u001b[39;00m \u001b[39mTrue\u001b[39;00m:\n\u001b[0;32m--> 692\u001b[0m     packet_header \u001b[39m=\u001b[39m \u001b[39mself\u001b[39;49m\u001b[39m.\u001b[39;49m_read_bytes(\u001b[39m4\u001b[39;49m)\n\u001b[1;32m    693\u001b[0m     \u001b[39m# if DEBUG: dump_packet(packet_header)\u001b[39;00m\n\u001b[1;32m    695\u001b[0m     btrl, btrh, packet_number \u001b[39m=\u001b[39m struct\u001b[39m.\u001b[39munpack(\u001b[39m\"\u001b[39m\u001b[39m<HBB\u001b[39m\u001b[39m\"\u001b[39m, packet_header)\n",
      "File \u001b[0;32m~/envs/myenvs/lib/python3.9/site-packages/pymysql/connections.py:732\u001b[0m, in \u001b[0;36mConnection._read_bytes\u001b[0;34m(self, num_bytes)\u001b[0m\n\u001b[1;32m    730\u001b[0m \u001b[39mwhile\u001b[39;00m \u001b[39mTrue\u001b[39;00m:\n\u001b[1;32m    731\u001b[0m     \u001b[39mtry\u001b[39;00m:\n\u001b[0;32m--> 732\u001b[0m         data \u001b[39m=\u001b[39m \u001b[39mself\u001b[39;49m\u001b[39m.\u001b[39;49m_rfile\u001b[39m.\u001b[39;49mread(num_bytes)\n\u001b[1;32m    733\u001b[0m         \u001b[39mbreak\u001b[39;00m\n\u001b[1;32m    734\u001b[0m     \u001b[39mexcept\u001b[39;00m (\u001b[39mIOError\u001b[39;00m, \u001b[39mOSError\u001b[39;00m) \u001b[39mas\u001b[39;00m e:\n",
      "File \u001b[0;32m/Library/Frameworks/Python.framework/Versions/3.9/lib/python3.9/socket.py:704\u001b[0m, in \u001b[0;36mSocketIO.readinto\u001b[0;34m(self, b)\u001b[0m\n\u001b[1;32m    702\u001b[0m \u001b[39mwhile\u001b[39;00m \u001b[39mTrue\u001b[39;00m:\n\u001b[1;32m    703\u001b[0m     \u001b[39mtry\u001b[39;00m:\n\u001b[0;32m--> 704\u001b[0m         \u001b[39mreturn\u001b[39;00m \u001b[39mself\u001b[39;49m\u001b[39m.\u001b[39;49m_sock\u001b[39m.\u001b[39;49mrecv_into(b)\n\u001b[1;32m    705\u001b[0m     \u001b[39mexcept\u001b[39;00m timeout:\n\u001b[1;32m    706\u001b[0m         \u001b[39mself\u001b[39m\u001b[39m.\u001b[39m_timeout_occurred \u001b[39m=\u001b[39m \u001b[39mTrue\u001b[39;00m\n",
      "\u001b[0;31mKeyboardInterrupt\u001b[0m: "
     ]
    }
   ],
   "source": [
    "getLinks('/wiki/Kevin_Bacon', 0, loadPages())\n",
    "cur.close()\n",
    "conn.close()"
   ]
  },
  {
   "cell_type": "markdown",
   "metadata": {},
   "source": [
    "相关sql代码片段：\n",
    "\n",
    "<code>\n",
    "-- create table pages(\n",
    "-- id BIGINT(7) not null auto_increment,\n",
    "-- title VARCHAR(200),\n",
    "-- content VARCHAR(10000),\n",
    "-- created TIMESTAMP DEFAULT CURRENT_TIMESTAMP,\n",
    "-- PRIMARY KEY(id)\n",
    "-- );\n",
    "</code>\n",
    "<code>\n",
    "-- DESCRIBE pages;\n",
    "</code>\n",
    "\n",
    "<code>\n",
    "-- INSERT into pages\n",
    "-- (title,content) \n",
    "-- VALUES\n",
    "-- (\"test title\",\"test content\");\n",
    "</code>\n",
    "\n",
    "<code>\n",
    "-- INSERT INTO pages (id, title, content, created) VALUES (3,\n",
    "--       \"Test page title\",\n",
    "--       \"This is some test page content. It can be up to 10,000 characters\n",
    "--       long.\", \"2014-09-21 10:25:32\");\n",
    "</code>\n",
    "\n",
    "<code>\n",
    "select * from wikipedia_links;\n",
    "-- SELECT id, title FROM pages WHERE content LIKE \"%page content%\";\n",
    "-- CREATE TABLE wikipedia_pages(\n",
    "-- id int(7) not null auto_increment,\n",
    "-- url varchar(255) not null,\n",
    "-- created timestamp not null default current_timestamp,\n",
    "-- PRIMARY KEY(id)\n",
    "-- );\n",
    "</code>\n",
    "\n",
    "<code>\n",
    "-- CREATE TABLE wikipedia_links(\n",
    "-- id int not null auto_increment ,\n",
    "-- fromPageId int null,\n",
    "-- toPageId int null,\n",
    "-- created timestamp not null default current_timestamp,\n",
    "-- PRIMARY key (id)\n",
    "-- );\n",
    "</code>"
   ]
  },
  {
   "cell_type": "markdown",
   "metadata": {},
   "source": [
    "email:\n",
    "**Python** 有两个重要的包可以发送邮件:smtplib 和 email。"
   ]
  },
  {
   "cell_type": "code",
   "execution_count": 24,
   "metadata": {},
   "outputs": [
    {
     "ename": "SMTPSenderRefused",
     "evalue": "(553, b'authentication is required,163 smtp8,DMCowADHAiHj6wRjJ07GVw--.45077S2 1661266916', '17702069165@163.com')",
     "output_type": "error",
     "traceback": [
      "\u001b[0;31m---------------------------------------------------------------------------\u001b[0m",
      "\u001b[0;31mSMTPSenderRefused\u001b[0m                         Traceback (most recent call last)",
      "\u001b[1;32m/Users/danyow/Desktop/extra-learning/spyier/chapter6-storage.ipynb Cell 39\u001b[0m in \u001b[0;36m<cell line: 8>\u001b[0;34m()\u001b[0m\n\u001b[1;32m      <a href='vscode-notebook-cell:/Users/danyow/Desktop/extra-learning/spyier/chapter6-storage.ipynb#X56sZmlsZQ%3D%3D?line=5'>6</a>\u001b[0m msg[\u001b[39m'\u001b[39m\u001b[39mTo\u001b[39m\u001b[39m'\u001b[39m] \u001b[39m=\u001b[39m \u001b[39m'\u001b[39m\u001b[39mdanyowchueng@gmail.com\u001b[39m\u001b[39m'\u001b[39m\n\u001b[1;32m      <a href='vscode-notebook-cell:/Users/danyow/Desktop/extra-learning/spyier/chapter6-storage.ipynb#X56sZmlsZQ%3D%3D?line=6'>7</a>\u001b[0m s \u001b[39m=\u001b[39m smtplib\u001b[39m.\u001b[39mSMTP(\u001b[39m'\u001b[39m\u001b[39msmtp.163.com\u001b[39m\u001b[39m'\u001b[39m,)\n\u001b[0;32m----> <a href='vscode-notebook-cell:/Users/danyow/Desktop/extra-learning/spyier/chapter6-storage.ipynb#X56sZmlsZQ%3D%3D?line=7'>8</a>\u001b[0m s\u001b[39m.\u001b[39;49msend_message(msg)\n\u001b[1;32m      <a href='vscode-notebook-cell:/Users/danyow/Desktop/extra-learning/spyier/chapter6-storage.ipynb#X56sZmlsZQ%3D%3D?line=8'>9</a>\u001b[0m s\u001b[39m.\u001b[39mquit()\n",
      "File \u001b[0;32m/Library/Frameworks/Python.framework/Versions/3.9/lib/python3.9/smtplib.py:970\u001b[0m, in \u001b[0;36mSMTP.send_message\u001b[0;34m(self, msg, from_addr, to_addrs, mail_options, rcpt_options)\u001b[0m\n\u001b[1;32m    968\u001b[0m     g\u001b[39m.\u001b[39mflatten(msg_copy, linesep\u001b[39m=\u001b[39m\u001b[39m'\u001b[39m\u001b[39m\\r\u001b[39;00m\u001b[39m\\n\u001b[39;00m\u001b[39m'\u001b[39m)\n\u001b[1;32m    969\u001b[0m     flatmsg \u001b[39m=\u001b[39m bytesmsg\u001b[39m.\u001b[39mgetvalue()\n\u001b[0;32m--> 970\u001b[0m \u001b[39mreturn\u001b[39;00m \u001b[39mself\u001b[39;49m\u001b[39m.\u001b[39;49msendmail(from_addr, to_addrs, flatmsg, mail_options,\n\u001b[1;32m    971\u001b[0m                      rcpt_options)\n",
      "File \u001b[0;32m/Library/Frameworks/Python.framework/Versions/3.9/lib/python3.9/smtplib.py:871\u001b[0m, in \u001b[0;36mSMTP.sendmail\u001b[0;34m(self, from_addr, to_addrs, msg, mail_options, rcpt_options)\u001b[0m\n\u001b[1;32m    869\u001b[0m     \u001b[39melse\u001b[39;00m:\n\u001b[1;32m    870\u001b[0m         \u001b[39mself\u001b[39m\u001b[39m.\u001b[39m_rset()\n\u001b[0;32m--> 871\u001b[0m     \u001b[39mraise\u001b[39;00m SMTPSenderRefused(code, resp, from_addr)\n\u001b[1;32m    872\u001b[0m senderrs \u001b[39m=\u001b[39m {}\n\u001b[1;32m    873\u001b[0m \u001b[39mif\u001b[39;00m \u001b[39misinstance\u001b[39m(to_addrs, \u001b[39mstr\u001b[39m):\n",
      "\u001b[0;31mSMTPSenderRefused\u001b[0m: (553, b'authentication is required,163 smtp8,DMCowADHAiHj6wRjJ07GVw--.45077S2 1661266916', '17702069165@163.com')"
     ]
    }
   ],
   "source": [
    "import smtplib\n",
    "from email.mime.text import MIMEText\n",
    "\n",
    "msg = MIMEText(\"i am the email from python\")\n",
    "msg['Subject'] = \"python email\"\n",
    "msg[\"From\"] = '17702069165@163.com'\n",
    "msg['To'] = 'danyowchueng@gmail.com'\n",
    "s = smtplib.SMTP('smtp.163.com',)\n",
    "s.send_message(msg)\n",
    "s.quit()\n",
    "\n",
    "\n",
    "# # 发信方的信息：发信邮箱，QQ邮箱授权码\n",
    "# from_addr = '17702069165@163.com'\n",
    "# password = ''\n",
    "\n",
    "# # 收信方邮箱\n",
    "# to_addr = 'xxx@qq.com'\n",
    "\n",
    "# # 发信服务器\n",
    "# smtp_server = 'smtp.qq.com'\n",
    "\n",
    "\n",
    "# server = smtplib.SMTP_SSL()\n",
    "# server.connect(smtp_server,465)\n",
    "\n",
    "# server.login(from_addr, password)\n",
    "# # 发送邮件\n",
    "# server.sendmail(from_addr, to_addr, msg.as_string())\n",
    "# # 关闭服务器\n",
    "# server.quit()\n"
   ]
  },
  {
   "cell_type": "code",
   "execution_count": null,
   "metadata": {},
   "outputs": [],
   "source": [
    "import smtplib\n",
    "from email.mime.text import MIMEText\n",
    "from bs4 import BeautifulSoup\n",
    "from urllib.request import urlopen\n",
    "import time\n",
    "\n",
    "\n",
    "def sendMail(subject, body):\n",
    "    msg = MIMEText(body)\n",
    "    msg['Subject'] = subject\n",
    "    msg['From'] ='christmas_alerts@pythonscraping.com'\n",
    "    msg['To'] = 'ryan@pythonscraping.com'\n",
    "    s = smtplib.SMTP('localhost')\n",
    "    s.send_message(msg)\n",
    "    s.quit()\n",
    "    \n",
    "\n",
    "bs = BeautifulSoup(urlopen('https://isitchristmas.com/'), 'html.parser')\n",
    "while(bs.find('a', {'id':'answer'}).attrs['title'] == 'NO'):\n",
    "    print('It is not Christmas yet.')\n",
    "    time.sleep(3600)\n",
    "    bs = BeautifulSoup(urlopen('https://isitchristmas.com/'), 'html.parser')\n",
    "    sendMail('It\\'s Christmas!','According to https://isitchristmas.com, it is Christmas!')"
   ]
  }
 ],
 "metadata": {
  "kernelspec": {
   "display_name": "Python 3.9.2 ('myenvs')",
   "language": "python",
   "name": "python3"
  },
  "language_info": {
   "codemirror_mode": {
    "name": "ipython",
    "version": 3
   },
   "file_extension": ".py",
   "mimetype": "text/x-python",
   "name": "python",
   "nbconvert_exporter": "python",
   "pygments_lexer": "ipython3",
   "version": "3.9.2"
  },
  "orig_nbformat": 4,
  "vscode": {
   "interpreter": {
    "hash": "a051216bf3a65c020b643b52ab15d0714db61718a99958c54a11e422694469a1"
   }
  }
 },
 "nbformat": 4,
 "nbformat_minor": 2
}
