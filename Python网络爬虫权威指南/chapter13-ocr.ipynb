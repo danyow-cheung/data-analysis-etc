{
 "cells": [
  {
   "cell_type": "markdown",
   "metadata": {},
   "source": [
    "# 图像识别与文字处理\n",
    "1. OCR库概述\n",
    "\n",
    "对于图像读取和处理、图像相关的机器学习以及图像创建等任务来说，Python 是一门非 常出色的语言。虽然有很多库可以进行图像处理，但这里只重点介绍两个库:<u>Pillow</u> 和 <u>Tesseract</u>。这两个库互为补充，共同对互联网上的图片进行处理和 OCR 识别。Pillow 执行第一步， 清洗和过滤图像，而 Tesseract 尝试将图像中的形状与库里面存储的文字相匹配。"
   ]
  },
  {
   "cell_type": "code",
   "execution_count": 3,
   "metadata": {},
   "outputs": [
    {
     "ename": "FileNotFoundError",
     "evalue": "[Errno 2] No such file or directory: 'tesseract'",
     "output_type": "error",
     "traceback": [
      "\u001b[0;31m---------------------------------------------------------------------------\u001b[0m",
      "\u001b[0;31mFileNotFoundError\u001b[0m                         Traceback (most recent call last)",
      "\u001b[1;32m/Users/danyow/Desktop/extra-learning/spyier/chapter13-ocr.ipynb Cell 2\u001b[0m in \u001b[0;36m<cell line: 6>\u001b[0;34m()\u001b[0m\n\u001b[1;32m      <a href='vscode-notebook-cell:/Users/danyow/Desktop/extra-learning/spyier/chapter13-ocr.ipynb#W2sZmlsZQ%3D%3D?line=2'>3</a>\u001b[0m \u001b[39mfrom\u001b[39;00m \u001b[39mpytesseract\u001b[39;00m \u001b[39mimport\u001b[39;00m Output\n\u001b[1;32m      <a href='vscode-notebook-cell:/Users/danyow/Desktop/extra-learning/spyier/chapter13-ocr.ipynb#W2sZmlsZQ%3D%3D?line=4'>5</a>\u001b[0m \u001b[39m# print(pytesseract.image_to_string(Image.open(\"data_output/logo.jpg\")))\u001b[39;00m\n\u001b[0;32m----> <a href='vscode-notebook-cell:/Users/danyow/Desktop/extra-learning/spyier/chapter13-ocr.ipynb#W2sZmlsZQ%3D%3D?line=5'>6</a>\u001b[0m \u001b[39mprint\u001b[39m(pytesseract\u001b[39m.\u001b[39;49mimage_to_data(Image\u001b[39m.\u001b[39;49mopen(\u001b[39m'\u001b[39;49m\u001b[39mdata_output/\u001b[39;49m\u001b[39m'\u001b[39;49m\n\u001b[1;32m      <a href='vscode-notebook-cell:/Users/danyow/Desktop/extra-learning/spyier/chapter13-ocr.ipynb#W2sZmlsZQ%3D%3D?line=6'>7</a>\u001b[0m     \u001b[39m'\u001b[39;49m\u001b[39mlogo.jpg\u001b[39;49m\u001b[39m'\u001b[39;49m),\n\u001b[1;32m      <a href='vscode-notebook-cell:/Users/danyow/Desktop/extra-learning/spyier/chapter13-ocr.ipynb#W2sZmlsZQ%3D%3D?line=7'>8</a>\u001b[0m     output_type\u001b[39m=\u001b[39;49mOutput\u001b[39m.\u001b[39;49mDICT))\n",
      "File \u001b[0;32m~/envs/myenvs/lib/python3.9/site-packages/pytesseract/pytesseract.py:224\u001b[0m, in \u001b[0;36mimage_to_data\u001b[0;34m(image, lang, config, nice, output_type)\u001b[0m\n\u001b[1;32m    218\u001b[0m \u001b[39m'''\u001b[39;00m\n\u001b[1;32m    219\u001b[0m \u001b[39mReturns string containing box boundaries, confidences,\u001b[39;00m\n\u001b[1;32m    220\u001b[0m \u001b[39mand other information. Requires Tesseract 3.05+\u001b[39;00m\n\u001b[1;32m    221\u001b[0m \u001b[39m'''\u001b[39;00m\n\u001b[1;32m    222\u001b[0m \u001b[39mif\u001b[39;00m output_type \u001b[39m==\u001b[39m Output\u001b[39m.\u001b[39mDICT:\n\u001b[1;32m    223\u001b[0m     \u001b[39mreturn\u001b[39;00m file_to_dict(\n\u001b[0;32m--> 224\u001b[0m         run_and_get_output(image, \u001b[39m'\u001b[39;49m\u001b[39mtsv\u001b[39;49m\u001b[39m'\u001b[39;49m, lang, config, nice), \u001b[39m'\u001b[39m\u001b[39m\\t\u001b[39;00m\u001b[39m'\u001b[39m, \u001b[39m-\u001b[39m\u001b[39m1\u001b[39m)\n\u001b[1;32m    225\u001b[0m \u001b[39melif\u001b[39;00m output_type \u001b[39m==\u001b[39m Output\u001b[39m.\u001b[39mBYTES:\n\u001b[1;32m    226\u001b[0m     \u001b[39mreturn\u001b[39;00m run_and_get_output(image, \u001b[39m'\u001b[39m\u001b[39mtsv\u001b[39m\u001b[39m'\u001b[39m, lang, config, nice, \u001b[39mTrue\u001b[39;00m)\n",
      "File \u001b[0;32m~/envs/myenvs/lib/python3.9/site-packages/pytesseract/pytesseract.py:136\u001b[0m, in \u001b[0;36mrun_and_get_output\u001b[0;34m(image, extension, lang, config, nice, return_bytes)\u001b[0m\n\u001b[1;32m    126\u001b[0m temp_name, img_extention \u001b[39m=\u001b[39m save_image(image)\n\u001b[1;32m    127\u001b[0m kwargs \u001b[39m=\u001b[39m {\n\u001b[1;32m    128\u001b[0m     \u001b[39m'\u001b[39m\u001b[39minput_filename\u001b[39m\u001b[39m'\u001b[39m: temp_name \u001b[39m+\u001b[39m os\u001b[39m.\u001b[39mextsep \u001b[39m+\u001b[39m img_extention,\n\u001b[1;32m    129\u001b[0m     \u001b[39m'\u001b[39m\u001b[39moutput_filename_base\u001b[39m\u001b[39m'\u001b[39m: temp_name \u001b[39m+\u001b[39m \u001b[39m'\u001b[39m\u001b[39m_out\u001b[39m\u001b[39m'\u001b[39m,\n\u001b[0;32m   (...)\u001b[0m\n\u001b[1;32m    133\u001b[0m     \u001b[39m'\u001b[39m\u001b[39mnice\u001b[39m\u001b[39m'\u001b[39m: nice\n\u001b[1;32m    134\u001b[0m }\n\u001b[0;32m--> 136\u001b[0m run_tesseract(\u001b[39m*\u001b[39;49m\u001b[39m*\u001b[39;49mkwargs)\n\u001b[1;32m    137\u001b[0m filename \u001b[39m=\u001b[39m kwargs[\u001b[39m'\u001b[39m\u001b[39moutput_filename_base\u001b[39m\u001b[39m'\u001b[39m] \u001b[39m+\u001b[39m os\u001b[39m.\u001b[39mextsep \u001b[39m+\u001b[39m extension\n\u001b[1;32m    138\u001b[0m \u001b[39mwith\u001b[39;00m \u001b[39mopen\u001b[39m(filename, \u001b[39m'\u001b[39m\u001b[39mrb\u001b[39m\u001b[39m'\u001b[39m) \u001b[39mas\u001b[39;00m output_file:\n",
      "File \u001b[0;32m~/envs/myenvs/lib/python3.9/site-packages/pytesseract/pytesseract.py:107\u001b[0m, in \u001b[0;36mrun_tesseract\u001b[0;34m(input_filename, output_filename_base, extension, lang, config, nice)\u001b[0m\n\u001b[1;32m    104\u001b[0m \u001b[39mif\u001b[39;00m extension \u001b[39m!=\u001b[39m \u001b[39m'\u001b[39m\u001b[39mbox\u001b[39m\u001b[39m'\u001b[39m:\n\u001b[1;32m    105\u001b[0m     command\u001b[39m.\u001b[39mappend(extension)\n\u001b[0;32m--> 107\u001b[0m proc \u001b[39m=\u001b[39m subprocess\u001b[39m.\u001b[39;49mPopen(command, stderr\u001b[39m=\u001b[39;49msubprocess\u001b[39m.\u001b[39;49mPIPE)\n\u001b[1;32m    108\u001b[0m status_code, error_string \u001b[39m=\u001b[39m proc\u001b[39m.\u001b[39mwait(), proc\u001b[39m.\u001b[39mstderr\u001b[39m.\u001b[39mread()\n\u001b[1;32m    109\u001b[0m proc\u001b[39m.\u001b[39mstderr\u001b[39m.\u001b[39mclose()\n",
      "File \u001b[0;32m/Library/Frameworks/Python.framework/Versions/3.9/lib/python3.9/subprocess.py:951\u001b[0m, in \u001b[0;36mPopen.__init__\u001b[0;34m(self, args, bufsize, executable, stdin, stdout, stderr, preexec_fn, close_fds, shell, cwd, env, universal_newlines, startupinfo, creationflags, restore_signals, start_new_session, pass_fds, user, group, extra_groups, encoding, errors, text, umask)\u001b[0m\n\u001b[1;32m    947\u001b[0m         \u001b[39mif\u001b[39;00m \u001b[39mself\u001b[39m\u001b[39m.\u001b[39mtext_mode:\n\u001b[1;32m    948\u001b[0m             \u001b[39mself\u001b[39m\u001b[39m.\u001b[39mstderr \u001b[39m=\u001b[39m io\u001b[39m.\u001b[39mTextIOWrapper(\u001b[39mself\u001b[39m\u001b[39m.\u001b[39mstderr,\n\u001b[1;32m    949\u001b[0m                     encoding\u001b[39m=\u001b[39mencoding, errors\u001b[39m=\u001b[39merrors)\n\u001b[0;32m--> 951\u001b[0m     \u001b[39mself\u001b[39;49m\u001b[39m.\u001b[39;49m_execute_child(args, executable, preexec_fn, close_fds,\n\u001b[1;32m    952\u001b[0m                         pass_fds, cwd, env,\n\u001b[1;32m    953\u001b[0m                         startupinfo, creationflags, shell,\n\u001b[1;32m    954\u001b[0m                         p2cread, p2cwrite,\n\u001b[1;32m    955\u001b[0m                         c2pread, c2pwrite,\n\u001b[1;32m    956\u001b[0m                         errread, errwrite,\n\u001b[1;32m    957\u001b[0m                         restore_signals,\n\u001b[1;32m    958\u001b[0m                         gid, gids, uid, umask,\n\u001b[1;32m    959\u001b[0m                         start_new_session)\n\u001b[1;32m    960\u001b[0m \u001b[39mexcept\u001b[39;00m:\n\u001b[1;32m    961\u001b[0m     \u001b[39m# Cleanup if the child failed starting.\u001b[39;00m\n\u001b[1;32m    962\u001b[0m     \u001b[39mfor\u001b[39;00m f \u001b[39min\u001b[39;00m \u001b[39mfilter\u001b[39m(\u001b[39mNone\u001b[39;00m, (\u001b[39mself\u001b[39m\u001b[39m.\u001b[39mstdin, \u001b[39mself\u001b[39m\u001b[39m.\u001b[39mstdout, \u001b[39mself\u001b[39m\u001b[39m.\u001b[39mstderr)):\n",
      "File \u001b[0;32m/Library/Frameworks/Python.framework/Versions/3.9/lib/python3.9/subprocess.py:1823\u001b[0m, in \u001b[0;36mPopen._execute_child\u001b[0;34m(self, args, executable, preexec_fn, close_fds, pass_fds, cwd, env, startupinfo, creationflags, shell, p2cread, p2cwrite, c2pread, c2pwrite, errread, errwrite, restore_signals, gid, gids, uid, umask, start_new_session)\u001b[0m\n\u001b[1;32m   1821\u001b[0m     \u001b[39mif\u001b[39;00m errno_num \u001b[39m!=\u001b[39m \u001b[39m0\u001b[39m:\n\u001b[1;32m   1822\u001b[0m         err_msg \u001b[39m=\u001b[39m os\u001b[39m.\u001b[39mstrerror(errno_num)\n\u001b[0;32m-> 1823\u001b[0m     \u001b[39mraise\u001b[39;00m child_exception_type(errno_num, err_msg, err_filename)\n\u001b[1;32m   1824\u001b[0m \u001b[39mraise\u001b[39;00m child_exception_type(err_msg)\n",
      "\u001b[0;31mFileNotFoundError\u001b[0m: [Errno 2] No such file or directory: 'tesseract'"
     ]
    }
   ],
   "source": [
    "from PIL import Image\n",
    "import pytesseract\n",
    "from pytesseract import Output\n",
    "\n",
    "# print(pytesseract.image_to_string(Image.open(\"data_output/logo.jpg\")))\n",
    "print(pytesseract.image_to_data(Image.open('data_output/'\n",
    "    'logo.jpg'),\n",
    "    output_type=Output.DICT))"
   ]
  }
 ],
 "metadata": {
  "kernelspec": {
   "display_name": "Python 3.9.2 ('myenvs')",
   "language": "python",
   "name": "python3"
  },
  "language_info": {
   "codemirror_mode": {
    "name": "ipython",
    "version": 3
   },
   "file_extension": ".py",
   "mimetype": "text/x-python",
   "name": "python",
   "nbconvert_exporter": "python",
   "pygments_lexer": "ipython3",
   "version": "3.9.2"
  },
  "orig_nbformat": 4,
  "vscode": {
   "interpreter": {
    "hash": "a051216bf3a65c020b643b52ab15d0714db61718a99958c54a11e422694469a1"
   }
  }
 },
 "nbformat": 4,
 "nbformat_minor": 2
}
