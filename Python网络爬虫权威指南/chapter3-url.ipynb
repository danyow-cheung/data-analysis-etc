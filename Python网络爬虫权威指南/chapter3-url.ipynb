{
 "cells": [
  {
   "cell_type": "markdown",
   "metadata": {},
   "source": [
    "类似的维基百科抓取项目，他说，为了判断一个维基百科内链是 否链接到一个词条页面，他写了一个很大的过滤函数，代码超过了 100 行。不幸的是，他没有提前花很多时间去寻找“词条链接”和“其他链接”之间的模式，也可能他后来发现了。如果你仔细观察那些指向词条页面(不是指向其他内部页面)的链接，会发现它们都 有 3 个共同点:\n",
    "1. 它们都在 id 是 bodyContent 的 div 标签里\n",
    "2. URL 不包含冒号\n",
    "3. URL 都以 /wiki/ 开头\n",
    "\n",
    "我们可以利用这些规则稍微调整一下代码来仅获取词条链接，使用的\n",
    "# 正则表达式为 \n",
    "^(/wiki/)((?!:).)*$\"):\n"
   ]
  },
  {
   "cell_type": "code",
   "execution_count": 1,
   "metadata": {},
   "outputs": [],
   "source": [
    "from dataclasses import dataclass\n",
    "from urllib.request import urlopen\n",
    "from bs4 import BeautifulSoup\n",
    "import re \n",
    "import random\n",
    "import datetime \n"
   ]
  },
  {
   "cell_type": "code",
   "execution_count": null,
   "metadata": {},
   "outputs": [],
   "source": [
    "html = urlopen(\"https://en.wikipedia.org/wiki/Kevin_Bacon\")\n",
    "bs = BeautifulSoup(html,\"html.parser\")\n",
    "for link in bs.find(\"div\",{\"id\":'bodyContent'}).find_all(\n",
    "    'a', href=re.compile('^(/wiki/)((?!:).)*$')):\n",
    "    if 'href' in link.attrs:\n",
    "        print(link.attrs[\"href\"])"
   ]
  },
  {
   "cell_type": "markdown",
   "metadata": {},
   "source": [
    "# 随机爬取路径"
   ]
  },
  {
   "cell_type": "code",
   "execution_count": null,
   "metadata": {},
   "outputs": [],
   "source": [
    "random.seed(datetime.datetime.now())\n",
    "def get_links(articleUrl):\n",
    "    html = urlopen(\"https://en.wikipedia.org{}\".format(articleUrl))\n",
    "    bs = BeautifulSoup(html,\"html.parser\")\n",
    "    return bs.find(\"div\",{\"id\":'bodyContent'}).find_all(\n",
    "        'a', href=re.compile('^(/wiki/)((?!:).)*$'))\n",
    "\n",
    "links = get_links(\"/wiki/Kevin_Bacon\")\n",
    "while len(links)>0:\n",
    "    newArticle = links[random.randint(0,len(links)-1)].attrs[\"href\"]\n",
    "    print(newArticle)\n",
    "    links = get_links(newArticle)\n"
   ]
  },
  {
   "cell_type": "markdown",
   "metadata": {},
   "source": [
    "为了避免一个页面被抓取两次，\n",
    "# 链接去重\n",
    "是非常重要的。在代码运行时，要把已发现的所 有链接都放到一起，并保存在方便查询的集合(set)里。集合与列表类似，但是集合中的 元素没有特定的顺序，集合只存储唯一的元素，这正是我们需要的功能。只有“新”链接 才应被抓取，并从其页面中搜索其他链接:"
   ]
  },
  {
   "cell_type": "code",
   "execution_count": 3,
   "metadata": {},
   "outputs": [
    {
     "name": "stdout",
     "output_type": "stream",
     "text": [
      "/wiki/Wikipedia\n",
      "/wiki/Main_Page\n",
      "/wiki/Free_content\n",
      "/wiki/Wikipedia:Protection_policy#semi\n",
      "/wiki/Wikipedia:Requests_for_page_protection\n",
      "/wiki/Wikipedia:Requests_for_page_protection/Administrator_instructions\n",
      "/wiki/Wikipedia:Protection_policy\n",
      "/wiki/Wikipedia:Lists_of_protected_pages\n",
      "/wiki/Wikipedia:Protection_policy#Semi-protection\n",
      "/wiki/Wikipedia:Perennial_proposals\n",
      "/wiki/Wikipedia:Reliable_sources/Perennial_sources\n",
      "/wiki/Wikipedia:Reliable_sources\n",
      "/wiki/Wikipedia:WikiProject_Reliability\n",
      "/wiki/Wikipedia:WRE\n",
      "/wiki/File:People_icon.svg\n",
      "/wiki/Special:WhatLinksHere/File:People_icon.svg\n",
      "/wiki/Help:What_links_here\n",
      "/wiki/Wikipedia:Project_namespace#How-to_and_information_pages\n",
      "/wiki/Wikipedia:Policies_and_guidelines\n",
      "/wiki/Wikipedia:WikiProject_Politics\n"
     ]
    },
    {
     "ename": "KeyboardInterrupt",
     "evalue": "",
     "output_type": "error",
     "traceback": [
      "\u001b[0;31m---------------------------------------------------------------------------\u001b[0m",
      "\u001b[0;31mKeyboardInterrupt\u001b[0m                         Traceback (most recent call last)",
      "\u001b[1;32m/Users/danyow/Desktop/extra-learning/spyier/chapter3-url.ipynb Cell 7\u001b[0m in \u001b[0;36m<cell line: 14>\u001b[0;34m()\u001b[0m\n\u001b[1;32m     <a href='vscode-notebook-cell:/Users/danyow/Desktop/extra-learning/spyier/chapter3-url.ipynb#X10sZmlsZQ%3D%3D?line=11'>12</a>\u001b[0m                 pages\u001b[39m.\u001b[39madd(newPage)\n\u001b[1;32m     <a href='vscode-notebook-cell:/Users/danyow/Desktop/extra-learning/spyier/chapter3-url.ipynb#X10sZmlsZQ%3D%3D?line=12'>13</a>\u001b[0m                 getLinks(newPage)\n\u001b[0;32m---> <a href='vscode-notebook-cell:/Users/danyow/Desktop/extra-learning/spyier/chapter3-url.ipynb#X10sZmlsZQ%3D%3D?line=13'>14</a>\u001b[0m getLinks(\u001b[39m\"\u001b[39;49m\u001b[39m\"\u001b[39;49m)\n",
      "\u001b[1;32m/Users/danyow/Desktop/extra-learning/spyier/chapter3-url.ipynb Cell 7\u001b[0m in \u001b[0;36mgetLinks\u001b[0;34m(pageUrl)\u001b[0m\n\u001b[1;32m     <a href='vscode-notebook-cell:/Users/danyow/Desktop/extra-learning/spyier/chapter3-url.ipynb#X10sZmlsZQ%3D%3D?line=10'>11</a>\u001b[0m \u001b[39mprint\u001b[39m(newPage)\n\u001b[1;32m     <a href='vscode-notebook-cell:/Users/danyow/Desktop/extra-learning/spyier/chapter3-url.ipynb#X10sZmlsZQ%3D%3D?line=11'>12</a>\u001b[0m pages\u001b[39m.\u001b[39madd(newPage)\n\u001b[0;32m---> <a href='vscode-notebook-cell:/Users/danyow/Desktop/extra-learning/spyier/chapter3-url.ipynb#X10sZmlsZQ%3D%3D?line=12'>13</a>\u001b[0m getLinks(newPage)\n",
      "\u001b[1;32m/Users/danyow/Desktop/extra-learning/spyier/chapter3-url.ipynb Cell 7\u001b[0m in \u001b[0;36mgetLinks\u001b[0;34m(pageUrl)\u001b[0m\n\u001b[1;32m     <a href='vscode-notebook-cell:/Users/danyow/Desktop/extra-learning/spyier/chapter3-url.ipynb#X10sZmlsZQ%3D%3D?line=10'>11</a>\u001b[0m \u001b[39mprint\u001b[39m(newPage)\n\u001b[1;32m     <a href='vscode-notebook-cell:/Users/danyow/Desktop/extra-learning/spyier/chapter3-url.ipynb#X10sZmlsZQ%3D%3D?line=11'>12</a>\u001b[0m pages\u001b[39m.\u001b[39madd(newPage)\n\u001b[0;32m---> <a href='vscode-notebook-cell:/Users/danyow/Desktop/extra-learning/spyier/chapter3-url.ipynb#X10sZmlsZQ%3D%3D?line=12'>13</a>\u001b[0m getLinks(newPage)\n",
      "    \u001b[0;31m[... skipping similar frames: getLinks at line 13 (17 times)]\u001b[0m\n",
      "\u001b[1;32m/Users/danyow/Desktop/extra-learning/spyier/chapter3-url.ipynb Cell 7\u001b[0m in \u001b[0;36mgetLinks\u001b[0;34m(pageUrl)\u001b[0m\n\u001b[1;32m     <a href='vscode-notebook-cell:/Users/danyow/Desktop/extra-learning/spyier/chapter3-url.ipynb#X10sZmlsZQ%3D%3D?line=10'>11</a>\u001b[0m \u001b[39mprint\u001b[39m(newPage)\n\u001b[1;32m     <a href='vscode-notebook-cell:/Users/danyow/Desktop/extra-learning/spyier/chapter3-url.ipynb#X10sZmlsZQ%3D%3D?line=11'>12</a>\u001b[0m pages\u001b[39m.\u001b[39madd(newPage)\n\u001b[0;32m---> <a href='vscode-notebook-cell:/Users/danyow/Desktop/extra-learning/spyier/chapter3-url.ipynb#X10sZmlsZQ%3D%3D?line=12'>13</a>\u001b[0m getLinks(newPage)\n",
      "\u001b[1;32m/Users/danyow/Desktop/extra-learning/spyier/chapter3-url.ipynb Cell 7\u001b[0m in \u001b[0;36mgetLinks\u001b[0;34m(pageUrl)\u001b[0m\n\u001b[1;32m      <a href='vscode-notebook-cell:/Users/danyow/Desktop/extra-learning/spyier/chapter3-url.ipynb#X10sZmlsZQ%3D%3D?line=1'>2</a>\u001b[0m \u001b[39mdef\u001b[39;00m \u001b[39mgetLinks\u001b[39m(pageUrl):\n\u001b[1;32m      <a href='vscode-notebook-cell:/Users/danyow/Desktop/extra-learning/spyier/chapter3-url.ipynb#X10sZmlsZQ%3D%3D?line=2'>3</a>\u001b[0m     \u001b[39mglobal\u001b[39;00m pages\n\u001b[0;32m----> <a href='vscode-notebook-cell:/Users/danyow/Desktop/extra-learning/spyier/chapter3-url.ipynb#X10sZmlsZQ%3D%3D?line=3'>4</a>\u001b[0m     html \u001b[39m=\u001b[39m urlopen(\u001b[39m\"\u001b[39;49m\u001b[39mhttps://en.wikipedia.org\u001b[39;49m\u001b[39m{}\u001b[39;49;00m\u001b[39m\"\u001b[39;49m\u001b[39m.\u001b[39;49mformat(pageUrl))\n\u001b[1;32m      <a href='vscode-notebook-cell:/Users/danyow/Desktop/extra-learning/spyier/chapter3-url.ipynb#X10sZmlsZQ%3D%3D?line=4'>5</a>\u001b[0m     bs \u001b[39m=\u001b[39m BeautifulSoup(html,\u001b[39m\"\u001b[39m\u001b[39mhtml.parser\u001b[39m\u001b[39m\"\u001b[39m)\n\u001b[1;32m      <a href='vscode-notebook-cell:/Users/danyow/Desktop/extra-learning/spyier/chapter3-url.ipynb#X10sZmlsZQ%3D%3D?line=5'>6</a>\u001b[0m     \u001b[39mfor\u001b[39;00m link \u001b[39min\u001b[39;00m bs\u001b[39m.\u001b[39mfind_all(\u001b[39m\"\u001b[39m\u001b[39ma\u001b[39m\u001b[39m\"\u001b[39m,href\u001b[39m=\u001b[39mre\u001b[39m.\u001b[39mcompile(\u001b[39m'\u001b[39m\u001b[39m^(/wiki/)\u001b[39m\u001b[39m'\u001b[39m)):\n",
      "File \u001b[0;32m/Library/Frameworks/Python.framework/Versions/3.9/lib/python3.9/urllib/request.py:214\u001b[0m, in \u001b[0;36murlopen\u001b[0;34m(url, data, timeout, cafile, capath, cadefault, context)\u001b[0m\n\u001b[1;32m    212\u001b[0m \u001b[39melse\u001b[39;00m:\n\u001b[1;32m    213\u001b[0m     opener \u001b[39m=\u001b[39m _opener\n\u001b[0;32m--> 214\u001b[0m \u001b[39mreturn\u001b[39;00m opener\u001b[39m.\u001b[39;49mopen(url, data, timeout)\n",
      "File \u001b[0;32m/Library/Frameworks/Python.framework/Versions/3.9/lib/python3.9/urllib/request.py:517\u001b[0m, in \u001b[0;36mOpenerDirector.open\u001b[0;34m(self, fullurl, data, timeout)\u001b[0m\n\u001b[1;32m    514\u001b[0m     req \u001b[39m=\u001b[39m meth(req)\n\u001b[1;32m    516\u001b[0m sys\u001b[39m.\u001b[39maudit(\u001b[39m'\u001b[39m\u001b[39murllib.Request\u001b[39m\u001b[39m'\u001b[39m, req\u001b[39m.\u001b[39mfull_url, req\u001b[39m.\u001b[39mdata, req\u001b[39m.\u001b[39mheaders, req\u001b[39m.\u001b[39mget_method())\n\u001b[0;32m--> 517\u001b[0m response \u001b[39m=\u001b[39m \u001b[39mself\u001b[39;49m\u001b[39m.\u001b[39;49m_open(req, data)\n\u001b[1;32m    519\u001b[0m \u001b[39m# post-process response\u001b[39;00m\n\u001b[1;32m    520\u001b[0m meth_name \u001b[39m=\u001b[39m protocol\u001b[39m+\u001b[39m\u001b[39m\"\u001b[39m\u001b[39m_response\u001b[39m\u001b[39m\"\u001b[39m\n",
      "File \u001b[0;32m/Library/Frameworks/Python.framework/Versions/3.9/lib/python3.9/urllib/request.py:534\u001b[0m, in \u001b[0;36mOpenerDirector._open\u001b[0;34m(self, req, data)\u001b[0m\n\u001b[1;32m    531\u001b[0m     \u001b[39mreturn\u001b[39;00m result\n\u001b[1;32m    533\u001b[0m protocol \u001b[39m=\u001b[39m req\u001b[39m.\u001b[39mtype\n\u001b[0;32m--> 534\u001b[0m result \u001b[39m=\u001b[39m \u001b[39mself\u001b[39;49m\u001b[39m.\u001b[39;49m_call_chain(\u001b[39mself\u001b[39;49m\u001b[39m.\u001b[39;49mhandle_open, protocol, protocol \u001b[39m+\u001b[39;49m\n\u001b[1;32m    535\u001b[0m                           \u001b[39m'\u001b[39;49m\u001b[39m_open\u001b[39;49m\u001b[39m'\u001b[39;49m, req)\n\u001b[1;32m    536\u001b[0m \u001b[39mif\u001b[39;00m result:\n\u001b[1;32m    537\u001b[0m     \u001b[39mreturn\u001b[39;00m result\n",
      "File \u001b[0;32m/Library/Frameworks/Python.framework/Versions/3.9/lib/python3.9/urllib/request.py:494\u001b[0m, in \u001b[0;36mOpenerDirector._call_chain\u001b[0;34m(self, chain, kind, meth_name, *args)\u001b[0m\n\u001b[1;32m    492\u001b[0m \u001b[39mfor\u001b[39;00m handler \u001b[39min\u001b[39;00m handlers:\n\u001b[1;32m    493\u001b[0m     func \u001b[39m=\u001b[39m \u001b[39mgetattr\u001b[39m(handler, meth_name)\n\u001b[0;32m--> 494\u001b[0m     result \u001b[39m=\u001b[39m func(\u001b[39m*\u001b[39;49margs)\n\u001b[1;32m    495\u001b[0m     \u001b[39mif\u001b[39;00m result \u001b[39mis\u001b[39;00m \u001b[39mnot\u001b[39;00m \u001b[39mNone\u001b[39;00m:\n\u001b[1;32m    496\u001b[0m         \u001b[39mreturn\u001b[39;00m result\n",
      "File \u001b[0;32m/Library/Frameworks/Python.framework/Versions/3.9/lib/python3.9/urllib/request.py:1389\u001b[0m, in \u001b[0;36mHTTPSHandler.https_open\u001b[0;34m(self, req)\u001b[0m\n\u001b[1;32m   1388\u001b[0m \u001b[39mdef\u001b[39;00m \u001b[39mhttps_open\u001b[39m(\u001b[39mself\u001b[39m, req):\n\u001b[0;32m-> 1389\u001b[0m     \u001b[39mreturn\u001b[39;00m \u001b[39mself\u001b[39;49m\u001b[39m.\u001b[39;49mdo_open(http\u001b[39m.\u001b[39;49mclient\u001b[39m.\u001b[39;49mHTTPSConnection, req,\n\u001b[1;32m   1390\u001b[0m         context\u001b[39m=\u001b[39;49m\u001b[39mself\u001b[39;49m\u001b[39m.\u001b[39;49m_context, check_hostname\u001b[39m=\u001b[39;49m\u001b[39mself\u001b[39;49m\u001b[39m.\u001b[39;49m_check_hostname)\n",
      "File \u001b[0;32m/Library/Frameworks/Python.framework/Versions/3.9/lib/python3.9/urllib/request.py:1350\u001b[0m, in \u001b[0;36mAbstractHTTPHandler.do_open\u001b[0;34m(self, http_class, req, **http_conn_args)\u001b[0m\n\u001b[1;32m   1348\u001b[0m     \u001b[39mexcept\u001b[39;00m \u001b[39mOSError\u001b[39;00m \u001b[39mas\u001b[39;00m err: \u001b[39m# timeout error\u001b[39;00m\n\u001b[1;32m   1349\u001b[0m         \u001b[39mraise\u001b[39;00m URLError(err)\n\u001b[0;32m-> 1350\u001b[0m     r \u001b[39m=\u001b[39m h\u001b[39m.\u001b[39;49mgetresponse()\n\u001b[1;32m   1351\u001b[0m \u001b[39mexcept\u001b[39;00m:\n\u001b[1;32m   1352\u001b[0m     h\u001b[39m.\u001b[39mclose()\n",
      "File \u001b[0;32m/Library/Frameworks/Python.framework/Versions/3.9/lib/python3.9/http/client.py:1347\u001b[0m, in \u001b[0;36mHTTPConnection.getresponse\u001b[0;34m(self)\u001b[0m\n\u001b[1;32m   1345\u001b[0m \u001b[39mtry\u001b[39;00m:\n\u001b[1;32m   1346\u001b[0m     \u001b[39mtry\u001b[39;00m:\n\u001b[0;32m-> 1347\u001b[0m         response\u001b[39m.\u001b[39;49mbegin()\n\u001b[1;32m   1348\u001b[0m     \u001b[39mexcept\u001b[39;00m \u001b[39mConnectionError\u001b[39;00m:\n\u001b[1;32m   1349\u001b[0m         \u001b[39mself\u001b[39m\u001b[39m.\u001b[39mclose()\n",
      "File \u001b[0;32m/Library/Frameworks/Python.framework/Versions/3.9/lib/python3.9/http/client.py:307\u001b[0m, in \u001b[0;36mHTTPResponse.begin\u001b[0;34m(self)\u001b[0m\n\u001b[1;32m    305\u001b[0m \u001b[39m# read until we get a non-100 response\u001b[39;00m\n\u001b[1;32m    306\u001b[0m \u001b[39mwhile\u001b[39;00m \u001b[39mTrue\u001b[39;00m:\n\u001b[0;32m--> 307\u001b[0m     version, status, reason \u001b[39m=\u001b[39m \u001b[39mself\u001b[39;49m\u001b[39m.\u001b[39;49m_read_status()\n\u001b[1;32m    308\u001b[0m     \u001b[39mif\u001b[39;00m status \u001b[39m!=\u001b[39m CONTINUE:\n\u001b[1;32m    309\u001b[0m         \u001b[39mbreak\u001b[39;00m\n",
      "File \u001b[0;32m/Library/Frameworks/Python.framework/Versions/3.9/lib/python3.9/http/client.py:268\u001b[0m, in \u001b[0;36mHTTPResponse._read_status\u001b[0;34m(self)\u001b[0m\n\u001b[1;32m    267\u001b[0m \u001b[39mdef\u001b[39;00m \u001b[39m_read_status\u001b[39m(\u001b[39mself\u001b[39m):\n\u001b[0;32m--> 268\u001b[0m     line \u001b[39m=\u001b[39m \u001b[39mstr\u001b[39m(\u001b[39mself\u001b[39;49m\u001b[39m.\u001b[39;49mfp\u001b[39m.\u001b[39;49mreadline(_MAXLINE \u001b[39m+\u001b[39;49m \u001b[39m1\u001b[39;49m), \u001b[39m\"\u001b[39m\u001b[39miso-8859-1\u001b[39m\u001b[39m\"\u001b[39m)\n\u001b[1;32m    269\u001b[0m     \u001b[39mif\u001b[39;00m \u001b[39mlen\u001b[39m(line) \u001b[39m>\u001b[39m _MAXLINE:\n\u001b[1;32m    270\u001b[0m         \u001b[39mraise\u001b[39;00m LineTooLong(\u001b[39m\"\u001b[39m\u001b[39mstatus line\u001b[39m\u001b[39m\"\u001b[39m)\n",
      "File \u001b[0;32m/Library/Frameworks/Python.framework/Versions/3.9/lib/python3.9/socket.py:704\u001b[0m, in \u001b[0;36mSocketIO.readinto\u001b[0;34m(self, b)\u001b[0m\n\u001b[1;32m    702\u001b[0m \u001b[39mwhile\u001b[39;00m \u001b[39mTrue\u001b[39;00m:\n\u001b[1;32m    703\u001b[0m     \u001b[39mtry\u001b[39;00m:\n\u001b[0;32m--> 704\u001b[0m         \u001b[39mreturn\u001b[39;00m \u001b[39mself\u001b[39;49m\u001b[39m.\u001b[39;49m_sock\u001b[39m.\u001b[39;49mrecv_into(b)\n\u001b[1;32m    705\u001b[0m     \u001b[39mexcept\u001b[39;00m timeout:\n\u001b[1;32m    706\u001b[0m         \u001b[39mself\u001b[39m\u001b[39m.\u001b[39m_timeout_occurred \u001b[39m=\u001b[39m \u001b[39mTrue\u001b[39;00m\n",
      "File \u001b[0;32m/Library/Frameworks/Python.framework/Versions/3.9/lib/python3.9/ssl.py:1241\u001b[0m, in \u001b[0;36mSSLSocket.recv_into\u001b[0;34m(self, buffer, nbytes, flags)\u001b[0m\n\u001b[1;32m   1237\u001b[0m     \u001b[39mif\u001b[39;00m flags \u001b[39m!=\u001b[39m \u001b[39m0\u001b[39m:\n\u001b[1;32m   1238\u001b[0m         \u001b[39mraise\u001b[39;00m \u001b[39mValueError\u001b[39;00m(\n\u001b[1;32m   1239\u001b[0m           \u001b[39m\"\u001b[39m\u001b[39mnon-zero flags not allowed in calls to recv_into() on \u001b[39m\u001b[39m%s\u001b[39;00m\u001b[39m\"\u001b[39m \u001b[39m%\u001b[39m\n\u001b[1;32m   1240\u001b[0m           \u001b[39mself\u001b[39m\u001b[39m.\u001b[39m\u001b[39m__class__\u001b[39m)\n\u001b[0;32m-> 1241\u001b[0m     \u001b[39mreturn\u001b[39;00m \u001b[39mself\u001b[39;49m\u001b[39m.\u001b[39;49mread(nbytes, buffer)\n\u001b[1;32m   1242\u001b[0m \u001b[39melse\u001b[39;00m:\n\u001b[1;32m   1243\u001b[0m     \u001b[39mreturn\u001b[39;00m \u001b[39msuper\u001b[39m()\u001b[39m.\u001b[39mrecv_into(buffer, nbytes, flags)\n",
      "File \u001b[0;32m/Library/Frameworks/Python.framework/Versions/3.9/lib/python3.9/ssl.py:1099\u001b[0m, in \u001b[0;36mSSLSocket.read\u001b[0;34m(self, len, buffer)\u001b[0m\n\u001b[1;32m   1097\u001b[0m \u001b[39mtry\u001b[39;00m:\n\u001b[1;32m   1098\u001b[0m     \u001b[39mif\u001b[39;00m buffer \u001b[39mis\u001b[39;00m \u001b[39mnot\u001b[39;00m \u001b[39mNone\u001b[39;00m:\n\u001b[0;32m-> 1099\u001b[0m         \u001b[39mreturn\u001b[39;00m \u001b[39mself\u001b[39;49m\u001b[39m.\u001b[39;49m_sslobj\u001b[39m.\u001b[39;49mread(\u001b[39mlen\u001b[39;49m, buffer)\n\u001b[1;32m   1100\u001b[0m     \u001b[39melse\u001b[39;00m:\n\u001b[1;32m   1101\u001b[0m         \u001b[39mreturn\u001b[39;00m \u001b[39mself\u001b[39m\u001b[39m.\u001b[39m_sslobj\u001b[39m.\u001b[39mread(\u001b[39mlen\u001b[39m)\n",
      "\u001b[0;31mKeyboardInterrupt\u001b[0m: "
     ]
    }
   ],
   "source": [
    "pages = set()\n",
    "def getLinks(pageUrl):\n",
    "    global pages\n",
    "    html = urlopen(\"https://en.wikipedia.org{}\".format(pageUrl))\n",
    "    bs = BeautifulSoup(html,\"html.parser\")\n",
    "    for link in bs.find_all(\"a\",href=re.compile('^(/wiki/)')):\n",
    "        if 'href' in link.attrs:\n",
    "            if link.attrs[\"href\"] not in pages:\n",
    "                # 已经转换到新页面\n",
    "                newPage = link.attrs['href']\n",
    "                print(newPage)\n",
    "                pages.add(newPage)\n",
    "                getLinks(newPage)\n",
    "getLinks(\"\")"
   ]
  },
  {
   "cell_type": "markdown",
   "metadata": {},
   "source": [
    "# 处理重定向\n",
    "对于服务器端重定向，你通常不需要担心。如果你使用的是 Python 3.x 的 urllib 库的 话，它可以自动处理重定向问题!如果你使用的是 requests 库的话，需要将允许重定 向的标志设置为 True:\n",
    "<u>r = requests.get('http://github.com', allow_redirects=True)</u>"
   ]
  },
  {
   "cell_type": "code",
   "execution_count": 4,
   "metadata": {},
   "outputs": [],
   "source": [
    "from urllib.request import urlopen\n",
    "from urllib.parse import urlparse \n",
    "from bs4 import  BeautifulSoup\n",
    "import re \n",
    "import datetime \n",
    "import random "
   ]
  },
  {
   "cell_type": "code",
   "execution_count": 5,
   "metadata": {},
   "outputs": [
    {
     "name": "stderr",
     "output_type": "stream",
     "text": [
      "/var/folders/95/0b9jlx8d4dgdp4pw27fwrd440000gn/T/ipykernel_1387/428544133.py:2: DeprecationWarning: Seeding based on hashing is deprecated\n",
      "since Python 3.9 and will be removed in a subsequent version. The only \n",
      "supported seed types are: None, int, float, str, bytes, and bytearray.\n",
      "  random.seed(datetime.datetime.now())\n"
     ]
    }
   ],
   "source": [
    "pages = set()\n",
    "random.seed(datetime.datetime.now())"
   ]
  },
  {
   "cell_type": "code",
   "execution_count": 6,
   "metadata": {},
   "outputs": [],
   "source": [
    "''' 获取页面中所有内链的列表'''\n",
    "def getInteralLinks(bs,includeUrl):\n",
    "    includeUrl = '{}://{}'.format(urlparse(includeUrl).scheme,urlparse(includeUrl).netloc)\n",
    "    internaLinks= []\n",
    "    # 找出所有以“/”开头的连接\n",
    "    for link in bs.find_all('a',href =re.compile('^(/|.*'+includeUrl+')')):\n",
    "        if link.attrs[\"href\"] is not None:\n",
    "            if link.attrs[\"href\"] not in internaLinks:\n",
    "                if(link.attrs[\"href\"].startswith('/')):\n",
    "                    internaLinks.append(includeUrl+link.attrs['href'])\n",
    "                else:\n",
    "                    internaLinks.append(link.attrs['href'])\n",
    "\n",
    "    return internaLinks"
   ]
  },
  {
   "cell_type": "code",
   "execution_count": 7,
   "metadata": {},
   "outputs": [],
   "source": [
    "''' 获取页面中所有外链的列表'''\n",
    "def getExternalLinks(bs,excludeUrl):\n",
    "    externalLiks = []\n",
    "    # 找出所有以http或者www开头且不包含当前url的链接\n",
    "    for link in bs.find_all('a',href=re.compile('^(http|www)((?!'+excludeUrl+').)*$')):\n",
    "        if link.attrs['href']is not None:\n",
    "            if link.attrs['href'] not in externalLiks:\n",
    "                externalLiks.append(link.attrs[\"href\"])\n",
    "    \n",
    "    return externalLiks\n"
   ]
  },
  {
   "cell_type": "code",
   "execution_count": 8,
   "metadata": {},
   "outputs": [],
   "source": [
    "def getRandomExternalLink(startingPage):\n",
    "    html = urlopen(startingPage)\n",
    "    bs = BeautifulSoup(html,\"html.parser\")\n",
    "    externalLinks = getExternalLinks(bs,urlparse(startingPage).netloc)\n",
    "\n",
    "    if len(externalLinks)==0:\n",
    "        print(\"没有外链lo\")\n",
    "        domain = '{}://{}'.format(urlparse(startingPage).scheme,urlparse(startingPage).netloc)\n",
    "        internalLinks = getInteralLinks(bs, domain)\n",
    "        return getRandomExternalLink(internalLinks[random.randint(0,\n",
    "                                         len(internalLinks)-1)])\n",
    "\n",
    "    else:\n",
    "        return externalLinks[random.randint(0,len(externalLinks)-1)]"
   ]
  },
  {
   "cell_type": "code",
   "execution_count": 9,
   "metadata": {},
   "outputs": [],
   "source": [
    "def followExternalOnly(startingSite):\n",
    "    externalLink = getRandomExternalLink(startingSite)\n",
    "    print('Random external link is: {}'.format(externalLink))\n",
    "    followExternalOnly(externalLink)"
   ]
  },
  {
   "cell_type": "code",
   "execution_count": 10,
   "metadata": {},
   "outputs": [
    {
     "name": "stdout",
     "output_type": "stream",
     "text": [
      "Random external link is: https://www.youtube.com/user/OreillyMedia\n",
      "Random external link is: https://developers.google.com/youtube\n",
      "Random external link is: https://blog.youtube\n",
      "Random external link is: https://www.youtube.com/channel/UCqVDpXKLmKeBU_yyt_QkItQ\n",
      "Random external link is: https://developers.google.com/youtube\n",
      "Random external link is: https://research.youtube/\n",
      "Random external link is: https://support.google.com/youtube/contact/yt_researcher_certification\n",
      "Random external link is: https://research.youtube/policies/terms\n",
      "Random external link is: https://developers.google.com/youtube/terms/revision-history\n",
      "Random external link is: https://support.google.com/youtube/contact/yt_api_audited_developer_requests_form\n",
      "Random external link is: https://policies.google.com/privacy?hl=en\n",
      "Random external link is: https://support.google.com/android/answer/9021432?hl=en\n",
      "Random external link is: https://developer.android.com/reference/android/os/Build#fingerprint\n",
      "Random external link is: https://developers.google.com/\n",
      "Random external link is: https://cloud.google.com/products\n",
      "Random external link is: https://workspace.google.com/products/cloud-search/\n",
      "Random external link is: https://developers.google.com/workspace\n",
      "Random external link is: https://creativecommons.org/licenses/by/4.0/\n"
     ]
    },
    {
     "ename": "HTTPError",
     "evalue": "HTTP Error 403: Forbidden",
     "output_type": "error",
     "traceback": [
      "\u001b[0;31m---------------------------------------------------------------------------\u001b[0m",
      "\u001b[0;31mHTTPError\u001b[0m                                 Traceback (most recent call last)",
      "\u001b[1;32m/Users/danyow/Desktop/extra-learning/spyier/chapter3-url.ipynb Cell 15\u001b[0m in \u001b[0;36m<cell line: 1>\u001b[0;34m()\u001b[0m\n\u001b[0;32m----> <a href='vscode-notebook-cell:/Users/danyow/Desktop/extra-learning/spyier/chapter3-url.ipynb#X21sZmlsZQ%3D%3D?line=0'>1</a>\u001b[0m followExternalOnly(\u001b[39m\"\u001b[39;49m\u001b[39mhttp://oreilly.com\u001b[39;49m\u001b[39m\"\u001b[39;49m)\n",
      "\u001b[1;32m/Users/danyow/Desktop/extra-learning/spyier/chapter3-url.ipynb Cell 15\u001b[0m in \u001b[0;36mfollowExternalOnly\u001b[0;34m(startingSite)\u001b[0m\n\u001b[1;32m      <a href='vscode-notebook-cell:/Users/danyow/Desktop/extra-learning/spyier/chapter3-url.ipynb#X21sZmlsZQ%3D%3D?line=1'>2</a>\u001b[0m externalLink \u001b[39m=\u001b[39m getRandomExternalLink(startingSite)\n\u001b[1;32m      <a href='vscode-notebook-cell:/Users/danyow/Desktop/extra-learning/spyier/chapter3-url.ipynb#X21sZmlsZQ%3D%3D?line=2'>3</a>\u001b[0m \u001b[39mprint\u001b[39m(\u001b[39m'\u001b[39m\u001b[39mRandom external link is: \u001b[39m\u001b[39m{}\u001b[39;00m\u001b[39m'\u001b[39m\u001b[39m.\u001b[39mformat(externalLink))\n\u001b[0;32m----> <a href='vscode-notebook-cell:/Users/danyow/Desktop/extra-learning/spyier/chapter3-url.ipynb#X21sZmlsZQ%3D%3D?line=3'>4</a>\u001b[0m followExternalOnly(externalLink)\n",
      "\u001b[1;32m/Users/danyow/Desktop/extra-learning/spyier/chapter3-url.ipynb Cell 15\u001b[0m in \u001b[0;36mfollowExternalOnly\u001b[0;34m(startingSite)\u001b[0m\n\u001b[1;32m      <a href='vscode-notebook-cell:/Users/danyow/Desktop/extra-learning/spyier/chapter3-url.ipynb#X21sZmlsZQ%3D%3D?line=1'>2</a>\u001b[0m externalLink \u001b[39m=\u001b[39m getRandomExternalLink(startingSite)\n\u001b[1;32m      <a href='vscode-notebook-cell:/Users/danyow/Desktop/extra-learning/spyier/chapter3-url.ipynb#X21sZmlsZQ%3D%3D?line=2'>3</a>\u001b[0m \u001b[39mprint\u001b[39m(\u001b[39m'\u001b[39m\u001b[39mRandom external link is: \u001b[39m\u001b[39m{}\u001b[39;00m\u001b[39m'\u001b[39m\u001b[39m.\u001b[39mformat(externalLink))\n\u001b[0;32m----> <a href='vscode-notebook-cell:/Users/danyow/Desktop/extra-learning/spyier/chapter3-url.ipynb#X21sZmlsZQ%3D%3D?line=3'>4</a>\u001b[0m followExternalOnly(externalLink)\n",
      "    \u001b[0;31m[... skipping similar frames: followExternalOnly at line 4 (15 times)]\u001b[0m\n",
      "\u001b[1;32m/Users/danyow/Desktop/extra-learning/spyier/chapter3-url.ipynb Cell 15\u001b[0m in \u001b[0;36mfollowExternalOnly\u001b[0;34m(startingSite)\u001b[0m\n\u001b[1;32m      <a href='vscode-notebook-cell:/Users/danyow/Desktop/extra-learning/spyier/chapter3-url.ipynb#X21sZmlsZQ%3D%3D?line=1'>2</a>\u001b[0m externalLink \u001b[39m=\u001b[39m getRandomExternalLink(startingSite)\n\u001b[1;32m      <a href='vscode-notebook-cell:/Users/danyow/Desktop/extra-learning/spyier/chapter3-url.ipynb#X21sZmlsZQ%3D%3D?line=2'>3</a>\u001b[0m \u001b[39mprint\u001b[39m(\u001b[39m'\u001b[39m\u001b[39mRandom external link is: \u001b[39m\u001b[39m{}\u001b[39;00m\u001b[39m'\u001b[39m\u001b[39m.\u001b[39mformat(externalLink))\n\u001b[0;32m----> <a href='vscode-notebook-cell:/Users/danyow/Desktop/extra-learning/spyier/chapter3-url.ipynb#X21sZmlsZQ%3D%3D?line=3'>4</a>\u001b[0m followExternalOnly(externalLink)\n",
      "\u001b[1;32m/Users/danyow/Desktop/extra-learning/spyier/chapter3-url.ipynb Cell 15\u001b[0m in \u001b[0;36mfollowExternalOnly\u001b[0;34m(startingSite)\u001b[0m\n\u001b[1;32m      <a href='vscode-notebook-cell:/Users/danyow/Desktop/extra-learning/spyier/chapter3-url.ipynb#X21sZmlsZQ%3D%3D?line=0'>1</a>\u001b[0m \u001b[39mdef\u001b[39;00m \u001b[39mfollowExternalOnly\u001b[39m(startingSite):\n\u001b[0;32m----> <a href='vscode-notebook-cell:/Users/danyow/Desktop/extra-learning/spyier/chapter3-url.ipynb#X21sZmlsZQ%3D%3D?line=1'>2</a>\u001b[0m     externalLink \u001b[39m=\u001b[39m getRandomExternalLink(startingSite)\n\u001b[1;32m      <a href='vscode-notebook-cell:/Users/danyow/Desktop/extra-learning/spyier/chapter3-url.ipynb#X21sZmlsZQ%3D%3D?line=2'>3</a>\u001b[0m     \u001b[39mprint\u001b[39m(\u001b[39m'\u001b[39m\u001b[39mRandom external link is: \u001b[39m\u001b[39m{}\u001b[39;00m\u001b[39m'\u001b[39m\u001b[39m.\u001b[39mformat(externalLink))\n\u001b[1;32m      <a href='vscode-notebook-cell:/Users/danyow/Desktop/extra-learning/spyier/chapter3-url.ipynb#X21sZmlsZQ%3D%3D?line=3'>4</a>\u001b[0m     followExternalOnly(externalLink)\n",
      "\u001b[1;32m/Users/danyow/Desktop/extra-learning/spyier/chapter3-url.ipynb Cell 15\u001b[0m in \u001b[0;36mgetRandomExternalLink\u001b[0;34m(startingPage)\u001b[0m\n\u001b[1;32m      <a href='vscode-notebook-cell:/Users/danyow/Desktop/extra-learning/spyier/chapter3-url.ipynb#X21sZmlsZQ%3D%3D?line=0'>1</a>\u001b[0m \u001b[39mdef\u001b[39;00m \u001b[39mgetRandomExternalLink\u001b[39m(startingPage):\n\u001b[0;32m----> <a href='vscode-notebook-cell:/Users/danyow/Desktop/extra-learning/spyier/chapter3-url.ipynb#X21sZmlsZQ%3D%3D?line=1'>2</a>\u001b[0m     html \u001b[39m=\u001b[39m urlopen(startingPage)\n\u001b[1;32m      <a href='vscode-notebook-cell:/Users/danyow/Desktop/extra-learning/spyier/chapter3-url.ipynb#X21sZmlsZQ%3D%3D?line=2'>3</a>\u001b[0m     bs \u001b[39m=\u001b[39m BeautifulSoup(html,\u001b[39m\"\u001b[39m\u001b[39mhtml.parser\u001b[39m\u001b[39m\"\u001b[39m)\n\u001b[1;32m      <a href='vscode-notebook-cell:/Users/danyow/Desktop/extra-learning/spyier/chapter3-url.ipynb#X21sZmlsZQ%3D%3D?line=3'>4</a>\u001b[0m     externalLinks \u001b[39m=\u001b[39m getExternalLinks(bs,urlparse(startingPage)\u001b[39m.\u001b[39mnetloc)\n",
      "File \u001b[0;32m/Library/Frameworks/Python.framework/Versions/3.9/lib/python3.9/urllib/request.py:214\u001b[0m, in \u001b[0;36murlopen\u001b[0;34m(url, data, timeout, cafile, capath, cadefault, context)\u001b[0m\n\u001b[1;32m    212\u001b[0m \u001b[39melse\u001b[39;00m:\n\u001b[1;32m    213\u001b[0m     opener \u001b[39m=\u001b[39m _opener\n\u001b[0;32m--> 214\u001b[0m \u001b[39mreturn\u001b[39;00m opener\u001b[39m.\u001b[39;49mopen(url, data, timeout)\n",
      "File \u001b[0;32m/Library/Frameworks/Python.framework/Versions/3.9/lib/python3.9/urllib/request.py:523\u001b[0m, in \u001b[0;36mOpenerDirector.open\u001b[0;34m(self, fullurl, data, timeout)\u001b[0m\n\u001b[1;32m    521\u001b[0m \u001b[39mfor\u001b[39;00m processor \u001b[39min\u001b[39;00m \u001b[39mself\u001b[39m\u001b[39m.\u001b[39mprocess_response\u001b[39m.\u001b[39mget(protocol, []):\n\u001b[1;32m    522\u001b[0m     meth \u001b[39m=\u001b[39m \u001b[39mgetattr\u001b[39m(processor, meth_name)\n\u001b[0;32m--> 523\u001b[0m     response \u001b[39m=\u001b[39m meth(req, response)\n\u001b[1;32m    525\u001b[0m \u001b[39mreturn\u001b[39;00m response\n",
      "File \u001b[0;32m/Library/Frameworks/Python.framework/Versions/3.9/lib/python3.9/urllib/request.py:632\u001b[0m, in \u001b[0;36mHTTPErrorProcessor.http_response\u001b[0;34m(self, request, response)\u001b[0m\n\u001b[1;32m    629\u001b[0m \u001b[39m# According to RFC 2616, \"2xx\" code indicates that the client's\u001b[39;00m\n\u001b[1;32m    630\u001b[0m \u001b[39m# request was successfully received, understood, and accepted.\u001b[39;00m\n\u001b[1;32m    631\u001b[0m \u001b[39mif\u001b[39;00m \u001b[39mnot\u001b[39;00m (\u001b[39m200\u001b[39m \u001b[39m<\u001b[39m\u001b[39m=\u001b[39m code \u001b[39m<\u001b[39m \u001b[39m300\u001b[39m):\n\u001b[0;32m--> 632\u001b[0m     response \u001b[39m=\u001b[39m \u001b[39mself\u001b[39;49m\u001b[39m.\u001b[39;49mparent\u001b[39m.\u001b[39;49merror(\n\u001b[1;32m    633\u001b[0m         \u001b[39m'\u001b[39;49m\u001b[39mhttp\u001b[39;49m\u001b[39m'\u001b[39;49m, request, response, code, msg, hdrs)\n\u001b[1;32m    635\u001b[0m \u001b[39mreturn\u001b[39;00m response\n",
      "File \u001b[0;32m/Library/Frameworks/Python.framework/Versions/3.9/lib/python3.9/urllib/request.py:561\u001b[0m, in \u001b[0;36mOpenerDirector.error\u001b[0;34m(self, proto, *args)\u001b[0m\n\u001b[1;32m    559\u001b[0m \u001b[39mif\u001b[39;00m http_err:\n\u001b[1;32m    560\u001b[0m     args \u001b[39m=\u001b[39m (\u001b[39mdict\u001b[39m, \u001b[39m'\u001b[39m\u001b[39mdefault\u001b[39m\u001b[39m'\u001b[39m, \u001b[39m'\u001b[39m\u001b[39mhttp_error_default\u001b[39m\u001b[39m'\u001b[39m) \u001b[39m+\u001b[39m orig_args\n\u001b[0;32m--> 561\u001b[0m     \u001b[39mreturn\u001b[39;00m \u001b[39mself\u001b[39;49m\u001b[39m.\u001b[39;49m_call_chain(\u001b[39m*\u001b[39;49margs)\n",
      "File \u001b[0;32m/Library/Frameworks/Python.framework/Versions/3.9/lib/python3.9/urllib/request.py:494\u001b[0m, in \u001b[0;36mOpenerDirector._call_chain\u001b[0;34m(self, chain, kind, meth_name, *args)\u001b[0m\n\u001b[1;32m    492\u001b[0m \u001b[39mfor\u001b[39;00m handler \u001b[39min\u001b[39;00m handlers:\n\u001b[1;32m    493\u001b[0m     func \u001b[39m=\u001b[39m \u001b[39mgetattr\u001b[39m(handler, meth_name)\n\u001b[0;32m--> 494\u001b[0m     result \u001b[39m=\u001b[39m func(\u001b[39m*\u001b[39;49margs)\n\u001b[1;32m    495\u001b[0m     \u001b[39mif\u001b[39;00m result \u001b[39mis\u001b[39;00m \u001b[39mnot\u001b[39;00m \u001b[39mNone\u001b[39;00m:\n\u001b[1;32m    496\u001b[0m         \u001b[39mreturn\u001b[39;00m result\n",
      "File \u001b[0;32m/Library/Frameworks/Python.framework/Versions/3.9/lib/python3.9/urllib/request.py:641\u001b[0m, in \u001b[0;36mHTTPDefaultErrorHandler.http_error_default\u001b[0;34m(self, req, fp, code, msg, hdrs)\u001b[0m\n\u001b[1;32m    640\u001b[0m \u001b[39mdef\u001b[39;00m \u001b[39mhttp_error_default\u001b[39m(\u001b[39mself\u001b[39m, req, fp, code, msg, hdrs):\n\u001b[0;32m--> 641\u001b[0m     \u001b[39mraise\u001b[39;00m HTTPError(req\u001b[39m.\u001b[39mfull_url, code, msg, hdrs, fp)\n",
      "\u001b[0;31mHTTPError\u001b[0m: HTTP Error 403: Forbidden"
     ]
    }
   ],
   "source": [
    "followExternalOnly(\"http://oreilly.com\")"
   ]
  },
  {
   "cell_type": "code",
   "execution_count": 11,
   "metadata": {},
   "outputs": [
    {
     "name": "stdout",
     "output_type": "stream",
     "text": [
      "https://www.oreilly.com\n",
      "https://www.oreilly.com/member/login/\n",
      "https://www.oreilly.com/online-learning/try-now.html\n",
      "https://www.oreilly.com/online-learning/teams.html\n",
      "https://www.oreilly.com/online-learning/government.html\n",
      "https://www.oreilly.com/online-learning/academic.html\n",
      "https://www.oreilly.com/online-learning/individuals.html\n",
      "https://www.oreilly.com/online-learning/features.html\n",
      "https://www.oreilly.com/online-learning/feature-certification.html\n",
      "https://www.oreilly.com/online-learning/intro-interactive-learning.html\n",
      "https://www.oreilly.com/online-learning/live-events.html\n",
      "https://www.oreilly.com/online-learning/feature-answers.html\n",
      "https://www.oreilly.com/online-learning/insights-dashboard.html\n",
      "https://www.oreilly.com/radar/\n",
      "https://www.oreilly.com/content-marketing-solutions.html\n",
      "https://www.oreilly.com/online-learning/radar-event-data-ai-2022.html\n",
      "https://learning.oreilly.com/start-trial/\n",
      "https://www.oreilly.com/ceros/cloud-labs-register.html\n",
      "https://www.oreilly.com/online-learning/the-cost-of-doing-nothing.html\n",
      "https://learning.oreilly.com/search/?query=author%3A%22Arianne%20Dee%22&extended_publisher_data=true&highlight=true&include_assessments=false&include_case_studies=true&include_courses=true&include_playlists=true&include_collections=true&include_notebooks=true&include_sandboxes=true&include_scenarios=true&is_academic_institution_account=false&source=suggestion&sort=date_added&facet_json=true&json_facets=true&page=0&include_facets=false\n",
      "https://learning.oreilly.com/search/?query=author%3A%22Bruno%20Gon%C3%A7alves%22&extended_publisher_data=true&highlight=true&include_assessments=false&include_case_studies=true&include_courses=true&include_playlists=true&include_collections=true&include_notebooks=true&include_sandboxes=true&include_scenarios=true&is_academic_institution_account=false&source=user&sort=date_added&facet_json=true&json_facets=true&page=0&include_facets=false\n",
      "https://learning.oreilly.com/search/?query=author%3A%22Kelsey%20Hightower%22&extended_publisher_data=true&highlight=true&include_assessments=false&include_case_studies=true&include_courses=true&include_playlists=true&include_collections=true&include_notebooks=true&include_sandboxes=true&include_scenarios=true&is_academic_institution_account=false&source=user&sort=date_added&facet_json=true&json_facets=true&page=0&include_facets=false\n",
      "https://learning.oreilly.com/search/?query=author%3A%22Sari%20Greene%22&extended_publisher_data=true&highlight=true&include_assessments=false&include_case_studies=true&include_courses=true&include_playlists=true&include_collections=true&include_notebooks=true&include_sandboxes=true&include_scenarios=true&is_academic_institution_account=false&source=user&sort=date_added&facet_json=true&json_facets=true&page=0&include_facets=false\n",
      "https://learning.oreilly.com/search/?query=author%3A%22Neal%20Ford%22&extended_publisher_data=true&highlight=true&include_assessments=false&include_case_studies=true&include_courses=true&include_playlists=true&include_collections=true&include_notebooks=true&include_sandboxes=true&include_scenarios=true&is_academic_institution_account=false&source=user&sort=date_added&facet_json=true&json_facets=true&page=0&include_facets=false\n",
      "https://learning.oreilly.com/search/?query=author%3A%22Ken%20Kousen%22&extended_publisher_data=true&highlight=true&include_assessments=false&include_case_studies=true&include_courses=true&include_playlists=true&include_collections=true&include_notebooks=true&include_sandboxes=true&include_scenarios=true&is_academic_institution_account=false&source=user&sort=date_added&facet_json=true&json_facets=true&page=0&include_facets=false\n",
      "https://www.oreilly.com/online-learning/live-online-sessions.html\n",
      "https://www.oreilly.com/online-learning/enterprise.html\n",
      "https://www.oreilly.com/diversity/\n",
      "https://twitter.com/oreillymedia\n",
      "https://www.linkedin.com/company/oreilly-media\n",
      "https://www.youtube.com/user/OreillyMedia\n",
      "https://www.oreilly.com/anz/\n",
      "https://oreilly.hk/\n",
      "https://oreillylearning.in/\n",
      "https://oreilly.id/\n",
      "https://www.oreilly.co.jp/index.shtml\n",
      "https://itunes.apple.com/us/app/safari-to-go/id881697395\n",
      "https://play.google.com/store/apps/details?id=com.safariflow.queue\n",
      "https://channelstore.roku.com/details/c8a2d0096693eb9455f6ac165003ee06/oreilly\n",
      "https://www.amazon.com/OReilly-Media-Inc/dp/B087YYHL5C/ref=sr_1_2?dchild=1&keywords=oreilly&qid=1604964116&s=mobile-apps&sr=1-2\n",
      "https://www.oreilly.com/privacy.html?donotsell=show\n",
      "https://www.oreilly.com/about/history.html\n",
      "https://www.oreilly.com/tim/\n",
      "https://www.oreilly.com/pub/pr/3371\n",
      "https://www.oreilly.com/pub/pr/3368\n",
      "https://www.oreilly.com/pub/pr/3366\n",
      "https://www.oreilly.com/press/\n",
      "https://www.oreilly.com/about/editorial_independence.html\n",
      "https://www.oreilly.com/about/resources.html\n",
      "https://www.oreilly.com/work-with-us/build-interactive-learning.html\n",
      "https://docs.google.com/document/d/1hDe3pmc8taSPh9pdiGLkTPw21J1lPsoKr-H3dygrYWs/copy\n",
      "https://docs.google.com/document/d/16B8ZmpEj-DULGNb8X2NjpQPUnZMWUn5kM1ZBaN7pSUs/copy\n",
      "https://www.oreilly.com/careers/\n",
      "https://www.oreilly.com/careers/#positions\n",
      "https://www.diversityjobs.com/oreilly?utm_campaign=TopEmployer&utm_medium=badge&utm_source=\n",
      "https://www.oreilly.com/partner/optimize-your-community-partnership.html\n",
      "https://app.oreilly.com/cs/user/register?x-redirect=http://www.oreilly.com/partner/signup.csp\n",
      "https://app.oreilly.com/cs/user/login?x-redirect=http://www.oreilly.com/partner/signup.csp\n",
      "https://signup.cj.com/member/brandedPublisherSignUp.do?air_refmerchantid=3812999\n",
      "http://www.cj.com/\n",
      "https://www.oreilly.com/oreilly/privacy.html\n"
     ]
    },
    {
     "ename": "KeyboardInterrupt",
     "evalue": "",
     "output_type": "error",
     "traceback": [
      "\u001b[0;31m---------------------------------------------------------------------------\u001b[0m",
      "\u001b[0;31mKeyboardInterrupt\u001b[0m                         Traceback (most recent call last)",
      "\u001b[1;32m/Users/danyow/Desktop/extra-learning/spyier/chapter3-url.ipynb Cell 16\u001b[0m in \u001b[0;36m<cell line: 22>\u001b[0;34m()\u001b[0m\n\u001b[1;32m     <a href='vscode-notebook-cell:/Users/danyow/Desktop/extra-learning/spyier/chapter3-url.ipynb#X22sZmlsZQ%3D%3D?line=18'>19</a>\u001b[0m             getAllExternalLinks(link)\n\u001b[1;32m     <a href='vscode-notebook-cell:/Users/danyow/Desktop/extra-learning/spyier/chapter3-url.ipynb#X22sZmlsZQ%3D%3D?line=20'>21</a>\u001b[0m allIntLinks\u001b[39m.\u001b[39madd(\u001b[39m\"\u001b[39m\u001b[39mhttp://oreilly.com\u001b[39m\u001b[39m\"\u001b[39m)\n\u001b[0;32m---> <a href='vscode-notebook-cell:/Users/danyow/Desktop/extra-learning/spyier/chapter3-url.ipynb#X22sZmlsZQ%3D%3D?line=21'>22</a>\u001b[0m getAllExternalLinks(\u001b[39m\"\u001b[39;49m\u001b[39mhttp://oreilly.com\u001b[39;49m\u001b[39m\"\u001b[39;49m)\n",
      "\u001b[1;32m/Users/danyow/Desktop/extra-learning/spyier/chapter3-url.ipynb Cell 16\u001b[0m in \u001b[0;36mgetAllExternalLinks\u001b[0;34m(siteUrl)\u001b[0m\n\u001b[1;32m     <a href='vscode-notebook-cell:/Users/danyow/Desktop/extra-learning/spyier/chapter3-url.ipynb#X22sZmlsZQ%3D%3D?line=16'>17</a>\u001b[0m \u001b[39mif\u001b[39;00m link \u001b[39mnot\u001b[39;00m \u001b[39min\u001b[39;00m allExtLinks:\n\u001b[1;32m     <a href='vscode-notebook-cell:/Users/danyow/Desktop/extra-learning/spyier/chapter3-url.ipynb#X22sZmlsZQ%3D%3D?line=17'>18</a>\u001b[0m     allExtLinks\u001b[39m.\u001b[39madd(link)\n\u001b[0;32m---> <a href='vscode-notebook-cell:/Users/danyow/Desktop/extra-learning/spyier/chapter3-url.ipynb#X22sZmlsZQ%3D%3D?line=18'>19</a>\u001b[0m     getAllExternalLinks(link)\n",
      "\u001b[1;32m/Users/danyow/Desktop/extra-learning/spyier/chapter3-url.ipynb Cell 16\u001b[0m in \u001b[0;36mgetAllExternalLinks\u001b[0;34m(siteUrl)\u001b[0m\n\u001b[1;32m     <a href='vscode-notebook-cell:/Users/danyow/Desktop/extra-learning/spyier/chapter3-url.ipynb#X22sZmlsZQ%3D%3D?line=16'>17</a>\u001b[0m \u001b[39mif\u001b[39;00m link \u001b[39mnot\u001b[39;00m \u001b[39min\u001b[39;00m allExtLinks:\n\u001b[1;32m     <a href='vscode-notebook-cell:/Users/danyow/Desktop/extra-learning/spyier/chapter3-url.ipynb#X22sZmlsZQ%3D%3D?line=17'>18</a>\u001b[0m     allExtLinks\u001b[39m.\u001b[39madd(link)\n\u001b[0;32m---> <a href='vscode-notebook-cell:/Users/danyow/Desktop/extra-learning/spyier/chapter3-url.ipynb#X22sZmlsZQ%3D%3D?line=18'>19</a>\u001b[0m     getAllExternalLinks(link)\n",
      "    \u001b[0;31m[... skipping similar frames: getAllExternalLinks at line 19 (4 times)]\u001b[0m\n",
      "\u001b[1;32m/Users/danyow/Desktop/extra-learning/spyier/chapter3-url.ipynb Cell 16\u001b[0m in \u001b[0;36mgetAllExternalLinks\u001b[0;34m(siteUrl)\u001b[0m\n\u001b[1;32m     <a href='vscode-notebook-cell:/Users/danyow/Desktop/extra-learning/spyier/chapter3-url.ipynb#X22sZmlsZQ%3D%3D?line=16'>17</a>\u001b[0m \u001b[39mif\u001b[39;00m link \u001b[39mnot\u001b[39;00m \u001b[39min\u001b[39;00m allExtLinks:\n\u001b[1;32m     <a href='vscode-notebook-cell:/Users/danyow/Desktop/extra-learning/spyier/chapter3-url.ipynb#X22sZmlsZQ%3D%3D?line=17'>18</a>\u001b[0m     allExtLinks\u001b[39m.\u001b[39madd(link)\n\u001b[0;32m---> <a href='vscode-notebook-cell:/Users/danyow/Desktop/extra-learning/spyier/chapter3-url.ipynb#X22sZmlsZQ%3D%3D?line=18'>19</a>\u001b[0m     getAllExternalLinks(link)\n",
      "\u001b[1;32m/Users/danyow/Desktop/extra-learning/spyier/chapter3-url.ipynb Cell 16\u001b[0m in \u001b[0;36mgetAllExternalLinks\u001b[0;34m(siteUrl)\u001b[0m\n\u001b[1;32m      <a href='vscode-notebook-cell:/Users/danyow/Desktop/extra-learning/spyier/chapter3-url.ipynb#X22sZmlsZQ%3D%3D?line=3'>4</a>\u001b[0m \u001b[39mdef\u001b[39;00m \u001b[39mgetAllExternalLinks\u001b[39m(siteUrl):\n\u001b[0;32m----> <a href='vscode-notebook-cell:/Users/danyow/Desktop/extra-learning/spyier/chapter3-url.ipynb#X22sZmlsZQ%3D%3D?line=4'>5</a>\u001b[0m     html \u001b[39m=\u001b[39m urlopen(siteUrl)\n\u001b[1;32m      <a href='vscode-notebook-cell:/Users/danyow/Desktop/extra-learning/spyier/chapter3-url.ipynb#X22sZmlsZQ%3D%3D?line=5'>6</a>\u001b[0m     domain \u001b[39m=\u001b[39m \u001b[39m\"\u001b[39m\u001b[39m{}\u001b[39;00m\u001b[39m://\u001b[39m\u001b[39m{}\u001b[39;00m\u001b[39m\"\u001b[39m\u001b[39m.\u001b[39mformat(urlparse(siteUrl)\u001b[39m.\u001b[39mscheme,urlparse(siteUrl)\u001b[39m.\u001b[39mnetloc)\n\u001b[1;32m      <a href='vscode-notebook-cell:/Users/danyow/Desktop/extra-learning/spyier/chapter3-url.ipynb#X22sZmlsZQ%3D%3D?line=6'>7</a>\u001b[0m     bs \u001b[39m=\u001b[39m BeautifulSoup(html,\u001b[39m\"\u001b[39m\u001b[39mhtml.parser\u001b[39m\u001b[39m\"\u001b[39m)\n",
      "File \u001b[0;32m/Library/Frameworks/Python.framework/Versions/3.9/lib/python3.9/urllib/request.py:214\u001b[0m, in \u001b[0;36murlopen\u001b[0;34m(url, data, timeout, cafile, capath, cadefault, context)\u001b[0m\n\u001b[1;32m    212\u001b[0m \u001b[39melse\u001b[39;00m:\n\u001b[1;32m    213\u001b[0m     opener \u001b[39m=\u001b[39m _opener\n\u001b[0;32m--> 214\u001b[0m \u001b[39mreturn\u001b[39;00m opener\u001b[39m.\u001b[39;49mopen(url, data, timeout)\n",
      "File \u001b[0;32m/Library/Frameworks/Python.framework/Versions/3.9/lib/python3.9/urllib/request.py:517\u001b[0m, in \u001b[0;36mOpenerDirector.open\u001b[0;34m(self, fullurl, data, timeout)\u001b[0m\n\u001b[1;32m    514\u001b[0m     req \u001b[39m=\u001b[39m meth(req)\n\u001b[1;32m    516\u001b[0m sys\u001b[39m.\u001b[39maudit(\u001b[39m'\u001b[39m\u001b[39murllib.Request\u001b[39m\u001b[39m'\u001b[39m, req\u001b[39m.\u001b[39mfull_url, req\u001b[39m.\u001b[39mdata, req\u001b[39m.\u001b[39mheaders, req\u001b[39m.\u001b[39mget_method())\n\u001b[0;32m--> 517\u001b[0m response \u001b[39m=\u001b[39m \u001b[39mself\u001b[39;49m\u001b[39m.\u001b[39;49m_open(req, data)\n\u001b[1;32m    519\u001b[0m \u001b[39m# post-process response\u001b[39;00m\n\u001b[1;32m    520\u001b[0m meth_name \u001b[39m=\u001b[39m protocol\u001b[39m+\u001b[39m\u001b[39m\"\u001b[39m\u001b[39m_response\u001b[39m\u001b[39m\"\u001b[39m\n",
      "File \u001b[0;32m/Library/Frameworks/Python.framework/Versions/3.9/lib/python3.9/urllib/request.py:534\u001b[0m, in \u001b[0;36mOpenerDirector._open\u001b[0;34m(self, req, data)\u001b[0m\n\u001b[1;32m    531\u001b[0m     \u001b[39mreturn\u001b[39;00m result\n\u001b[1;32m    533\u001b[0m protocol \u001b[39m=\u001b[39m req\u001b[39m.\u001b[39mtype\n\u001b[0;32m--> 534\u001b[0m result \u001b[39m=\u001b[39m \u001b[39mself\u001b[39;49m\u001b[39m.\u001b[39;49m_call_chain(\u001b[39mself\u001b[39;49m\u001b[39m.\u001b[39;49mhandle_open, protocol, protocol \u001b[39m+\u001b[39;49m\n\u001b[1;32m    535\u001b[0m                           \u001b[39m'\u001b[39;49m\u001b[39m_open\u001b[39;49m\u001b[39m'\u001b[39;49m, req)\n\u001b[1;32m    536\u001b[0m \u001b[39mif\u001b[39;00m result:\n\u001b[1;32m    537\u001b[0m     \u001b[39mreturn\u001b[39;00m result\n",
      "File \u001b[0;32m/Library/Frameworks/Python.framework/Versions/3.9/lib/python3.9/urllib/request.py:494\u001b[0m, in \u001b[0;36mOpenerDirector._call_chain\u001b[0;34m(self, chain, kind, meth_name, *args)\u001b[0m\n\u001b[1;32m    492\u001b[0m \u001b[39mfor\u001b[39;00m handler \u001b[39min\u001b[39;00m handlers:\n\u001b[1;32m    493\u001b[0m     func \u001b[39m=\u001b[39m \u001b[39mgetattr\u001b[39m(handler, meth_name)\n\u001b[0;32m--> 494\u001b[0m     result \u001b[39m=\u001b[39m func(\u001b[39m*\u001b[39;49margs)\n\u001b[1;32m    495\u001b[0m     \u001b[39mif\u001b[39;00m result \u001b[39mis\u001b[39;00m \u001b[39mnot\u001b[39;00m \u001b[39mNone\u001b[39;00m:\n\u001b[1;32m    496\u001b[0m         \u001b[39mreturn\u001b[39;00m result\n",
      "File \u001b[0;32m/Library/Frameworks/Python.framework/Versions/3.9/lib/python3.9/urllib/request.py:1375\u001b[0m, in \u001b[0;36mHTTPHandler.http_open\u001b[0;34m(self, req)\u001b[0m\n\u001b[1;32m   1374\u001b[0m \u001b[39mdef\u001b[39;00m \u001b[39mhttp_open\u001b[39m(\u001b[39mself\u001b[39m, req):\n\u001b[0;32m-> 1375\u001b[0m     \u001b[39mreturn\u001b[39;00m \u001b[39mself\u001b[39;49m\u001b[39m.\u001b[39;49mdo_open(http\u001b[39m.\u001b[39;49mclient\u001b[39m.\u001b[39;49mHTTPConnection, req)\n",
      "File \u001b[0;32m/Library/Frameworks/Python.framework/Versions/3.9/lib/python3.9/urllib/request.py:1350\u001b[0m, in \u001b[0;36mAbstractHTTPHandler.do_open\u001b[0;34m(self, http_class, req, **http_conn_args)\u001b[0m\n\u001b[1;32m   1348\u001b[0m     \u001b[39mexcept\u001b[39;00m \u001b[39mOSError\u001b[39;00m \u001b[39mas\u001b[39;00m err: \u001b[39m# timeout error\u001b[39;00m\n\u001b[1;32m   1349\u001b[0m         \u001b[39mraise\u001b[39;00m URLError(err)\n\u001b[0;32m-> 1350\u001b[0m     r \u001b[39m=\u001b[39m h\u001b[39m.\u001b[39;49mgetresponse()\n\u001b[1;32m   1351\u001b[0m \u001b[39mexcept\u001b[39;00m:\n\u001b[1;32m   1352\u001b[0m     h\u001b[39m.\u001b[39mclose()\n",
      "File \u001b[0;32m/Library/Frameworks/Python.framework/Versions/3.9/lib/python3.9/http/client.py:1347\u001b[0m, in \u001b[0;36mHTTPConnection.getresponse\u001b[0;34m(self)\u001b[0m\n\u001b[1;32m   1345\u001b[0m \u001b[39mtry\u001b[39;00m:\n\u001b[1;32m   1346\u001b[0m     \u001b[39mtry\u001b[39;00m:\n\u001b[0;32m-> 1347\u001b[0m         response\u001b[39m.\u001b[39;49mbegin()\n\u001b[1;32m   1348\u001b[0m     \u001b[39mexcept\u001b[39;00m \u001b[39mConnectionError\u001b[39;00m:\n\u001b[1;32m   1349\u001b[0m         \u001b[39mself\u001b[39m\u001b[39m.\u001b[39mclose()\n",
      "File \u001b[0;32m/Library/Frameworks/Python.framework/Versions/3.9/lib/python3.9/http/client.py:307\u001b[0m, in \u001b[0;36mHTTPResponse.begin\u001b[0;34m(self)\u001b[0m\n\u001b[1;32m    305\u001b[0m \u001b[39m# read until we get a non-100 response\u001b[39;00m\n\u001b[1;32m    306\u001b[0m \u001b[39mwhile\u001b[39;00m \u001b[39mTrue\u001b[39;00m:\n\u001b[0;32m--> 307\u001b[0m     version, status, reason \u001b[39m=\u001b[39m \u001b[39mself\u001b[39;49m\u001b[39m.\u001b[39;49m_read_status()\n\u001b[1;32m    308\u001b[0m     \u001b[39mif\u001b[39;00m status \u001b[39m!=\u001b[39m CONTINUE:\n\u001b[1;32m    309\u001b[0m         \u001b[39mbreak\u001b[39;00m\n",
      "File \u001b[0;32m/Library/Frameworks/Python.framework/Versions/3.9/lib/python3.9/http/client.py:268\u001b[0m, in \u001b[0;36mHTTPResponse._read_status\u001b[0;34m(self)\u001b[0m\n\u001b[1;32m    267\u001b[0m \u001b[39mdef\u001b[39;00m \u001b[39m_read_status\u001b[39m(\u001b[39mself\u001b[39m):\n\u001b[0;32m--> 268\u001b[0m     line \u001b[39m=\u001b[39m \u001b[39mstr\u001b[39m(\u001b[39mself\u001b[39;49m\u001b[39m.\u001b[39;49mfp\u001b[39m.\u001b[39;49mreadline(_MAXLINE \u001b[39m+\u001b[39;49m \u001b[39m1\u001b[39;49m), \u001b[39m\"\u001b[39m\u001b[39miso-8859-1\u001b[39m\u001b[39m\"\u001b[39m)\n\u001b[1;32m    269\u001b[0m     \u001b[39mif\u001b[39;00m \u001b[39mlen\u001b[39m(line) \u001b[39m>\u001b[39m _MAXLINE:\n\u001b[1;32m    270\u001b[0m         \u001b[39mraise\u001b[39;00m LineTooLong(\u001b[39m\"\u001b[39m\u001b[39mstatus line\u001b[39m\u001b[39m\"\u001b[39m)\n",
      "File \u001b[0;32m/Library/Frameworks/Python.framework/Versions/3.9/lib/python3.9/socket.py:704\u001b[0m, in \u001b[0;36mSocketIO.readinto\u001b[0;34m(self, b)\u001b[0m\n\u001b[1;32m    702\u001b[0m \u001b[39mwhile\u001b[39;00m \u001b[39mTrue\u001b[39;00m:\n\u001b[1;32m    703\u001b[0m     \u001b[39mtry\u001b[39;00m:\n\u001b[0;32m--> 704\u001b[0m         \u001b[39mreturn\u001b[39;00m \u001b[39mself\u001b[39;49m\u001b[39m.\u001b[39;49m_sock\u001b[39m.\u001b[39;49mrecv_into(b)\n\u001b[1;32m    705\u001b[0m     \u001b[39mexcept\u001b[39;00m timeout:\n\u001b[1;32m    706\u001b[0m         \u001b[39mself\u001b[39m\u001b[39m.\u001b[39m_timeout_occurred \u001b[39m=\u001b[39m \u001b[39mTrue\u001b[39;00m\n",
      "\u001b[0;31mKeyboardInterrupt\u001b[0m: "
     ]
    }
   ],
   "source": [
    "'''收集网站上发现的所有外链列表'''\n",
    "allExtLinks = set()\n",
    "allIntLinks = set()\n",
    "def getAllExternalLinks(siteUrl):\n",
    "    html = urlopen(siteUrl)\n",
    "    domain = \"{}://{}\".format(urlparse(siteUrl).scheme,urlparse(siteUrl).netloc)\n",
    "    bs = BeautifulSoup(html,\"html.parser\")\n",
    "    internalLinks = getInteralLinks(bs,domain)\n",
    "    externalLinks = getExternalLinks(bs,domain)\n",
    "    \n",
    "    for link in externalLinks:\n",
    "        if link not in allExtLinks:\n",
    "            allExtLinks.add(link)\n",
    "            print(link)\n",
    "\n",
    "    for link in internalLinks:\n",
    "        if link not in allExtLinks:\n",
    "            allExtLinks.add(link)\n",
    "            getAllExternalLinks(link)\n",
    "\n",
    "allIntLinks.add(\"http://oreilly.com\")\n",
    "getAllExternalLinks(\"http://oreilly.com\")\n"
   ]
  }
 ],
 "metadata": {
  "kernelspec": {
   "display_name": "Python 3.9.2 64-bit",
   "language": "python",
   "name": "python3"
  },
  "language_info": {
   "codemirror_mode": {
    "name": "ipython",
    "version": 3
   },
   "file_extension": ".py",
   "mimetype": "text/x-python",
   "name": "python",
   "nbconvert_exporter": "python",
   "pygments_lexer": "ipython3",
   "version": "3.9.2"
  },
  "orig_nbformat": 4,
  "vscode": {
   "interpreter": {
    "hash": "397704579725e15f5c7cb49fe5f0341eb7531c82d19f2c29d197e8b64ab5776b"
   }
  }
 },
 "nbformat": 4,
 "nbformat_minor": 2
}
