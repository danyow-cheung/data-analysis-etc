{
 "cells": [
  {
   "cell_type": "markdown",
   "metadata": {},
   "source": [
    "# 远程抓取\n",
    "\n",
    "分布式计算(distributed computing)。这种方法可以让多个机器并发 执行并完成你的任务。一个简单的例子是你可以用一台机器来抓取一些网站，再用另一台 机器抓取另一些网站，最后再把收集的数据存储在同一个数据库里。"
   ]
  },
  {
   "cell_type": "code",
   "execution_count": null,
   "metadata": {},
   "outputs": [],
   "source": [
    "import socks \n",
    "import socket\n",
    "from urllib.request import urlopen\n",
    "socks.set_default_proxy(socks.SOCKS5,\"localhost\",9150)\n",
    "socket.socket = socks.socksocket\n",
    "print(urlopen('http://icanhazip.com').read())"
   ]
  }
 ],
 "metadata": {
  "language_info": {
   "name": "python"
  },
  "orig_nbformat": 4
 },
 "nbformat": 4,
 "nbformat_minor": 2
}
