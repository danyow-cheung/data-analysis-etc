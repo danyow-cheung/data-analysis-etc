{
 "cells": [
  {
   "cell_type": "markdown",
   "metadata": {},
   "source": [
    "# 利用API抓取数据"
   ]
  },
  {
   "cell_type": "markdown",
   "metadata": {},
   "source": [
    "2. 解析JSON数据"
   ]
  },
  {
   "cell_type": "code",
   "execution_count": 7,
   "metadata": {},
   "outputs": [
    {
     "name": "stdout",
     "output_type": "stream",
     "text": [
      "HTTP Error 502: Bad Gateway\n"
     ]
    },
    {
     "ename": "UnboundLocalError",
     "evalue": "local variable 'response' referenced before assignment",
     "output_type": "error",
     "traceback": [
      "\u001b[0;31m---------------------------------------------------------------------------\u001b[0m",
      "\u001b[0;31mUnboundLocalError\u001b[0m                         Traceback (most recent call last)",
      "\u001b[1;32m/Users/danyow/Desktop/extra-learning/spyier/chapter12-api.ipynb Cell 3\u001b[0m in \u001b[0;36m<cell line: 15>\u001b[0;34m()\u001b[0m\n\u001b[1;32m     <a href='vscode-notebook-cell:/Users/danyow/Desktop/extra-learning/spyier/chapter12-api.ipynb#W2sZmlsZQ%3D%3D?line=11'>12</a>\u001b[0m     responseJson \u001b[39m=\u001b[39m json\u001b[39m.\u001b[39mload(response)\n\u001b[1;32m     <a href='vscode-notebook-cell:/Users/danyow/Desktop/extra-learning/spyier/chapter12-api.ipynb#W2sZmlsZQ%3D%3D?line=12'>13</a>\u001b[0m     \u001b[39mreturn\u001b[39;00m responseJson\u001b[39m.\u001b[39mget(\u001b[39m'\u001b[39m\u001b[39mcountry_code\u001b[39m\u001b[39m'\u001b[39m)\n\u001b[0;32m---> <a href='vscode-notebook-cell:/Users/danyow/Desktop/extra-learning/spyier/chapter12-api.ipynb#W2sZmlsZQ%3D%3D?line=14'>15</a>\u001b[0m \u001b[39mprint\u001b[39m(getCountry(\u001b[39m\"\u001b[39;49m\u001b[39m50.78.253.58\u001b[39;49m\u001b[39m\"\u001b[39;49m))\n",
      "\u001b[1;32m/Users/danyow/Desktop/extra-learning/spyier/chapter12-api.ipynb Cell 3\u001b[0m in \u001b[0;36mgetCountry\u001b[0;34m(ipAddress)\u001b[0m\n\u001b[1;32m      <a href='vscode-notebook-cell:/Users/danyow/Desktop/extra-learning/spyier/chapter12-api.ipynb#W2sZmlsZQ%3D%3D?line=8'>9</a>\u001b[0m \u001b[39mexcept\u001b[39;00m HTTPError \u001b[39mas\u001b[39;00m e :\n\u001b[1;32m     <a href='vscode-notebook-cell:/Users/danyow/Desktop/extra-learning/spyier/chapter12-api.ipynb#W2sZmlsZQ%3D%3D?line=9'>10</a>\u001b[0m     \u001b[39mprint\u001b[39m(e)\n\u001b[0;32m---> <a href='vscode-notebook-cell:/Users/danyow/Desktop/extra-learning/spyier/chapter12-api.ipynb#W2sZmlsZQ%3D%3D?line=11'>12</a>\u001b[0m responseJson \u001b[39m=\u001b[39m json\u001b[39m.\u001b[39mload(response)\n\u001b[1;32m     <a href='vscode-notebook-cell:/Users/danyow/Desktop/extra-learning/spyier/chapter12-api.ipynb#W2sZmlsZQ%3D%3D?line=12'>13</a>\u001b[0m \u001b[39mreturn\u001b[39;00m responseJson\u001b[39m.\u001b[39mget(\u001b[39m'\u001b[39m\u001b[39mcountry_code\u001b[39m\u001b[39m'\u001b[39m)\n",
      "\u001b[0;31mUnboundLocalError\u001b[0m: local variable 'response' referenced before assignment"
     ]
    }
   ],
   "source": [
    "import json\n",
    "from urllib import response\n",
    "from urllib.error import HTTPError \n",
    "from urllib.request import urlopen\n",
    "\n",
    "def getCountry(ipAddress):\n",
    "    try:\n",
    "        response = urlopen('http://https://ipstack.com/json/{}'.format(ipAddress)).read().decode('utf-8')\n",
    "    except HTTPError as e :\n",
    "        print(e)\n",
    "        \n",
    "    responseJson = json.load(response)\n",
    "    return responseJson.get('country_code')\n",
    "\n",
    "print(getCountry(\"50.78.253.58\"))"
   ]
  },
  {
   "cell_type": "markdown",
   "metadata": {},
   "source": [
    "3. 收集大量维基百科编辑者的地理数据"
   ]
  },
  {
   "cell_type": "code",
   "execution_count": 8,
   "metadata": {},
   "outputs": [],
   "source": [
    "from urllib.request import urlopen\n",
    "from bs4 import BeautifulSoup\n",
    "import json\n",
    "import datetime\n",
    "import random\n",
    "import re\n"
   ]
  },
  {
   "cell_type": "code",
   "execution_count": 9,
   "metadata": {},
   "outputs": [
    {
     "name": "stderr",
     "output_type": "stream",
     "text": [
      "/var/folders/95/0b9jlx8d4dgdp4pw27fwrd440000gn/T/ipykernel_3819/496233226.py:1: DeprecationWarning: Seeding based on hashing is deprecated\n",
      "since Python 3.9 and will be removed in a subsequent version. The only \n",
      "supported seed types are: None, int, float, str, bytes, and bytearray.\n",
      "  random.seed(datetime.datetime.now())\n"
     ]
    }
   ],
   "source": [
    "random.seed(datetime.datetime.now())\n",
    "def getLinks(articleUrl):\n",
    "    html = urlopen('http://en.wikipedia.org{}'.format(articleUrl))\n",
    "    bs = BeautifulSoup(html, 'html.parser')\n",
    "    return bs.find('div', {'id':'bodyContent'}).findAll('a', \n",
    "        href=re.compile('^(/wiki/)((?!:).)*$'))"
   ]
  },
  {
   "cell_type": "code",
   "execution_count": 10,
   "metadata": {},
   "outputs": [],
   "source": [
    "def getHistoryIPs(pageUrl):\n",
    "# 编辑历史页面的URL链接格式是:\n",
    "# http://en.wikipedia.org/w/index.php?title=Title_in_URL&action=history\n",
    "    pageUrl = pageUrl.replace('/wiki/', '')\n",
    "    historyUrl = 'http://en.wikipedia.org/w/index.php?title={}&action=history'.format(pageUrl)\n",
    "    print('history url is: {}'.format(historyUrl))\n",
    "    html = urlopen(historyUrl)\n",
    "    bs = BeautifulSoup(html, 'html.parser')\n",
    "# 找出class属性是\"mw-userlink mw-anonuserlink\"的链接\n",
    "# 它们用IP地址代替用户名\n",
    "    ipAddresses = bs.findAll('a', {'class':'mw-anonuserlink'})\n",
    "    addressList = set()\n",
    "    for ipAddress in ipAddresses:\n",
    "        addressList.add(ipAddress.get_text())\n",
    "    return addressList"
   ]
  },
  {
   "cell_type": "code",
   "execution_count": 11,
   "metadata": {},
   "outputs": [
    {
     "name": "stdout",
     "output_type": "stream",
     "text": [
      "--------------------\n",
      "history url is: http://en.wikipedia.org/w/index.php?title=Programming_paradigm&action=history\n",
      "106.203.236.74\n",
      "2806:108e:d:bd2c:a577:db4f:2867:2b5c\n",
      "2001:171b:226c:d550:d837:b286:5892:7f22\n",
      "2402:8100:3a0f:9ac:c1c2:35c3:2d9a:dff6\n",
      "107.190.108.84\n",
      "2409:4042:e8f:8d39:b50c:f4ca:91b8:eb9d\n",
      "2806:1016:d:54b6:8950:4501:c00b:507a\n",
      "2405:201:2009:80b0:41bc:366f:a49c:52f2\n",
      "36.255.87.160\n",
      "85.107.66.187\n",
      "172.115.220.47\n",
      "223.25.63.145\n",
      "51.39.3.208\n",
      "5.239.162.101\n",
      "106.215.120.243\n",
      "--------------------\n",
      "history url is: http://en.wikipedia.org/w/index.php?title=Multi-paradigm_programming_language&action=history\n",
      "98.197.198.46\n",
      "75.139.254.117\n",
      "--------------------\n",
      "history url is: http://en.wikipedia.org/w/index.php?title=Object-oriented_programming&action=history\n",
      "106.1.248.137\n",
      "117.221.205.234\n",
      "98.4.112.204\n",
      "12.183.178.250\n",
      "136.148.37.28\n",
      "49.36.100.23\n",
      "81.131.103.252\n",
      "216.21.135.198\n",
      "147.161.161.101\n",
      "131.119.15.14\n",
      "163.116.205.116\n",
      "2409:4055:9b:42fd:558:fb68:5d55:7809\n",
      "71.32.81.247\n",
      "103.243.67.86\n",
      "--------------------\n",
      "history url is: http://en.wikipedia.org/w/index.php?title=Procedural_programming&action=history\n",
      "194.214.56.66\n",
      "151.255.244.223\n",
      "112.134.214.53\n",
      "117.220.135.30\n",
      "83.173.200.121\n",
      "2601:2c3:867f:e810:5b9b:58e7:b427:e352\n",
      "2600:1000:b045:9be1:67c4:f788:c2fb:461d\n",
      "2607:fea8:9560:8ae:e155:3e6f:7747:5544\n",
      "216.225.124.244\n",
      "112.79.118.122\n",
      "66.76.37.82\n",
      "162.208.181.210\n",
      "2001:44c8:45d2:11cd:1:0:2e69:c996\n",
      "2402:4000:2181:dc7c:adf7:799f:4e41:8553\n",
      "174.90.223.214\n",
      "--------------------\n",
      "history url is: http://en.wikipedia.org/w/index.php?title=Imperative_programming&action=history\n",
      "74.134.74.248\n",
      "49.207.196.35\n",
      "189.204.196.201\n",
      "207.255.75.92\n",
      "5.114.229.83\n",
      "2a02:c7f:c28c:f400:e510:1e3e:d3d2:a21e\n",
      "223.24.167.37\n",
      "2603:6010:df00:21d5:8dbc:53ba:9aa1:6267\n",
      "2405:204:a3a7:c3bd::f0b:a0ac\n",
      "173.225.40.198\n",
      "2001:4454:38f:fc00:c8f1:b67e:da95:ab6f\n",
      "117.207.179.184\n",
      "--------------------\n",
      "history url is: http://en.wikipedia.org/w/index.php?title=Functional_programming&action=history\n",
      "23.121.65.56\n",
      "190.21.59.10\n",
      "2607:fea8:2363:8f00:a000:dce0:5c45:2642\n",
      "2600:6c4a:4d7f:e999:d21:9ad5:a5e4:e20d\n",
      "2a01:e0a:2cb:ee10:2dc7:7cf3:378f:f729\n",
      "2804:14c:1c2:821c:4970:1293:d1dc:3f00\n",
      "2607:fea8:235f:9730::1232\n",
      "104.152.255.71\n",
      "109.125.120.234\n",
      "134.204.220.36\n",
      "105.12.5.186\n",
      "--------------------\n",
      "history url is: http://en.wikipedia.org/w/index.php?title=Structured_programming&action=history\n",
      "41.89.61.3\n",
      "2409:4051:291:a148:159a:ee30:ad1b:2179\n",
      "186.112.199.10\n",
      "156.199.200.186\n",
      "103.164.47.189\n",
      "2600:8805:a981:4300:65d3:9258:af92:d91c\n",
      "2401:4900:c16:df76:13e:4e10:599a:642e\n",
      "76.8.32.203\n",
      "83.223.241.43\n",
      "64.119.192.201\n",
      "223.196.166.69\n",
      "165.82.134.144\n",
      "206.214.57.47\n",
      "--------------------\n",
      "history url is: http://en.wikipedia.org/w/index.php?title=Reflective_programming&action=history\n"
     ]
    },
    {
     "ename": "KeyboardInterrupt",
     "evalue": "",
     "output_type": "error",
     "traceback": [
      "\u001b[0;31m---------------------------------------------------------------------------\u001b[0m",
      "\u001b[0;31mKeyboardInterrupt\u001b[0m                         Traceback (most recent call last)",
      "\u001b[1;32m/Users/danyow/Desktop/extra-learning/spyier/chapter12-api.ipynb Cell 8\u001b[0m in \u001b[0;36m<cell line: 3>\u001b[0;34m()\u001b[0m\n\u001b[1;32m      <a href='vscode-notebook-cell:/Users/danyow/Desktop/extra-learning/spyier/chapter12-api.ipynb#X11sZmlsZQ%3D%3D?line=3'>4</a>\u001b[0m \u001b[39mfor\u001b[39;00m link \u001b[39min\u001b[39;00m links:\n\u001b[1;32m      <a href='vscode-notebook-cell:/Users/danyow/Desktop/extra-learning/spyier/chapter12-api.ipynb#X11sZmlsZQ%3D%3D?line=4'>5</a>\u001b[0m     \u001b[39mprint\u001b[39m(\u001b[39m'\u001b[39m\u001b[39m-\u001b[39m\u001b[39m'\u001b[39m\u001b[39m*\u001b[39m\u001b[39m20\u001b[39m) \n\u001b[0;32m----> <a href='vscode-notebook-cell:/Users/danyow/Desktop/extra-learning/spyier/chapter12-api.ipynb#X11sZmlsZQ%3D%3D?line=5'>6</a>\u001b[0m     historyIPs \u001b[39m=\u001b[39m getHistoryIPs(link\u001b[39m.\u001b[39;49mattrs[\u001b[39m'\u001b[39;49m\u001b[39mhref\u001b[39;49m\u001b[39m'\u001b[39;49m])\n\u001b[1;32m      <a href='vscode-notebook-cell:/Users/danyow/Desktop/extra-learning/spyier/chapter12-api.ipynb#X11sZmlsZQ%3D%3D?line=6'>7</a>\u001b[0m     \u001b[39mfor\u001b[39;00m historyIP \u001b[39min\u001b[39;00m historyIPs:\n\u001b[1;32m      <a href='vscode-notebook-cell:/Users/danyow/Desktop/extra-learning/spyier/chapter12-api.ipynb#X11sZmlsZQ%3D%3D?line=7'>8</a>\u001b[0m         \u001b[39mprint\u001b[39m(historyIP)\n",
      "\u001b[1;32m/Users/danyow/Desktop/extra-learning/spyier/chapter12-api.ipynb Cell 8\u001b[0m in \u001b[0;36mgetHistoryIPs\u001b[0;34m(pageUrl)\u001b[0m\n\u001b[1;32m      <a href='vscode-notebook-cell:/Users/danyow/Desktop/extra-learning/spyier/chapter12-api.ipynb#X11sZmlsZQ%3D%3D?line=4'>5</a>\u001b[0m     historyUrl \u001b[39m=\u001b[39m \u001b[39m'\u001b[39m\u001b[39mhttp://en.wikipedia.org/w/index.php?title=\u001b[39m\u001b[39m{}\u001b[39;00m\u001b[39m&action=history\u001b[39m\u001b[39m'\u001b[39m\u001b[39m.\u001b[39mformat(pageUrl)\n\u001b[1;32m      <a href='vscode-notebook-cell:/Users/danyow/Desktop/extra-learning/spyier/chapter12-api.ipynb#X11sZmlsZQ%3D%3D?line=5'>6</a>\u001b[0m     \u001b[39mprint\u001b[39m(\u001b[39m'\u001b[39m\u001b[39mhistory url is: \u001b[39m\u001b[39m{}\u001b[39;00m\u001b[39m'\u001b[39m\u001b[39m.\u001b[39mformat(historyUrl))\n\u001b[0;32m----> <a href='vscode-notebook-cell:/Users/danyow/Desktop/extra-learning/spyier/chapter12-api.ipynb#X11sZmlsZQ%3D%3D?line=6'>7</a>\u001b[0m     html \u001b[39m=\u001b[39m urlopen(historyUrl)\n\u001b[1;32m      <a href='vscode-notebook-cell:/Users/danyow/Desktop/extra-learning/spyier/chapter12-api.ipynb#X11sZmlsZQ%3D%3D?line=7'>8</a>\u001b[0m     bs \u001b[39m=\u001b[39m BeautifulSoup(html, \u001b[39m'\u001b[39m\u001b[39mhtml.parser\u001b[39m\u001b[39m'\u001b[39m)\n\u001b[1;32m      <a href='vscode-notebook-cell:/Users/danyow/Desktop/extra-learning/spyier/chapter12-api.ipynb#X11sZmlsZQ%3D%3D?line=8'>9</a>\u001b[0m \u001b[39m# 找出class属性是\"mw-userlink mw-anonuserlink\"的链接\u001b[39;00m\n\u001b[1;32m     <a href='vscode-notebook-cell:/Users/danyow/Desktop/extra-learning/spyier/chapter12-api.ipynb#X11sZmlsZQ%3D%3D?line=9'>10</a>\u001b[0m \u001b[39m# 它们用IP地址代替用户名\u001b[39;00m\n",
      "File \u001b[0;32m/Library/Frameworks/Python.framework/Versions/3.9/lib/python3.9/urllib/request.py:214\u001b[0m, in \u001b[0;36murlopen\u001b[0;34m(url, data, timeout, cafile, capath, cadefault, context)\u001b[0m\n\u001b[1;32m    212\u001b[0m \u001b[39melse\u001b[39;00m:\n\u001b[1;32m    213\u001b[0m     opener \u001b[39m=\u001b[39m _opener\n\u001b[0;32m--> 214\u001b[0m \u001b[39mreturn\u001b[39;00m opener\u001b[39m.\u001b[39;49mopen(url, data, timeout)\n",
      "File \u001b[0;32m/Library/Frameworks/Python.framework/Versions/3.9/lib/python3.9/urllib/request.py:517\u001b[0m, in \u001b[0;36mOpenerDirector.open\u001b[0;34m(self, fullurl, data, timeout)\u001b[0m\n\u001b[1;32m    514\u001b[0m     req \u001b[39m=\u001b[39m meth(req)\n\u001b[1;32m    516\u001b[0m sys\u001b[39m.\u001b[39maudit(\u001b[39m'\u001b[39m\u001b[39murllib.Request\u001b[39m\u001b[39m'\u001b[39m, req\u001b[39m.\u001b[39mfull_url, req\u001b[39m.\u001b[39mdata, req\u001b[39m.\u001b[39mheaders, req\u001b[39m.\u001b[39mget_method())\n\u001b[0;32m--> 517\u001b[0m response \u001b[39m=\u001b[39m \u001b[39mself\u001b[39;49m\u001b[39m.\u001b[39;49m_open(req, data)\n\u001b[1;32m    519\u001b[0m \u001b[39m# post-process response\u001b[39;00m\n\u001b[1;32m    520\u001b[0m meth_name \u001b[39m=\u001b[39m protocol\u001b[39m+\u001b[39m\u001b[39m\"\u001b[39m\u001b[39m_response\u001b[39m\u001b[39m\"\u001b[39m\n",
      "File \u001b[0;32m/Library/Frameworks/Python.framework/Versions/3.9/lib/python3.9/urllib/request.py:534\u001b[0m, in \u001b[0;36mOpenerDirector._open\u001b[0;34m(self, req, data)\u001b[0m\n\u001b[1;32m    531\u001b[0m     \u001b[39mreturn\u001b[39;00m result\n\u001b[1;32m    533\u001b[0m protocol \u001b[39m=\u001b[39m req\u001b[39m.\u001b[39mtype\n\u001b[0;32m--> 534\u001b[0m result \u001b[39m=\u001b[39m \u001b[39mself\u001b[39;49m\u001b[39m.\u001b[39;49m_call_chain(\u001b[39mself\u001b[39;49m\u001b[39m.\u001b[39;49mhandle_open, protocol, protocol \u001b[39m+\u001b[39;49m\n\u001b[1;32m    535\u001b[0m                           \u001b[39m'\u001b[39;49m\u001b[39m_open\u001b[39;49m\u001b[39m'\u001b[39;49m, req)\n\u001b[1;32m    536\u001b[0m \u001b[39mif\u001b[39;00m result:\n\u001b[1;32m    537\u001b[0m     \u001b[39mreturn\u001b[39;00m result\n",
      "File \u001b[0;32m/Library/Frameworks/Python.framework/Versions/3.9/lib/python3.9/urllib/request.py:494\u001b[0m, in \u001b[0;36mOpenerDirector._call_chain\u001b[0;34m(self, chain, kind, meth_name, *args)\u001b[0m\n\u001b[1;32m    492\u001b[0m \u001b[39mfor\u001b[39;00m handler \u001b[39min\u001b[39;00m handlers:\n\u001b[1;32m    493\u001b[0m     func \u001b[39m=\u001b[39m \u001b[39mgetattr\u001b[39m(handler, meth_name)\n\u001b[0;32m--> 494\u001b[0m     result \u001b[39m=\u001b[39m func(\u001b[39m*\u001b[39;49margs)\n\u001b[1;32m    495\u001b[0m     \u001b[39mif\u001b[39;00m result \u001b[39mis\u001b[39;00m \u001b[39mnot\u001b[39;00m \u001b[39mNone\u001b[39;00m:\n\u001b[1;32m    496\u001b[0m         \u001b[39mreturn\u001b[39;00m result\n",
      "File \u001b[0;32m/Library/Frameworks/Python.framework/Versions/3.9/lib/python3.9/urllib/request.py:1375\u001b[0m, in \u001b[0;36mHTTPHandler.http_open\u001b[0;34m(self, req)\u001b[0m\n\u001b[1;32m   1374\u001b[0m \u001b[39mdef\u001b[39;00m \u001b[39mhttp_open\u001b[39m(\u001b[39mself\u001b[39m, req):\n\u001b[0;32m-> 1375\u001b[0m     \u001b[39mreturn\u001b[39;00m \u001b[39mself\u001b[39;49m\u001b[39m.\u001b[39;49mdo_open(http\u001b[39m.\u001b[39;49mclient\u001b[39m.\u001b[39;49mHTTPConnection, req)\n",
      "File \u001b[0;32m/Library/Frameworks/Python.framework/Versions/3.9/lib/python3.9/urllib/request.py:1350\u001b[0m, in \u001b[0;36mAbstractHTTPHandler.do_open\u001b[0;34m(self, http_class, req, **http_conn_args)\u001b[0m\n\u001b[1;32m   1348\u001b[0m     \u001b[39mexcept\u001b[39;00m \u001b[39mOSError\u001b[39;00m \u001b[39mas\u001b[39;00m err: \u001b[39m# timeout error\u001b[39;00m\n\u001b[1;32m   1349\u001b[0m         \u001b[39mraise\u001b[39;00m URLError(err)\n\u001b[0;32m-> 1350\u001b[0m     r \u001b[39m=\u001b[39m h\u001b[39m.\u001b[39;49mgetresponse()\n\u001b[1;32m   1351\u001b[0m \u001b[39mexcept\u001b[39;00m:\n\u001b[1;32m   1352\u001b[0m     h\u001b[39m.\u001b[39mclose()\n",
      "File \u001b[0;32m/Library/Frameworks/Python.framework/Versions/3.9/lib/python3.9/http/client.py:1347\u001b[0m, in \u001b[0;36mHTTPConnection.getresponse\u001b[0;34m(self)\u001b[0m\n\u001b[1;32m   1345\u001b[0m \u001b[39mtry\u001b[39;00m:\n\u001b[1;32m   1346\u001b[0m     \u001b[39mtry\u001b[39;00m:\n\u001b[0;32m-> 1347\u001b[0m         response\u001b[39m.\u001b[39;49mbegin()\n\u001b[1;32m   1348\u001b[0m     \u001b[39mexcept\u001b[39;00m \u001b[39mConnectionError\u001b[39;00m:\n\u001b[1;32m   1349\u001b[0m         \u001b[39mself\u001b[39m\u001b[39m.\u001b[39mclose()\n",
      "File \u001b[0;32m/Library/Frameworks/Python.framework/Versions/3.9/lib/python3.9/http/client.py:307\u001b[0m, in \u001b[0;36mHTTPResponse.begin\u001b[0;34m(self)\u001b[0m\n\u001b[1;32m    305\u001b[0m \u001b[39m# read until we get a non-100 response\u001b[39;00m\n\u001b[1;32m    306\u001b[0m \u001b[39mwhile\u001b[39;00m \u001b[39mTrue\u001b[39;00m:\n\u001b[0;32m--> 307\u001b[0m     version, status, reason \u001b[39m=\u001b[39m \u001b[39mself\u001b[39;49m\u001b[39m.\u001b[39;49m_read_status()\n\u001b[1;32m    308\u001b[0m     \u001b[39mif\u001b[39;00m status \u001b[39m!=\u001b[39m CONTINUE:\n\u001b[1;32m    309\u001b[0m         \u001b[39mbreak\u001b[39;00m\n",
      "File \u001b[0;32m/Library/Frameworks/Python.framework/Versions/3.9/lib/python3.9/http/client.py:268\u001b[0m, in \u001b[0;36mHTTPResponse._read_status\u001b[0;34m(self)\u001b[0m\n\u001b[1;32m    267\u001b[0m \u001b[39mdef\u001b[39;00m \u001b[39m_read_status\u001b[39m(\u001b[39mself\u001b[39m):\n\u001b[0;32m--> 268\u001b[0m     line \u001b[39m=\u001b[39m \u001b[39mstr\u001b[39m(\u001b[39mself\u001b[39;49m\u001b[39m.\u001b[39;49mfp\u001b[39m.\u001b[39;49mreadline(_MAXLINE \u001b[39m+\u001b[39;49m \u001b[39m1\u001b[39;49m), \u001b[39m\"\u001b[39m\u001b[39miso-8859-1\u001b[39m\u001b[39m\"\u001b[39m)\n\u001b[1;32m    269\u001b[0m     \u001b[39mif\u001b[39;00m \u001b[39mlen\u001b[39m(line) \u001b[39m>\u001b[39m _MAXLINE:\n\u001b[1;32m    270\u001b[0m         \u001b[39mraise\u001b[39;00m LineTooLong(\u001b[39m\"\u001b[39m\u001b[39mstatus line\u001b[39m\u001b[39m\"\u001b[39m)\n",
      "File \u001b[0;32m/Library/Frameworks/Python.framework/Versions/3.9/lib/python3.9/socket.py:704\u001b[0m, in \u001b[0;36mSocketIO.readinto\u001b[0;34m(self, b)\u001b[0m\n\u001b[1;32m    702\u001b[0m \u001b[39mwhile\u001b[39;00m \u001b[39mTrue\u001b[39;00m:\n\u001b[1;32m    703\u001b[0m     \u001b[39mtry\u001b[39;00m:\n\u001b[0;32m--> 704\u001b[0m         \u001b[39mreturn\u001b[39;00m \u001b[39mself\u001b[39;49m\u001b[39m.\u001b[39;49m_sock\u001b[39m.\u001b[39;49mrecv_into(b)\n\u001b[1;32m    705\u001b[0m     \u001b[39mexcept\u001b[39;00m timeout:\n\u001b[1;32m    706\u001b[0m         \u001b[39mself\u001b[39m\u001b[39m.\u001b[39m_timeout_occurred \u001b[39m=\u001b[39m \u001b[39mTrue\u001b[39;00m\n",
      "\u001b[0;31mKeyboardInterrupt\u001b[0m: "
     ]
    }
   ],
   "source": [
    "links = getLinks('/wiki/Python_(programming_language)')\n",
    "\n",
    "while(len(links) > 0):\n",
    "    for link in links:\n",
    "        print('-'*20) \n",
    "        historyIPs = getHistoryIPs(link.attrs['href'])\n",
    "        for historyIP in historyIPs:\n",
    "            print(historyIP)\n",
    "\n",
    "    newLink = links[random.randint(0, len(links)-1)].attrs['href']\n",
    "    links = getLinks(newLink)"
   ]
  },
  {
   "cell_type": "code",
   "execution_count": 12,
   "metadata": {},
   "outputs": [
    {
     "name": "stdout",
     "output_type": "stream",
     "text": [
      "--------------------\n",
      "history url is: http://en.wikipedia.org/w/index.php?title=Programming_paradigm&action=history\n"
     ]
    },
    {
     "ename": "JSONDecodeError",
     "evalue": "Expecting value: line 1 column 1 (char 0)",
     "output_type": "error",
     "traceback": [
      "\u001b[0;31m---------------------------------------------------------------------------\u001b[0m",
      "\u001b[0;31mJSONDecodeError\u001b[0m                           Traceback (most recent call last)",
      "\u001b[1;32m/Users/danyow/Desktop/extra-learning/spyier/chapter12-api.ipynb Cell 9\u001b[0m in \u001b[0;36m<cell line: 12>\u001b[0;34m()\u001b[0m\n\u001b[1;32m     <a href='vscode-notebook-cell:/Users/danyow/Desktop/extra-learning/spyier/chapter12-api.ipynb#X12sZmlsZQ%3D%3D?line=14'>15</a>\u001b[0m historyIPs \u001b[39m=\u001b[39m getHistoryIPs(link\u001b[39m.\u001b[39mattrs[\u001b[39m\"\u001b[39m\u001b[39mhref\u001b[39m\u001b[39m\"\u001b[39m])\n\u001b[1;32m     <a href='vscode-notebook-cell:/Users/danyow/Desktop/extra-learning/spyier/chapter12-api.ipynb#X12sZmlsZQ%3D%3D?line=15'>16</a>\u001b[0m \u001b[39mfor\u001b[39;00m historyIP \u001b[39min\u001b[39;00m historyIPs:\n\u001b[0;32m---> <a href='vscode-notebook-cell:/Users/danyow/Desktop/extra-learning/spyier/chapter12-api.ipynb#X12sZmlsZQ%3D%3D?line=16'>17</a>\u001b[0m     country \u001b[39m=\u001b[39m getCountry(historyIP)\n\u001b[1;32m     <a href='vscode-notebook-cell:/Users/danyow/Desktop/extra-learning/spyier/chapter12-api.ipynb#X12sZmlsZQ%3D%3D?line=17'>18</a>\u001b[0m     \u001b[39mif\u001b[39;00m country \u001b[39mis\u001b[39;00m \u001b[39mnot\u001b[39;00m \u001b[39mNone\u001b[39;00m:\n\u001b[1;32m     <a href='vscode-notebook-cell:/Users/danyow/Desktop/extra-learning/spyier/chapter12-api.ipynb#X12sZmlsZQ%3D%3D?line=18'>19</a>\u001b[0m         \u001b[39mprint\u001b[39m(\u001b[39m'\u001b[39m\u001b[39m{}\u001b[39;00m\u001b[39m is from \u001b[39m\u001b[39m{}\u001b[39;00m\u001b[39m'\u001b[39m\u001b[39m.\u001b[39mformat(historyIP, country))\n",
      "\u001b[1;32m/Users/danyow/Desktop/extra-learning/spyier/chapter12-api.ipynb Cell 9\u001b[0m in \u001b[0;36mgetCountry\u001b[0;34m(ipAddress)\u001b[0m\n\u001b[1;32m      <a href='vscode-notebook-cell:/Users/danyow/Desktop/extra-learning/spyier/chapter12-api.ipynb#X12sZmlsZQ%3D%3D?line=4'>5</a>\u001b[0m \u001b[39mexcept\u001b[39;00m HTTPError:\n\u001b[1;32m      <a href='vscode-notebook-cell:/Users/danyow/Desktop/extra-learning/spyier/chapter12-api.ipynb#X12sZmlsZQ%3D%3D?line=5'>6</a>\u001b[0m     \u001b[39mreturn\u001b[39;00m \u001b[39mNone\u001b[39;00m\n\u001b[0;32m----> <a href='vscode-notebook-cell:/Users/danyow/Desktop/extra-learning/spyier/chapter12-api.ipynb#X12sZmlsZQ%3D%3D?line=6'>7</a>\u001b[0m responseJson \u001b[39m=\u001b[39m json\u001b[39m.\u001b[39;49mloads(response)\n\u001b[1;32m      <a href='vscode-notebook-cell:/Users/danyow/Desktop/extra-learning/spyier/chapter12-api.ipynb#X12sZmlsZQ%3D%3D?line=7'>8</a>\u001b[0m \u001b[39mreturn\u001b[39;00m responseJson\u001b[39m.\u001b[39mget(\u001b[39m'\u001b[39m\u001b[39mcountry_code\u001b[39m\u001b[39m'\u001b[39m)\n",
      "File \u001b[0;32m/Library/Frameworks/Python.framework/Versions/3.9/lib/python3.9/json/__init__.py:346\u001b[0m, in \u001b[0;36mloads\u001b[0;34m(s, cls, object_hook, parse_float, parse_int, parse_constant, object_pairs_hook, **kw)\u001b[0m\n\u001b[1;32m    341\u001b[0m     s \u001b[39m=\u001b[39m s\u001b[39m.\u001b[39mdecode(detect_encoding(s), \u001b[39m'\u001b[39m\u001b[39msurrogatepass\u001b[39m\u001b[39m'\u001b[39m)\n\u001b[1;32m    343\u001b[0m \u001b[39mif\u001b[39;00m (\u001b[39mcls\u001b[39m \u001b[39mis\u001b[39;00m \u001b[39mNone\u001b[39;00m \u001b[39mand\u001b[39;00m object_hook \u001b[39mis\u001b[39;00m \u001b[39mNone\u001b[39;00m \u001b[39mand\u001b[39;00m\n\u001b[1;32m    344\u001b[0m         parse_int \u001b[39mis\u001b[39;00m \u001b[39mNone\u001b[39;00m \u001b[39mand\u001b[39;00m parse_float \u001b[39mis\u001b[39;00m \u001b[39mNone\u001b[39;00m \u001b[39mand\u001b[39;00m\n\u001b[1;32m    345\u001b[0m         parse_constant \u001b[39mis\u001b[39;00m \u001b[39mNone\u001b[39;00m \u001b[39mand\u001b[39;00m object_pairs_hook \u001b[39mis\u001b[39;00m \u001b[39mNone\u001b[39;00m \u001b[39mand\u001b[39;00m \u001b[39mnot\u001b[39;00m kw):\n\u001b[0;32m--> 346\u001b[0m     \u001b[39mreturn\u001b[39;00m _default_decoder\u001b[39m.\u001b[39;49mdecode(s)\n\u001b[1;32m    347\u001b[0m \u001b[39mif\u001b[39;00m \u001b[39mcls\u001b[39m \u001b[39mis\u001b[39;00m \u001b[39mNone\u001b[39;00m:\n\u001b[1;32m    348\u001b[0m     \u001b[39mcls\u001b[39m \u001b[39m=\u001b[39m JSONDecoder\n",
      "File \u001b[0;32m/Library/Frameworks/Python.framework/Versions/3.9/lib/python3.9/json/decoder.py:337\u001b[0m, in \u001b[0;36mJSONDecoder.decode\u001b[0;34m(self, s, _w)\u001b[0m\n\u001b[1;32m    332\u001b[0m \u001b[39mdef\u001b[39;00m \u001b[39mdecode\u001b[39m(\u001b[39mself\u001b[39m, s, _w\u001b[39m=\u001b[39mWHITESPACE\u001b[39m.\u001b[39mmatch):\n\u001b[1;32m    333\u001b[0m     \u001b[39m\"\"\"Return the Python representation of ``s`` (a ``str`` instance\u001b[39;00m\n\u001b[1;32m    334\u001b[0m \u001b[39m    containing a JSON document).\u001b[39;00m\n\u001b[1;32m    335\u001b[0m \n\u001b[1;32m    336\u001b[0m \u001b[39m    \"\"\"\u001b[39;00m\n\u001b[0;32m--> 337\u001b[0m     obj, end \u001b[39m=\u001b[39m \u001b[39mself\u001b[39;49m\u001b[39m.\u001b[39;49mraw_decode(s, idx\u001b[39m=\u001b[39;49m_w(s, \u001b[39m0\u001b[39;49m)\u001b[39m.\u001b[39;49mend())\n\u001b[1;32m    338\u001b[0m     end \u001b[39m=\u001b[39m _w(s, end)\u001b[39m.\u001b[39mend()\n\u001b[1;32m    339\u001b[0m     \u001b[39mif\u001b[39;00m end \u001b[39m!=\u001b[39m \u001b[39mlen\u001b[39m(s):\n",
      "File \u001b[0;32m/Library/Frameworks/Python.framework/Versions/3.9/lib/python3.9/json/decoder.py:355\u001b[0m, in \u001b[0;36mJSONDecoder.raw_decode\u001b[0;34m(self, s, idx)\u001b[0m\n\u001b[1;32m    353\u001b[0m     obj, end \u001b[39m=\u001b[39m \u001b[39mself\u001b[39m\u001b[39m.\u001b[39mscan_once(s, idx)\n\u001b[1;32m    354\u001b[0m \u001b[39mexcept\u001b[39;00m \u001b[39mStopIteration\u001b[39;00m \u001b[39mas\u001b[39;00m err:\n\u001b[0;32m--> 355\u001b[0m     \u001b[39mraise\u001b[39;00m JSONDecodeError(\u001b[39m\"\u001b[39m\u001b[39mExpecting value\u001b[39m\u001b[39m\"\u001b[39m, s, err\u001b[39m.\u001b[39mvalue) \u001b[39mfrom\u001b[39;00m \u001b[39mNone\u001b[39m\n\u001b[1;32m    356\u001b[0m \u001b[39mreturn\u001b[39;00m obj, end\n",
      "\u001b[0;31mJSONDecodeError\u001b[0m: Expecting value: line 1 column 1 (char 0)"
     ]
    }
   ],
   "source": [
    "def getCountry(ipAddress):\n",
    "    try:\n",
    "        response = urlopen(\n",
    "            'http://freegeoip.net/json/{}'.format(ipAddress)).read().decode('utf-8')\n",
    "    except HTTPError:\n",
    "        return None\n",
    "    responseJson = json.loads(response)\n",
    "    return responseJson.get('country_code')\n",
    "    \n",
    "links = getLinks('/wiki/Python_(programming_language)')\n",
    "\n",
    "while(len(links) > 0):\n",
    "    for link in links:\n",
    "        print('-'*20) \n",
    "        historyIPs = getHistoryIPs(link.attrs[\"href\"])\n",
    "        for historyIP in historyIPs:\n",
    "            country = getCountry(historyIP)\n",
    "            if country is not None:\n",
    "                print('{} is from {}'.format(historyIP, country))\n",
    "\n",
    "    newLink = links[random.randint(0, len(links)-1)].attrs['href']\n",
    "    links = getLinks(newLink)"
   ]
  }
 ],
 "metadata": {
  "kernelspec": {
   "display_name": "Python 3.9.2 ('myenvs')",
   "language": "python",
   "name": "python3"
  },
  "language_info": {
   "codemirror_mode": {
    "name": "ipython",
    "version": 3
   },
   "file_extension": ".py",
   "mimetype": "text/x-python",
   "name": "python",
   "nbconvert_exporter": "python",
   "pygments_lexer": "ipython3",
   "version": "3.9.2"
  },
  "orig_nbformat": 4,
  "vscode": {
   "interpreter": {
    "hash": "a051216bf3a65c020b643b52ab15d0714db61718a99958c54a11e422694469a1"
   }
  }
 },
 "nbformat": 4,
 "nbformat_minor": 2
}
