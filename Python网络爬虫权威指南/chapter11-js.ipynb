{
 "cells": [
  {
   "cell_type": "markdown",
   "metadata": {},
   "source": [
    "如果你在一个网站上看到了 jQuery，那么抓取这个网站的数据时要格外小心。jQuery 可以 动态地创建 HTML 内容，这些内容只有在 JavaScript 代码执行之后才会显示。如果你用传 统的方法抓取页面内容，就只能获得 JavaScript 代码执行之前页面上的内容"
   ]
  },
  {
   "cell_type": "markdown",
   "metadata": {},
   "source": [
    "<!-- Google Analytics -->\n",
    "js代码展示\n",
    "<script type=\"text/javascript\">\n",
    "      var _gaq = _gaq || [];\n",
    "      _gaq.push(['_setAccount', 'UA-4591498-1']);\n",
    "      _gaq.push(['_setDomainName', 'oreilly.com']);\n",
    "      _gaq.push(['_addIgnoredRef', 'oreilly.com']);\n",
    "      _gaq.push(['_setSiteSpeedSampleRate', 50]);\n",
    "      _gaq.push(['_trackPageview']);\n",
    "     (function() { var ga = document.createElement('script'); ga.type =\n",
    "     'text/javascript'; ga.async = true; ga.src = ('https:' ==\n",
    "     document.location.protocol ? 'https://ssl' : 'http://www') +\n",
    "     '.google-analytics.com/ga.js'; var s =\n",
    "     document.getElementsByTagName('script')[0];\n",
    "     s.parentNode.insertBefore(ga, s); })();\n",
    "</script>"
   ]
  },
  {
   "cell_type": "markdown",
   "metadata": {},
   "source": [
    "2.  Ajax和动态HTML\n",
    "\n",
    "Ajax 的全称是 Asynchronous JavaScript and XML(异步 JavaScript 和 XML)，网站不需要使用单独的页面请求就可以和 Web 服务器进行交互(收 发信息)。\n"
   ]
  },
  {
   "cell_type": "code",
   "execution_count": 5,
   "metadata": {},
   "outputs": [
    {
     "data": {
      "text/plain": [
       "'我还是在 http://pythonscraping.com/ pages/javascript/ajaxDemo.html \\n创建了一个简单的页面来运行我们的爬虫。这个页面上有一 些简单的文字，是手工敲在 HTML 代码里的，\\n打开页面两秒钟之后，它们就会被替换成由 Ajax 生成的内容。如果我们用传统的方法抓取这个页面，\\n只能获取加载页面，而我们真正 需要的信息(Ajax 执行之后的页面)却抓不到。'"
      ]
     },
     "execution_count": 5,
     "metadata": {},
     "output_type": "execute_result"
    }
   ],
   "source": [
    "'''\n",
    "# 在python中用selenium执行js\n",
    "Selenium 是一个强大的网页抓取工具，最初是为网站自动化测试而开发的。\n",
    "近几年，它还被 广泛用于获取精确的网站快照，因为网站可以直接运行在浏览器中。\n",
    "Selenium 可以让浏览器 自动加载网站，获取需要的数据，甚至对页面截屏，或者判断网站上是否发生了某些操作。\n",
    "\n",
    "\n",
    "---------------------------------------------------------\n",
    "的动作。虽然这样可以看得更清楚，\n",
    "但是我更喜欢让程序在后台静静地运行，所以我用一 个叫 PhantomJS 的工具代替真实的浏览器。\n",
    "\n",
    "\n",
    "---------------------------------------------------------\n",
    "PhantomJS 是一个无头浏览器(headless browser)。它会把网站加载到内存并执行页面上的 JavaScript，\n",
    "但是它不会向用户展示网页的图形界面。把 Selenium 和 PhantomJS 结合在一 起，\n",
    "就可以运行一个非常强大的网络爬虫来轻松处理 cookie、JavaScript、header 以及任何 你需要做的\n",
    "'''\n",
    "'''我还是在 http://pythonscraping.com/ pages/javascript/ajaxDemo.html \n",
    "创建了一个简单的页面来运行我们的爬虫。这个页面上有一 些简单的文字，是手工敲在 HTML 代码里的，\n",
    "打开页面两秒钟之后，它们就会被替换成由 Ajax 生成的内容。如果我们用传统的方法抓取这个页面，\n",
    "只能获取加载页面，而我们真正 需要的信息(Ajax 执行之后的页面)却抓不到。'''\n",
    "\n"
   ]
  },
  {
   "cell_type": "code",
   "execution_count": 7,
   "metadata": {},
   "outputs": [],
   "source": [
    "from selenium import webdriver\n",
    "from selenium.webdriver.chrome.options import Options\n",
    "import time"
   ]
  },
  {
   "cell_type": "code",
   "execution_count": 9,
   "metadata": {},
   "outputs": [],
   "source": [
    "# driver = webdriver.PhantomJS(executable_path='</Users/danyow/chromedriver>')\n",
    "\n",
    "chrome_options = Options()\n",
    "chrome_options.add_argument(\"--headless\")\n",
    "# driver = webdriver.Chrome(\n",
    "#     executable_path='/Users/danyow/chromedriver', \n",
    "#     options=chrome_options)\n",
    "driver = webdriver.Chrome(\n",
    "    executable_path='/Users/danyow/chromedriver', \n",
    ")\n"
   ]
  },
  {
   "cell_type": "code",
   "execution_count": 10,
   "metadata": {},
   "outputs": [
    {
     "name": "stdout",
     "output_type": "stream",
     "text": [
      "Here is some important text you want to retrieve!\n",
      "A button to click!\n"
     ]
    }
   ],
   "source": [
    "\n",
    "driver.get('http://pythonscraping.com/pages/javascript/ajaxDemo.html')\n",
    "time.sleep(3)\n",
    "print(driver.find_element_by_id('content').text)\n",
    "driver.close()"
   ]
  },
  {
   "cell_type": "markdown",
   "metadata": {},
   "source": [
    "在处理规模较大的网站时可能会出问题。页面的 加载时间是不确定的，具体依赖于服务器某一毫秒的负载情况，以及不断变化的网速。虽 然这个页面只需要 2 秒多的加载时间，\n",
    "但是我们设置了 3 秒的等待时间以确保页面完全加 载。一种更加高效的方法是，\n",
    "让 Selenium 不断地检查某个元素是否存在，以此确定页面是 否已经完全加载，如果页面加载成功就执行后面的程序。"
   ]
  },
  {
   "cell_type": "code",
   "execution_count": 14,
   "metadata": {},
   "outputs": [],
   "source": [
    "from selenium import webdriver\n",
    "from selenium.webdriver.common.by import By\n",
    "from selenium.webdriver.support.ui import WebDriverWait\n",
    "from selenium.webdriver.support import expected_conditions as EC"
   ]
  },
  {
   "cell_type": "code",
   "execution_count": 15,
   "metadata": {},
   "outputs": [
    {
     "name": "stdout",
     "output_type": "stream",
     "text": [
      "Here is some important text you want to retrieve!\n",
      "A button to click!\n"
     ]
    }
   ],
   "source": [
    "'''\n",
    "下面的程序检查 ID 为 loadedButton 的按钮是否存在，以此判断页面是不是已经完全加载:\n",
    "'''\n",
    "driver = webdriver.Chrome(\n",
    "    executable_path='/Users/danyow/chromedriver', \n",
    ")\n",
    "\n",
    "driver.get('http://pythonscraping.com/pages/javascript/ajaxDemo.html')\n",
    "try:\n",
    "    # 一个定位器被用来查找 ID 为 loadedButton 的按钮:\n",
    "    element = WebDriverWait(driver, 10).until(\n",
    "    EC.presence_of_element_located((By.ID, 'loadedButton')))\n",
    "finally:\n",
    "    # 定位器还可以用来创建选择器，配合 WebDriver 的 find_element 函数使用:\n",
    "    print(driver.find_element_by_id('content').text)\n",
    "    driver.close()\n"
   ]
  },
  {
   "cell_type": "markdown",
   "metadata": {},
   "source": [
    "3. 处理重定向\n",
    "\n",
    "客户端重定向是在服务器将页面内容发送到浏览器之前，由浏览器执行 JavaScript 完成的 页面跳转，而不是服务器完成的跳转。当使用浏览器访问页面的时候，有时很难区分这两 种重定向。由于客户端重定向执行得很快，加载页面时你甚至感觉不到任何延迟，所以会 让你觉得这个重定向就是一个服务器端重定向。"
   ]
  },
  {
   "cell_type": "code",
   "execution_count": 16,
   "metadata": {},
   "outputs": [
    {
     "name": "stdout",
     "output_type": "stream",
     "text": [
      "超过10秒，即将返回\n",
      "<html><head>\n",
      "<title>The Destination Page!</title>\n",
      "\n",
      "</head>\n",
      "<body>\n",
      "This is the page you are looking for!\n",
      "\n",
      "</body></html>\n"
     ]
    }
   ],
   "source": [
    "from selenium import webdriver\n",
    "import time \n",
    "from selenium.webdriver.remote.webelement import WebElement\n",
    "from selenium.common.exceptions import StaleElementReferenceException\n",
    "\n",
    "def waitForLoad(driver):\n",
    "    elem = driver.find_element_by_tag_name(\"html\")\n",
    "    count = 0 \n",
    "    while True:\n",
    "        count += 1\n",
    "        if count>20:\n",
    "            print(\"超过10秒，即将返回\")\n",
    "            return \n",
    "        time.sleep(.5)\n",
    "        try:\n",
    "            elem == driver.find_element_by_tag_name(\"html\")\n",
    "\n",
    "        except StaleElementReferenceException:\n",
    "            return\n",
    "\n",
    "driver = webdriver.Chrome(\n",
    "    executable_path='/Users/danyow/chromedriver', \n",
    ")\n",
    "driver.get('http://pythonscraping.com/pages/javascript/redirectDemo1.html')\n",
    "waitForLoad(driver)\n",
    "print(driver.page_source)\n"
   ]
  },
  {
   "cell_type": "code",
   "execution_count": 17,
   "metadata": {},
   "outputs": [
    {
     "name": "stdout",
     "output_type": "stream",
     "text": [
      "This is the page you are looking for!\n"
     ]
    }
   ],
   "source": [
    "'''等待元素的出现和消失是 Selenium 中一个常见的任务，你也可以使用前面按钮加载示例中 的 WebDriverWait 函数。\n",
    "这里提供一个 15 秒钟的时限和一个 XPath 选择器，该 XPath 选择 器寻找页面内容以完成同样的任务。'''\n",
    "from selenium.webdriver.common.by import By\n",
    "from selenium.webdriver.support.ui import WebDriverWait\n",
    "from selenium.webdriver.support import expected_conditions as EC \n",
    "from selenium.common.exceptions import TimeoutException\n",
    "\n",
    "driver = webdriver.Chrome(\n",
    "    executable_path='/Users/danyow/chromedriver', \n",
    ")\n",
    "driver.get('http://pythonscraping.com/pages/javascript/redirectDemo1.html')\n",
    "try:\n",
    "    bodyElement = WebDriverWait(driver, 15).until(EC.presence_of_element_located(\n",
    "        (By.XPATH, '//body[contains(text(), \"This is the page you are looking for!\")]')))\n",
    "    print(bodyElement.text)\n",
    "except TimeoutException:\n",
    "    print('Did not find the element')"
   ]
  },
  {
   "cell_type": "code",
   "execution_count": null,
   "metadata": {},
   "outputs": [],
   "source": []
  }
 ],
 "metadata": {
  "kernelspec": {
   "display_name": "Python 3.9.2 ('myenvs')",
   "language": "python",
   "name": "python3"
  },
  "language_info": {
   "codemirror_mode": {
    "name": "ipython",
    "version": 3
   },
   "file_extension": ".py",
   "mimetype": "text/x-python",
   "name": "python",
   "nbconvert_exporter": "python",
   "pygments_lexer": "ipython3",
   "version": "3.9.2"
  },
  "orig_nbformat": 4,
  "vscode": {
   "interpreter": {
    "hash": "a051216bf3a65c020b643b52ab15d0714db61718a99958c54a11e422694469a1"
   }
  }
 },
 "nbformat": 4,
 "nbformat_minor": 2
}
